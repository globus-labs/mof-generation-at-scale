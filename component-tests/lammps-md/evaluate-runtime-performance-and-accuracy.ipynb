{
 "cells": [
  {
   "cell_type": "markdown",
   "id": "16852d39-036e-4047-9291-a872fa6c27b4",
   "metadata": {},
   "source": [
    "# Evaluate the Performance and Accuracy as a Function of Runtime\n",
    "Longer MD simulations are good because they produce more accurate estimates of stability and are less affected by the inefficiencies of task startup.\n",
    "However, they take longer.\n",
    "We explore the tradeoff between these effects in this notebook."
   ]
  },
  {
   "cell_type": "code",
   "execution_count": 49,
   "id": "7b7d5d2b-71e5-4320-add6-d5924f0eb31a",
   "metadata": {},
   "outputs": [],
   "source": [
    "%matplotlib inline\n",
    "from matplotlib import pyplot as plt\n",
    "from pathlib import Path\n",
    "import pandas as pd"
   ]
  },
  {
   "cell_type": "markdown",
   "id": "28187804-cb72-4df3-bbaa-626ec501fd41",
   "metadata": {},
   "source": [
    "Configuration"
   ]
  },
  {
   "cell_type": "code",
   "execution_count": 50,
   "id": "a2acf389-6691-4ab2-b735-2f5605ca42a8",
   "metadata": {},
   "outputs": [],
   "source": [
    "target_system = 'polaris'"
   ]
  },
  {
   "cell_type": "markdown",
   "id": "966b5249-326a-40ee-9721-9e2945f2be93",
   "metadata": {},
   "source": [
    "## Load Runtime Results\n",
    "We saved the results of tests with different MOFs and different system configurations in `runtime.json`"
   ]
  },
  {
   "cell_type": "code",
   "execution_count": 51,
   "id": "7f91dc61-be79-4675-8ac9-4f7be7d41423",
   "metadata": {},
   "outputs": [
    {
     "name": "stdout",
     "output_type": "stream",
     "text": [
      "Loaded 718 experiments\n"
     ]
    }
   ],
   "source": [
    "runtimes = pd.read_json('runtimes.json', lines=True)\n",
    "print(f'Loaded {len(runtimes)} experiments')"
   ]
  },
  {
   "cell_type": "markdown",
   "id": "42392838-4c41-4431-8720-1de669d06945",
   "metadata": {},
   "source": [
    "Get a short name for the LAMMPS executable"
   ]
  },
  {
   "cell_type": "code",
   "execution_count": 52,
   "id": "8f0ba7cd-aa54-4bf4-b96d-6238103e963e",
   "metadata": {},
   "outputs": [],
   "source": [
    "runtimes['build'] = runtimes.lammps_cmd.apply(lambda x: x[0]).apply(lambda x: Path(x).parent.name[6:])"
   ]
  },
  {
   "cell_type": "markdown",
   "id": "83a4f021-2717-4c83-99d5-86d74c1eab2c",
   "metadata": {},
   "source": [
    "Get only the target system and LAMMPS executable"
   ]
  },
  {
   "cell_type": "code",
   "execution_count": 53,
   "id": "a5da00ce-47e3-4a6e-b7bd-345ac005c3e7",
   "metadata": {},
   "outputs": [
    {
     "name": "stdout",
     "output_type": "stream",
     "text": [
      "Downselected to 718 experiments\n"
     ]
    }
   ],
   "source": [
    "runtimes = runtimes[runtimes.host.str.startswith(target_system)]\n",
    "runtimes = runtimes[runtimes.build.str.len() > 0]\n",
    "print(f'Downselected to {len(runtimes)} experiments')"
   ]
  },
  {
   "cell_type": "code",
   "execution_count": 54,
   "id": "cb8aa881-94f6-4f31-a169-f7aae28130f9",
   "metadata": {},
   "outputs": [],
   "source": [
    "runtimes['rate'] = runtimes['timesteps'] / runtimes['runtime']"
   ]
  },
  {
   "cell_type": "markdown",
   "id": "737ecdf6-d378-4d12-ad23-d1cc1d1dcc22",
   "metadata": {},
   "source": [
    "## Plot Strain Over Timesteps\n",
    "See how much the measurements of strain change over time. Get the relative difference between the strain and that computed with the maximum timestep count for each MOF"
   ]
  },
  {
   "cell_type": "code",
   "execution_count": 55,
   "id": "a799e31f-0df6-4aa6-9b00-38fd6985e9b9",
   "metadata": {},
   "outputs": [],
   "source": [
    "def error_from_best_estimate(group):\n",
    "    best_est = group[group.timesteps == group['timesteps'].max()]['strain'].mean()\n",
    "    return (1 - group['strain'] / best_est) * 100"
   ]
  },
  {
   "cell_type": "code",
   "execution_count": 56,
   "id": "cdac523e-36b5-4ac0-9c2b-d3fffa775206",
   "metadata": {},
   "outputs": [],
   "source": [
    "runtimes['error'] = runtimes.groupby('mof', group_keys=False).apply(error_from_best_estimate)"
   ]
  },
  {
   "cell_type": "code",
   "execution_count": 57,
   "id": "558db332-c55f-4428-a712-fbacb8e204ab",
   "metadata": {},
   "outputs": [],
   "source": [
    "avg_by_length = runtimes.groupby('timesteps')[['error']].agg(['mean', 'std'])"
   ]
  },
  {
   "cell_type": "code",
   "execution_count": 58,
   "id": "8764417f-8e33-4c66-8f25-58fd2f5c2c67",
   "metadata": {},
   "outputs": [],
   "source": [
    "fig, ax = plt.subplots(figsize=(3.5, 2.5))\n",
    "\n",
    "ax.errorbar(avg_by_length.index, avg_by_length['error']['mean'], fmt='--o', yerr=avg_by_length['error']['std'])\n",
    "ax.set_xscale('log')\n",
    "\n",
    "\n",
    "ax.set_xlabel('Timesteps')\n",
    "ax.set_ylabel('Error, Relative (%)')\n",
    "fig.tight_layout()\n",
    "fig.savefig('timestep-comparison.png', dpi=320)"
   ]
  },
  {
   "cell_type": "markdown",
   "id": "a63945fa-7fe1-4572-9cda-bfbc9134693e",
   "metadata": {},
   "source": [
    "## Compare Builds\n",
    "Compare builds with a runtime of 1e6 timesteps"
   ]
  },
  {
   "cell_type": "code",
   "execution_count": 59,
   "id": "1755c29a-6e4a-4802-800d-6e20146d16ff",
   "metadata": {},
   "outputs": [],
   "source": [
    "subset = runtimes.query('timesteps == 1000000')"
   ]
  },
  {
   "cell_type": "code",
   "execution_count": 60,
   "id": "c1f54833-bdf9-4dca-a10f-9b6238faffbd",
   "metadata": {},
   "outputs": [
    {
     "data": {
      "text/html": [
       "<div>\n",
       "<style scoped>\n",
       "    .dataframe tbody tr th:only-of-type {\n",
       "        vertical-align: middle;\n",
       "    }\n",
       "\n",
       "    .dataframe tbody tr th {\n",
       "        vertical-align: top;\n",
       "    }\n",
       "\n",
       "    .dataframe thead th {\n",
       "        text-align: right;\n",
       "    }\n",
       "</style>\n",
       "<table border=\"1\" class=\"dataframe\">\n",
       "  <thead>\n",
       "    <tr style=\"text-align: right;\">\n",
       "      <th></th>\n",
       "      <th>mean</th>\n",
       "      <th>std</th>\n",
       "    </tr>\n",
       "    <tr>\n",
       "      <th>build</th>\n",
       "      <th></th>\n",
       "      <th></th>\n",
       "    </tr>\n",
       "  </thead>\n",
       "  <tbody>\n",
       "    <tr>\n",
       "      <th>kokkos-nompi</th>\n",
       "      <td>716.562612</td>\n",
       "      <td>40.063568</td>\n",
       "    </tr>\n",
       "  </tbody>\n",
       "</table>\n",
       "</div>"
      ],
      "text/plain": [
       "                    mean        std\n",
       "build                              \n",
       "kokkos-nompi  716.562612  40.063568"
      ]
     },
     "execution_count": 60,
     "metadata": {},
     "output_type": "execute_result"
    }
   ],
   "source": [
    "summary = subset.groupby('build')['rate'].agg(['mean', 'std'])\n",
    "summary"
   ]
  },
  {
   "cell_type": "code",
   "execution_count": 61,
   "id": "1d25862b-253f-4a48-9f0e-671030caf86a",
   "metadata": {},
   "outputs": [
    {
     "data": {
      "text/plain": [
       "Text(0, 0.5, 'Rate (steps/s)')"
      ]
     },
     "execution_count": 61,
     "metadata": {},
     "output_type": "execute_result"
    }
   ],
   "source": [
    "fig, ax = plt.subplots(figsize=(3.5, 2.))\n",
    "\n",
    "ax.bar(summary.index, summary['mean'], yerr=summary['std'])\n",
    "\n",
    "ax.set_ylabel('Rate (steps/s)')"
   ]
  },
  {
   "cell_type": "code",
   "execution_count": 62,
   "id": "fe08ef7a-6d94-4387-a380-2e36d553dfd1",
   "metadata": {},
   "outputs": [
    {
     "name": "stdout",
     "output_type": "stream",
     "text": [
      "Filtered to only kokkos-nompi\n"
     ]
    }
   ],
   "source": [
    "best_build = summary['mean'].idxmax()\n",
    "runtimes.query(f'build==\"{best_build}\"', inplace=True)\n",
    "print(f'Filtered to only {best_build}')"
   ]
  },
  {
   "cell_type": "markdown",
   "id": "2173745b-011f-414a-9906-95b0c4fc0ae8",
   "metadata": {},
   "source": [
    "## Plot Timestep Rate vs Timestep Count\n",
    "We should see faster simulations at larger timesteps"
   ]
  },
  {
   "cell_type": "code",
   "execution_count": 63,
   "id": "c7c5db60-9de1-4a14-827f-7ffb9ad940a2",
   "metadata": {},
   "outputs": [],
   "source": [
    "avg_by_length = runtimes.groupby('timesteps')[['runtime', 'rate']].mean()"
   ]
  },
  {
   "cell_type": "code",
   "execution_count": 64,
   "id": "d56d61be-ea63-4eef-8b26-81995b240b3c",
   "metadata": {},
   "outputs": [
    {
     "data": {
      "text/plain": [
       "Text(0, 0.5, 'Rate (steps/s)')"
      ]
     },
     "execution_count": 64,
     "metadata": {},
     "output_type": "execute_result"
    }
   ],
   "source": [
    "fig, ax = plt.subplots(figsize=(3.5, 2.5))\n",
    "\n",
    "ax.semilogx(avg_by_length.index, avg_by_length['rate'], '--o')\n",
    "\n",
    "ax.set_xlabel('Timesteps')\n",
    "ax.set_ylabel('Rate (steps/s)')"
   ]
  },
  {
   "cell_type": "markdown",
   "id": "45a867f5-ca23-48bc-b64d-f736fd05b543",
   "metadata": {},
   "source": [
    "We need $10^5$ steps on Polaris to get full performance on a GPU"
   ]
  },
  {
   "cell_type": "code",
   "execution_count": null,
   "id": "8fdf001d-583f-4d71-959e-02c7f5120bd3",
   "metadata": {},
   "outputs": [],
   "source": []
  }
 ],
 "metadata": {
  "kernelspec": {
   "display_name": "Python 3 (ipykernel)",
   "language": "python",
   "name": "python3"
  },
  "language_info": {
   "codemirror_mode": {
    "name": "ipython",
    "version": 3
   },
   "file_extension": ".py",
   "mimetype": "text/x-python",
   "name": "python",
   "nbconvert_exporter": "python",
   "pygments_lexer": "ipython3",
   "version": "3.10.8"
  }
 },
 "nbformat": 4,
 "nbformat_minor": 5
}
