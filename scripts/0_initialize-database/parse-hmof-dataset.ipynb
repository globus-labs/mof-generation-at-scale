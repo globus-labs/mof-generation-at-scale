{
 "cells": [
  {
   "cell_type": "markdown",
   "id": "7614eb71-bf4f-4c19-a37d-165bbd3d06ef",
   "metadata": {},
   "source": [
    "# Convert hMOF to JSON\n",
    "[hMOF](https://mof.tech.northwestern.edu/databases) is one of the classic MOF databases. We used it as a training set for our generative models, seed for new MOFs, and a basis for supervised learning models employed in our pipeline."
   ]
  },
  {
   "cell_type": "code",
   "execution_count": 1,
   "id": "57859205-ce46-4030-a87c-e9d078432081",
   "metadata": {
    "tags": []
   },
   "outputs": [],
   "source": [
    "from mofa.model import MOFRecord, LigandDescription, NodeDescription\n",
    "from zipfile import ZipFile\n",
    "from pathlib import Path\n",
    "from ase.io import read\n",
    "from io import StringIO\n",
    "from tqdm import tqdm\n",
    "import warnings\n",
    "import json\n",
    "import gzip"
   ]
  },
  {
   "cell_type": "markdown",
   "id": "a58a0498-6a5e-4b7a-ac19-5cf4d343af26",
   "metadata": {},
   "source": [
    "Configuration"
   ]
  },
  {
   "cell_type": "code",
   "execution_count": 2,
   "id": "94c0216e-45f9-4dc9-bf8c-3b007fa8d1ab",
   "metadata": {
    "tags": []
   },
   "outputs": [],
   "source": [
    "hmof_path = './raw-data/hMOF-10 1039 C2EE23201D-all-mofdb-version_dc8a0295db.zip'\n",
    "out_name = 'hmof'"
   ]
  },
  {
   "cell_type": "markdown",
   "id": "d0d97ae5-bb70-4993-a81a-bc92bcb1fc25",
   "metadata": {},
   "source": [
    "Derived"
   ]
  },
  {
   "cell_type": "code",
   "execution_count": 3,
   "id": "ddc36c1e-9331-41c5-ba6e-9b4553ec6f6f",
   "metadata": {
    "tags": []
   },
   "outputs": [],
   "source": [
    "out_path = Path('data') / f'{out_name}.json.gz'"
   ]
  },
  {
   "cell_type": "markdown",
   "id": "46896f88-ed1f-49d1-8527-03daccce663e",
   "metadata": {},
   "source": [
    "## Load in Example Data\n",
    "Each record of the hMOF dataset is a JSON file held within the ZIP file. Let's pull the first one to start with"
   ]
  },
  {
   "cell_type": "code",
   "execution_count": 4,
   "id": "6bd30a8d-c2ee-4695-a7f1-27c06c46b856",
   "metadata": {
    "tags": []
   },
   "outputs": [],
   "source": [
    "with ZipFile(hmof_path) as zp:\n",
    "    example_info = next(x for x in zp.infolist() if x.filename.endswith('.json'))\n",
    "    content = json.loads(zp.read(example_info).decode())"
   ]
  },
  {
   "cell_type": "markdown",
   "id": "87b5f669-d39c-43bc-b41c-1efcc4db73e6",
   "metadata": {},
   "source": [
    "## Create Functions for Converting Data\n",
    "The the MOF database has an excellent schema, making it easy to convert into the simplified one we'll use in our workflows."
   ]
  },
  {
   "cell_type": "markdown",
   "id": "9de053f1-6b7a-4135-8cd8-4f3404d4e7c7",
   "metadata": {},
   "source": [
    "First step is to decompose [MOFid](https://pubs.acs.org/doi/full/10.1021/acs.cgd.9b01050) -> ligand descriptions"
   ]
  },
  {
   "cell_type": "code",
   "execution_count": 5,
   "id": "9edb82d7-9693-4e86-bb7f-1ed5067149e6",
   "metadata": {
    "tags": []
   },
   "outputs": [
    {
     "data": {
      "text/plain": [
       "([LigandDescription(smiles='[O-]C(=O)c1cc(F)c(c(c1F)F)C(=O)[O-]', fragment_atoms=None),\n",
       "  LigandDescription(smiles='[O-]C(=O)c1cc(F)c(cc1F)C(=O)[O-]', fragment_atoms=None),\n",
       "  LigandDescription(smiles='[O-]C(=O)c1ccc(c(c1)F)C(=O)[O-]', fragment_atoms=None)],\n",
       " NodeDescription(smiles='[Zn][O]([Zn])([Zn])[Zn]'),\n",
       " 'pcu',\n",
       " 0)"
      ]
     },
     "execution_count": 5,
     "metadata": {},
     "output_type": "execute_result"
    }
   ],
   "source": [
    "def parse_mofid(mofid: str) -> tuple[list[LigandDescription], NodeDescription, str, int]:\n",
    "    \"\"\"Initialize the description of a MOF from the MOFid\n",
    "    \n",
    "    Args:\n",
    "        mofid: MOFID from the record\n",
    "    Returns: \n",
    "        - List of the ligands\n",
    "        - Description of the nodes\n",
    "        - Topology name\n",
    "        - Catentation number\n",
    "    \"\"\"\n",
    "    \n",
    "    # Drop off any user comments\n",
    "    no_comment = mofid.split(\";\")[0]\n",
    "    \n",
    "    # Split the chemical description from the 3D structure\n",
    "    chemical, structure = no_comment.split(\" \")\n",
    "    \n",
    "    # Determine the topology and catenation\n",
    "    _, topology, cat = structure.split(\".\")\n",
    "    cat = int(cat[3:])\n",
    "    \n",
    "    # Store the ligand and node descriptions\n",
    "    #  Assumes the last point is the linker\n",
    "    chemicals = chemical.split(\".\")\n",
    "    ligands = [LigandDescription(smiles=x) for x in chemicals[:-1]]\n",
    "    node = NodeDescription(chemicals[-1])\n",
    "    return ligands, node, topology, cat\n",
    "parse_mofid(content['mofid'])"
   ]
  },
  {
   "cell_type": "markdown",
   "id": "e6c58772-8963-4d20-91b6-b855f97f0d51",
   "metadata": {},
   "source": [
    "That function will let us build the whole record"
   ]
  },
  {
   "cell_type": "code",
   "execution_count": 6,
   "id": "52d3bb2b-fd16-4ce1-8bf2-5ead6c246bbd",
   "metadata": {
    "tags": []
   },
   "outputs": [
    {
     "data": {
      "text/plain": [
       "MOFRecord(identifiers={'name': 'hMOF-6'}, topology='pcu', catenation=0, nodes=[NodeDescription(smiles='[Zn][O]([Zn])([Zn])[Zn]')], ligands=[LigandDescription(smiles='[O-]C(=O)c1cc(F)c(c(c1F)F)C(=O)[O-]', fragment_atoms=None), LigandDescription(smiles='[O-]C(=O)c1cc(F)c(cc1F)C(=O)[O-]', fragment_atoms=None), LigandDescription(smiles='[O-]C(=O)c1ccc(c(c1)F)C(=O)[O-]', fragment_atoms=None)])"
      ]
     },
     "execution_count": 6,
     "metadata": {},
     "output_type": "execute_result"
    }
   ],
   "source": [
    "def assemble_record(hmof_record: dict) -> MOFRecord:\n",
    "    \"\"\"Convert the hMOF-format data into the one used by our workflow\n",
    "    \n",
    "    Args:\n",
    "        hmof_record: Contents of the hMOF json document\n",
    "    Returns:\n",
    "        Data converted into the format used by our workflow\n",
    "    \"\"\"\n",
    "    \n",
    "    # Start by parsing the MOFid\n",
    "    ligands, node, topology, cat = parse_mofid(content['mofid'])\n",
    "    \n",
    "    # Convert the CIF-format structure into XYZ\n",
    "    with warnings.catch_warnings():\n",
    "        warnings.simplefilter('ignore')\n",
    "        atoms = read(StringIO(content['cif']), format='cif')\n",
    "        fp = StringIO()\n",
    "        atoms.write(fp, 'vasp')\n",
    "        strc = fp.getvalue()\n",
    "    \n",
    "    # Assemble everything into a record\n",
    "    record = MOFRecord(\n",
    "        identifiers=dict(name=content['name']),\n",
    "        topology=topology,\n",
    "        catenation=cat,\n",
    "        nodes=[node],\n",
    "        ligands=ligands,\n",
    "        structure=strc,\n",
    "    )\n",
    "    \n",
    "    # TODO (wardlt): Save the isotherm information\n",
    "    return record\n",
    "assemble_record(content)"
   ]
  },
  {
   "cell_type": "markdown",
   "id": "cf4cf8ba-4b73-479c-8c94-129fe429ecfa",
   "metadata": {},
   "source": [
    "## Run for Whole Dataset\n",
    "Pretty easy, just apply that function over all JSONs in the ZIP file."
   ]
  },
  {
   "cell_type": "code",
   "execution_count": 7,
   "id": "7815ba09-6633-4696-8c95-6c9b2655ae39",
   "metadata": {
    "tags": []
   },
   "outputs": [
    {
     "name": "stderr",
     "output_type": "stream",
     "text": [
      "100%|████████████████████████████████████████████████████████████████████████████████████████████████████████████████████████████████████████████████████████████████████████████████████████████████████████████████████████████████████████████| 275304/275304 [35:42<00:00, 128.51it/s]"
     ]
    },
    {
     "name": "stdout",
     "output_type": "stream",
     "text": [
      "Succeeded in parsing 114436 MOFs\n"
     ]
    },
    {
     "name": "stderr",
     "output_type": "stream",
     "text": [
      "\n"
     ]
    }
   ],
   "source": [
    "succeeded = 0\n",
    "with ZipFile(hmof_path) as zp, gzip.open(out_path, 'wt') as fo:\n",
    "    for info in tqdm(zp.infolist()):\n",
    "        # Get only the JSON files\n",
    "        if not info.filename.endswith('json'):\n",
    "            continue\n",
    "        \n",
    "        # Parse and print into new format\n",
    "        content = json.loads(zp.read(info).decode())\n",
    "        if content.get('mofid') is not None:\n",
    "            try:\n",
    "                record = assemble_record(content)\n",
    "                print(record.to_json(), file=fo)\n",
    "                succeeded += 1\n",
    "            finally:\n",
    "                continue\n",
    "                \n",
    "print(f'Succeeded in parsing {succeeded} MOFs')"
   ]
  },
  {
   "cell_type": "code",
   "execution_count": null,
   "id": "aa549861-71b7-4795-82c9-ed47d3a9ebbd",
   "metadata": {},
   "outputs": [],
   "source": []
  }
 ],
 "metadata": {
  "kernelspec": {
   "display_name": "Python 3 (ipykernel)",
   "language": "python",
   "name": "python3"
  },
  "language_info": {
   "codemirror_mode": {
    "name": "ipython",
    "version": 3
   },
   "file_extension": ".py",
   "mimetype": "text/x-python",
   "name": "python",
   "nbconvert_exporter": "python",
   "pygments_lexer": "ipython3",
   "version": "3.10.12"
  }
 },
 "nbformat": 4,
 "nbformat_minor": 5
}
