{
 "cells": [
  {
   "cell_type": "markdown",
   "id": "33182757-3866-438d-8804-9ccf1c93e2ad",
   "metadata": {},
   "source": [
    "# Assess Distributions of Computed Properties\n",
    "Establish what the performance of hMOF MOF looks like given our screens."
   ]
  },
  {
   "cell_type": "code",
   "execution_count": 1,
   "id": "c48eb05d-7270-4bc7-90d3-651824618564",
   "metadata": {},
   "outputs": [],
   "source": [
    "%matplotlib inline \n",
    "from matplotlib import pyplot as plt\n",
    "from mofa.utils.conversions import write_to_string\n",
    "from mofa.scoring.geometry import LatticeParameterChange\n",
    "from mofa.model import MOFRecord\n",
    "import pandas as pd\n",
    "import numpy as np\n",
    "import gzip\n",
    "import json"
   ]
  },
  {
   "cell_type": "markdown",
   "id": "1495ddd8-6e5c-4829-af24-ae4292f01d7c",
   "metadata": {},
   "source": [
    "## Load the Data\n",
    "Get the strains and gas capacities computed using our routines."
   ]
  },
  {
   "cell_type": "code",
   "execution_count": 2,
   "id": "fb1f8899-70eb-44ea-9dbd-5889282e0ae2",
   "metadata": {},
   "outputs": [
    {
     "name": "stdout",
     "output_type": "stream",
     "text": [
      "Gathered 3278 strain calculations\n"
     ]
    },
    {
     "data": {
      "text/html": [
       "<div>\n",
       "<style scoped>\n",
       "    .dataframe tbody tr th:only-of-type {\n",
       "        vertical-align: middle;\n",
       "    }\n",
       "\n",
       "    .dataframe tbody tr th {\n",
       "        vertical-align: top;\n",
       "    }\n",
       "\n",
       "    .dataframe thead th {\n",
       "        text-align: right;\n",
       "    }\n",
       "</style>\n",
       "<table border=\"1\" class=\"dataframe\">\n",
       "  <thead>\n",
       "    <tr style=\"text-align: right;\">\n",
       "      <th></th>\n",
       "      <th>host</th>\n",
       "      <th>lammps_cmd</th>\n",
       "      <th>timesteps</th>\n",
       "      <th>mof</th>\n",
       "      <th>runtime</th>\n",
       "      <th>strain</th>\n",
       "      <th>structure</th>\n",
       "      <th>steps_ran</th>\n",
       "    </tr>\n",
       "  </thead>\n",
       "  <tbody>\n",
       "    <tr>\n",
       "      <th>3273</th>\n",
       "      <td>aurora-uan-0009</td>\n",
       "      <td>[/lus/flare/projects/MOFA/lward/lammps-kokkos/...</td>\n",
       "      <td>20000</td>\n",
       "      <td>mof-4ff2abfd</td>\n",
       "      <td>5613.509223</td>\n",
       "      <td>1.110463e-16</td>\n",
       "      <td>O  Zn O  C  N  C  N  C  N  C  H  O  C  H  O  C...</td>\n",
       "      <td>5000.0</td>\n",
       "    </tr>\n",
       "    <tr>\n",
       "      <th>3274</th>\n",
       "      <td>aurora-uan-0009</td>\n",
       "      <td>[/lus/flare/projects/MOFA/lward/lammps-kokkos/...</td>\n",
       "      <td>20000</td>\n",
       "      <td>mof-51d9c9a1</td>\n",
       "      <td>5844.535146</td>\n",
       "      <td>1.869479e-18</td>\n",
       "      <td>O  Zn O  C  O  N  C  O  C  N  C  O  C  N  C  H...</td>\n",
       "      <td>5000.0</td>\n",
       "    </tr>\n",
       "    <tr>\n",
       "      <th>3275</th>\n",
       "      <td>aurora-uan-0009</td>\n",
       "      <td>[/lus/flare/projects/MOFA/lward/lammps-kokkos/...</td>\n",
       "      <td>20000</td>\n",
       "      <td>mof-4666c384</td>\n",
       "      <td>5618.761141</td>\n",
       "      <td>2.596884e-18</td>\n",
       "      <td>O  Zn O  C  O  N  C  O  C  N  C  O  C  N  C  H...</td>\n",
       "      <td>5000.0</td>\n",
       "    </tr>\n",
       "    <tr>\n",
       "      <th>3276</th>\n",
       "      <td>aurora-uan-0009</td>\n",
       "      <td>[/lus/flare/projects/MOFA/lward/lammps-kokkos/...</td>\n",
       "      <td>20000</td>\n",
       "      <td>mof-a109f8b5</td>\n",
       "      <td>5899.894337</td>\n",
       "      <td>1.110235e-16</td>\n",
       "      <td>O  Zn O  C  O  N  C  O  C  N  C  O  C  N  C  H...</td>\n",
       "      <td>5000.0</td>\n",
       "    </tr>\n",
       "    <tr>\n",
       "      <th>3277</th>\n",
       "      <td>aurora-uan-0009</td>\n",
       "      <td>[/lus/flare/projects/MOFA/lward/lammps-kokkos/...</td>\n",
       "      <td>20000</td>\n",
       "      <td>mof-10c275ff</td>\n",
       "      <td>7948.442373</td>\n",
       "      <td>1.315028e-18</td>\n",
       "      <td>O  Zn O  C  O  N  C  O  C  N  C  O  C  N  C  H...</td>\n",
       "      <td>5000.0</td>\n",
       "    </tr>\n",
       "  </tbody>\n",
       "</table>\n",
       "</div>"
      ],
      "text/plain": [
       "                 host                                         lammps_cmd  \\\n",
       "3273  aurora-uan-0009  [/lus/flare/projects/MOFA/lward/lammps-kokkos/...   \n",
       "3274  aurora-uan-0009  [/lus/flare/projects/MOFA/lward/lammps-kokkos/...   \n",
       "3275  aurora-uan-0009  [/lus/flare/projects/MOFA/lward/lammps-kokkos/...   \n",
       "3276  aurora-uan-0009  [/lus/flare/projects/MOFA/lward/lammps-kokkos/...   \n",
       "3277  aurora-uan-0009  [/lus/flare/projects/MOFA/lward/lammps-kokkos/...   \n",
       "\n",
       "      timesteps           mof      runtime        strain  \\\n",
       "3273      20000  mof-4ff2abfd  5613.509223  1.110463e-16   \n",
       "3274      20000  mof-51d9c9a1  5844.535146  1.869479e-18   \n",
       "3275      20000  mof-4666c384  5618.761141  2.596884e-18   \n",
       "3276      20000  mof-a109f8b5  5899.894337  1.110235e-16   \n",
       "3277      20000  mof-10c275ff  7948.442373  1.315028e-18   \n",
       "\n",
       "                                              structure  steps_ran  \n",
       "3273  O  Zn O  C  N  C  N  C  N  C  H  O  C  H  O  C...     5000.0  \n",
       "3274  O  Zn O  C  O  N  C  O  C  N  C  O  C  N  C  H...     5000.0  \n",
       "3275  O  Zn O  C  O  N  C  O  C  N  C  O  C  N  C  H...     5000.0  \n",
       "3276  O  Zn O  C  O  N  C  O  C  N  C  O  C  N  C  H...     5000.0  \n",
       "3277  O  Zn O  C  O  N  C  O  C  N  C  O  C  N  C  H...     5000.0  "
      ]
     },
     "execution_count": 2,
     "metadata": {},
     "output_type": "execute_result"
    }
   ],
   "source": [
    "strain_data = pd.read_json('mace-strains.jsonl', lines=True)\n",
    "print(f'Gathered {len(strain_data)} strain calculations')\n",
    "strain_data.tail()"
   ]
  },
  {
   "cell_type": "markdown",
   "id": "f5362761-1a56-4386-9d82-5492cd780301",
   "metadata": {},
   "source": [
    "Compute the strain with respect to the original structure"
   ]
  },
  {
   "cell_type": "code",
   "execution_count": 3,
   "id": "db613292-8581-4541-adb3-7aae7c3ed79e",
   "metadata": {},
   "outputs": [],
   "source": [
    "strain_data['strain-wrt-0'] = np.nan\n",
    "names = set(strain_data['mof'])"
   ]
  },
  {
   "cell_type": "code",
   "execution_count": 4,
   "id": "70e5790b-317a-4a05-a104-d80a72aee9b4",
   "metadata": {},
   "outputs": [],
   "source": [
    "with gzip.open('data/hmof.json.gz', 'rb') as fp:\n",
    "    structures = dict(\n",
    "        (x['name'], MOFRecord(**x))\n",
    "        for x in map(json.loads, fp) if x['name'] in names\n",
    "    )"
   ]
  },
  {
   "cell_type": "code",
   "execution_count": 5,
   "id": "60aa8143-8ad4-44c3-9179-5bcf57fbe8cc",
   "metadata": {},
   "outputs": [],
   "source": [
    "comp = LatticeParameterChange()\n",
    "def strain_wrt_t0(name: str, strc: str):\n",
    "    \"\"\"Compute strain against the first timestep\n",
    "\n",
    "    Args:\n",
    "        name: MOF name\n",
    "        strc: Structure at the current timestsp\n",
    "    \"\"\"\n",
    "\n",
    "    # Add it to a record\n",
    "    model = structures[name]\n",
    "    t0 = write_to_string(model.atoms * [2, 2, 2], 'vasp')\n",
    "    model.md_trajectory['uff'] = [\n",
    "        (0, t0),\n",
    "        (1, strc)\n",
    "    ]\n",
    "\n",
    "    # Compute strain\n",
    "    return comp.score_mof(model)"
   ]
  },
  {
   "cell_type": "code",
   "execution_count": 6,
   "id": "821077e0-1e0e-43ee-af99-eb6d7b4fa645",
   "metadata": {},
   "outputs": [],
   "source": [
    "strain_data['strain'] = [strain_wrt_t0(x, y) for x, y in strain_data[['mof', 'structure']].values]"
   ]
  },
  {
   "cell_type": "markdown",
   "id": "d12bb5b0-c623-4987-a1e9-70e59ec50f1c",
   "metadata": {},
   "source": [
    "## Plot the Strain Distributions\n",
    "See what the strain distribution at different run lengths"
   ]
  },
  {
   "cell_type": "code",
   "execution_count": 7,
   "id": "a92a56c1-ff73-4eda-986f-670cd2dc9dfb",
   "metadata": {},
   "outputs": [],
   "source": [
    "summaries = strain_data.pivot_table('strain', 'mof', 'timesteps')"
   ]
  },
  {
   "cell_type": "code",
   "execution_count": 8,
   "id": "7bf8280a-1b2d-40dc-bd40-21ef6e2ec8ae",
   "metadata": {},
   "outputs": [
    {
     "data": {
      "image/png": "[encoded data removed]",
      "text/plain": [
       "<Figure size 350x210 with 1 Axes>"
      ]
     },
     "metadata": {},
     "output_type": "display_data"
    }
   ],
   "source": [
    "fig, ax = plt.subplots(figsize=(3.5, 2.1))\n",
    "\n",
    "bins = np.linspace(0, 1., 64)\n",
    "for i, r in zip(summaries.columns, summaries.values.T):\n",
    "    hist = np.histogram(r[np.isfinite(r)], bins=bins)[0]\n",
    "    hist = hist.astype(float) * 3500 / hist.max()\n",
    "    ax.barh(bins[:-1] * 100, hist, left=i, height=100 / len(bins), align='edge', color='b')\n",
    "\n",
    "ax.set_xlabel('Timesteps')\n",
    "ax.set_ylabel('Strain (%)')\n",
    "\n",
    "ax.set_xlim(0, ax.get_xlim()[1])\n",
    "ax.set_ylim(0, 100)\n",
    "\n",
    "fig.tight_layout()"
   ]
  },
  {
   "cell_type": "code",
   "execution_count": null,
   "id": "a133cd42-adc5-49f0-80b9-0c705b7dd568",
   "metadata": {},
   "outputs": [],
   "source": []
  }
 ],
 "metadata": {
  "kernelspec": {
   "display_name": "Python 3 (ipykernel)",
   "language": "python",
   "name": "python3"
  },
  "language_info": {
   "codemirror_mode": {
    "name": "ipython",
    "version": 3
   },
   "file_extension": ".py",
   "mimetype": "text/x-python",
   "name": "python",
   "nbconvert_exporter": "python",
   "pygments_lexer": "ipython3",
   "version": "3.10.16"
  }
 },
 "nbformat": 4,
 "nbformat_minor": 5
}
