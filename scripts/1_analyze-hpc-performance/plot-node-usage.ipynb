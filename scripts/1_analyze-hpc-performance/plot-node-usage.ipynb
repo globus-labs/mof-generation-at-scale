{
 "cells": [
  {
   "cell_type": "markdown",
   "metadata": {},
   "source": [
    "# Plot Run Data\n",
    "This notebook plots the performance of a run to assess the optimization performance and system utilization."
   ]
  },
  {
   "cell_type": "code",
   "execution_count": 1,
   "metadata": {
    "tags": []
   },
   "outputs": [],
   "source": [
    "%matplotlib inline\n",
    "from matplotlib import pyplot as plt\n",
    "from matplotlib import colors\n",
    "from scipy.interpolate import interp1d\n",
    "from datetime import datetime\n",
    "from pathlib import Path\n",
    "from tqdm import tqdm\n",
    "import pandas as pd\n",
    "import numpy as np\n",
    "import json\n",
    "import gzip\n",
    "import os"
   ]
  },
  {
   "cell_type": "markdown",
   "metadata": {},
   "source": [
    "Configuration"
   ]
  },
  {
   "cell_type": "code",
   "execution_count": 2,
   "metadata": {},
   "outputs": [],
   "source": [
    "run_dir = Path('../../run/parallel-polaris-16Mar24113317-7f92ee/')"
   ]
  },
  {
   "cell_type": "code",
   "execution_count": 3,
   "metadata": {},
   "outputs": [],
   "source": [
    "Path('figures').mkdir(exist_ok=True)"
   ]
  },
  {
   "cell_type": "markdown",
   "metadata": {},
   "source": [
    "## Load in all results\n",
    "Get them from each \"-results.json\" file"
   ]
  },
  {
   "cell_type": "code",
   "execution_count": 4,
   "metadata": {},
   "outputs": [
    {
     "name": "stdout",
     "output_type": "stream",
     "text": [
      "Found 2 types of result files\n"
     ]
    }
   ],
   "source": [
    "result_files = list(run_dir.glob('*-results.json.gz'))\n",
    "print(f'Found {len(result_files)} types of result files')"
   ]
  },
  {
   "cell_type": "markdown",
   "metadata": {},
   "source": [
    "Store the create time, start time and end time for running, and node on which they were running"
   ]
  },
  {
   "cell_type": "code",
   "execution_count": 5,
   "metadata": {},
   "outputs": [],
   "source": [
    "tasks = []\n",
    "for result_file in result_files:\n",
    "    task_type = result_file.name.split(\"-\")[0]\n",
    "    with gzip.open(result_file) as fp:\n",
    "        for line in fp:\n",
    "            row = json.loads(line)\n",
    "            tasks.append({\n",
    "                'task_type': task_type,\n",
    "                'method': row['method'],\n",
    "                'create_time': row['timestamp']['created'],\n",
    "                'start_time': row['timestamp']['compute_started'],\n",
    "                'end_time': row['timestamp']['compute_ended'],\n",
    "                'span_running': row['time']['running'],\n",
    "                'node': row['worker_info']['hostname'],\n",
    "                'local_rank': int(row['worker_info']['PARSL_WORKER_RANK'])\n",
    "            })\n",
    "tasks = pd.DataFrame(tasks)"
   ]
  },
  {
   "cell_type": "code",
   "execution_count": 6,
   "metadata": {},
   "outputs": [
    {
     "name": "stdout",
     "output_type": "stream",
     "text": [
      "method,span_running\n",
      "run_generator,910\n",
      "run_molecular_dynamics,256\n",
      "\n"
     ]
    }
   ],
   "source": [
    "print(tasks.groupby('method')['span_running'].count().to_csv())"
   ]
  },
  {
   "cell_type": "markdown",
   "metadata": {},
   "source": [
    "Normalize times by the time the first task was created"
   ]
  },
  {
   "cell_type": "code",
   "execution_count": 7,
   "metadata": {},
   "outputs": [],
   "source": [
    "zero_time = tasks['create_time'].min()"
   ]
  },
  {
   "cell_type": "code",
   "execution_count": 8,
   "metadata": {},
   "outputs": [],
   "source": [
    "time_cols = [c for c in tasks.columns if c.endswith('time')]\n",
    "tasks[time_cols] -= zero_time"
   ]
  },
  {
   "cell_type": "markdown",
   "metadata": {},
   "source": [
    "Assign node ids by the first time they received a task"
   ]
  },
  {
   "cell_type": "code",
   "execution_count": 9,
   "metadata": {},
   "outputs": [
    {
     "name": "stdout",
     "output_type": "stream",
     "text": [
      "Found 10 nodes\n"
     ]
    }
   ],
   "source": [
    "performance_logs = list((run_dir / 'logs').glob('*log'))\n",
    "node_names = [x.with_suffix('').name for x in performance_logs]\n",
    "num_nodes = len(node_names)\n",
    "print(f'Found {len(node_names)} nodes')"
   ]
  },
  {
   "cell_type": "code",
   "execution_count": 10,
   "metadata": {},
   "outputs": [],
   "source": [
    "tasks['node_id'] = tasks['node'].apply(node_names.index)"
   ]
  },
  {
   "cell_type": "markdown",
   "metadata": {},
   "source": [
    "Assign a numerical task ID"
   ]
  },
  {
   "cell_type": "code",
   "execution_count": 11,
   "metadata": {},
   "outputs": [],
   "source": [
    "methods = sorted(set(tasks['method']))\n",
    "tasks['task_id'] = tasks['method'].apply(methods.index)"
   ]
  },
  {
   "cell_type": "code",
   "execution_count": 12,
   "metadata": {},
   "outputs": [
    {
     "data": {
      "text/plain": [
       "['run_generator', 'run_molecular_dynamics']"
      ]
     },
     "execution_count": 12,
     "metadata": {},
     "output_type": "execute_result"
    }
   ],
   "source": [
    "methods"
   ]
  },
  {
   "cell_type": "markdown",
   "metadata": {},
   "source": [
    "## Plot Assignment to Different Nodes\n",
    "See how work is distributed.  [color pallete](https://coolors.co/f2545b-a93f55-0f7173-75f4f4-f9c22e)"
   ]
  },
  {
   "cell_type": "code",
   "execution_count": 13,
   "metadata": {},
   "outputs": [],
   "source": [
    "color_map = [\n",
    "    'black', # Unknown\n",
    "    '#75F4F4', # Molecular Dynamics\n",
    "    '#F2545B', # Generation\n",
    "]"
   ]
  },
  {
   "cell_type": "code",
   "execution_count": 14,
   "metadata": {
    "tags": []
   },
   "outputs": [
    {
     "data": {
      "image/png": "[encoded data removed]",
      "text/plain": [
       "<Figure size 350x225 with 1 Axes>"
      ]
     },
     "metadata": {},
     "output_type": "display_data"
    }
   ],
   "source": [
    "fig, ax = plt.subplots(figsize=(3.5, 2.25))\n",
    "\n",
    "for gid, group in tasks.groupby('method'):\n",
    "    task_type = group[\"task_type\"].iloc[0]\n",
    "    c = color_map[methods.index(gid) + 1]\n",
    "    height = 0.25\n",
    "    offset = group['local_rank'] / 4 if task_type == \"simulation\" else 0\n",
    "    ax.barh(y=group[\"node_id\"] + offset,\n",
    "            width=group[\"span_running\"] / 60,\n",
    "            left=group[\"start_time\"] / 60,\n",
    "            height=height,\n",
    "            label=gid,\n",
    "            color=c,\n",
    "            align='edge')\n",
    "            #edgecolor='k', linewidth=0.2,)\n",
    "    \n",
    "    \n",
    "#ax.set_yticks(np.arange(len(node_names)))\n",
    "ax.set_ylabel('Node')\n",
    "\n",
    "#ax.set_xlim([2, 4])\n",
    "ax.set_ylim(0, num_nodes)\n",
    "ax.set_xlabel('Time (min)')\n",
    "#ax.legend()\n",
    "fig.tight_layout()\n",
    "fig.savefig('figures/task-type-by-node.png', dpi=320)"
   ]
  },
  {
   "cell_type": "markdown",
   "metadata": {},
   "source": [
    "## Summarize the GPU Utilization\n",
    "Plot the amount of each GPU being used over time. Still color by task"
   ]
  },
  {
   "cell_type": "code",
   "execution_count": 15,
   "metadata": {},
   "outputs": [
    {
     "name": "stderr",
     "output_type": "stream",
     "text": [
      "100%|████████████████████████████████████████████████████████████████████████████████████████████████████████████████████████████████████████████████████████████████████████████████████████████████████████████████████████████████████████████████████| 10/10 [00:00<00:00, 140.58it/s]\n"
     ]
    }
   ],
   "source": [
    "utilization = []\n",
    "for utilization_file in tqdm(performance_logs):\n",
    "    # Pull in the total data\n",
    "    util_data = pd.read_json(utilization_file, lines=True)\n",
    "    util_data['time'] = util_data['time'].apply(lambda x: datetime.fromisoformat(x).timestamp()) - zero_time - 4 * 3600  # TZ Issue?\n",
    "    node_name = utilization_file.name[:-4]\n",
    "    util_data['node'] = node_name\n",
    "    \n",
    "    # Summarize the GPU utilization\n",
    "    util_data['gpu_power'] = util_data['gpu_use'].apply(lambda row: [x['power.draw'] for x in row])\n",
    "    util_data['gpu_mem'] = util_data['gpu_use'].apply(lambda row: [x['memory.used'] for x in row])\n",
    "    util_data['gpu_use'] = util_data['gpu_use'].apply(lambda row: [x['utilization.gpu'] for x in row])\n",
    "    \n",
    "    utilization.append(util_data[['time', 'node', 'cpu_use', 'gpu_mem', 'gpu_power', 'gpu_use']])\n",
    "utilization = pd.concat(utilization, ignore_index=True)"
   ]
  },
  {
   "cell_type": "code",
   "execution_count": 16,
   "metadata": {},
   "outputs": [],
   "source": [
    "for c in ['cpu', 'gpu']:\n",
    "    utilization[f'{c}_use_total'] = utilization[f'{c}_use'].apply(np.sum)\n",
    "utilization['gpu_power_total'] = utilization['gpu_power'].apply(np.sum)"
   ]
  },
  {
   "cell_type": "markdown",
   "metadata": {},
   "source": [
    "Compile to a full-system utilization"
   ]
  },
  {
   "cell_type": "code",
   "execution_count": 17,
   "metadata": {},
   "outputs": [],
   "source": [
    "freq = 60  # How often to assess utilization"
   ]
  },
  {
   "cell_type": "code",
   "execution_count": 18,
   "metadata": {},
   "outputs": [],
   "source": [
    "times = np.arange(0, utilization['time'].max(), step=freq)\n",
    "system_average = {\n",
    "    'time': times,\n",
    "    'gpu_use': np.zeros_like(times),\n",
    "    'gpu_power': np.zeros_like(times),\n",
    "}"
   ]
  },
  {
   "cell_type": "code",
   "execution_count": 19,
   "metadata": {},
   "outputs": [
    {
     "data": {
      "text/html": [
       "<div>\n",
       "<style scoped>\n",
       "    .dataframe tbody tr th:only-of-type {\n",
       "        vertical-align: middle;\n",
       "    }\n",
       "\n",
       "    .dataframe tbody tr th {\n",
       "        vertical-align: top;\n",
       "    }\n",
       "\n",
       "    .dataframe thead th {\n",
       "        text-align: right;\n",
       "    }\n",
       "</style>\n",
       "<table border=\"1\" class=\"dataframe\">\n",
       "  <thead>\n",
       "    <tr style=\"text-align: right;\">\n",
       "      <th></th>\n",
       "      <th>time</th>\n",
       "      <th>node</th>\n",
       "      <th>cpu_use</th>\n",
       "      <th>gpu_mem</th>\n",
       "      <th>gpu_power</th>\n",
       "      <th>gpu_use</th>\n",
       "      <th>cpu_use_total</th>\n",
       "      <th>gpu_use_total</th>\n",
       "      <th>gpu_power_total</th>\n",
       "    </tr>\n",
       "  </thead>\n",
       "  <tbody>\n",
       "    <tr>\n",
       "      <th>0</th>\n",
       "      <td>2.534156</td>\n",
       "      <td>x3005c0s1b1n0</td>\n",
       "      <td>[0.0, 0.0, 1.8, 0.0, 0.0, 0.0, 0.0, 0.0, 0.0, ...</td>\n",
       "      <td>[0, 0, 0, 0]</td>\n",
       "      <td>[52, 53, 50, 49]</td>\n",
       "      <td>[0, 0, 0, 0]</td>\n",
       "      <td>34.0</td>\n",
       "      <td>0</td>\n",
       "      <td>204</td>\n",
       "    </tr>\n",
       "    <tr>\n",
       "      <th>1</th>\n",
       "      <td>23.099414</td>\n",
       "      <td>x3005c0s1b1n0</td>\n",
       "      <td>[0.1, 0.8, 0.1, 0.0, 0.0, 0.0, 0.2, 0.8, 0.0, ...</td>\n",
       "      <td>[0, 0, 0, 0]</td>\n",
       "      <td>[52, 53, 50, 49]</td>\n",
       "      <td>[0, 0, 0, 0]</td>\n",
       "      <td>29.0</td>\n",
       "      <td>0</td>\n",
       "      <td>204</td>\n",
       "    </tr>\n",
       "    <tr>\n",
       "      <th>2</th>\n",
       "      <td>43.665266</td>\n",
       "      <td>x3005c0s1b1n0</td>\n",
       "      <td>[0.1, 1.7000000000000002, 0.0, 0.0, 0.1, 0.0, ...</td>\n",
       "      <td>[0, 0, 0, 0]</td>\n",
       "      <td>[52, 53, 50, 49]</td>\n",
       "      <td>[0, 0, 0, 0]</td>\n",
       "      <td>12.6</td>\n",
       "      <td>0</td>\n",
       "      <td>204</td>\n",
       "    </tr>\n",
       "    <tr>\n",
       "      <th>3</th>\n",
       "      <td>64.246442</td>\n",
       "      <td>x3005c0s1b1n0</td>\n",
       "      <td>[0.7000000000000001, 0.4, 0.6000000000000001, ...</td>\n",
       "      <td>[0, 0, 0, 0]</td>\n",
       "      <td>[52, 53, 50, 49]</td>\n",
       "      <td>[0, 0, 0, 0]</td>\n",
       "      <td>34.4</td>\n",
       "      <td>0</td>\n",
       "      <td>204</td>\n",
       "    </tr>\n",
       "    <tr>\n",
       "      <th>4</th>\n",
       "      <td>84.811002</td>\n",
       "      <td>x3005c0s1b1n0</td>\n",
       "      <td>[7.9, 1.2, 0.1, 0.30000000000000004, 0.7000000...</td>\n",
       "      <td>[0, 0, 0, 0]</td>\n",
       "      <td>[52, 53, 50, 49]</td>\n",
       "      <td>[0, 0, 0, 0]</td>\n",
       "      <td>43.7</td>\n",
       "      <td>0</td>\n",
       "      <td>204</td>\n",
       "    </tr>\n",
       "    <tr>\n",
       "      <th>...</th>\n",
       "      <td>...</td>\n",
       "      <td>...</td>\n",
       "      <td>...</td>\n",
       "      <td>...</td>\n",
       "      <td>...</td>\n",
       "      <td>...</td>\n",
       "      <td>...</td>\n",
       "      <td>...</td>\n",
       "      <td>...</td>\n",
       "    </tr>\n",
       "    <tr>\n",
       "      <th>645</th>\n",
       "      <td>1235.816370</td>\n",
       "      <td>x3005c0s37b0n0</td>\n",
       "      <td>[100.0, 0.2, 1.0, 0.0, 0.0, 1.9, 0.0, 0.0, 0.0...</td>\n",
       "      <td>[425, 421, 423, 423]</td>\n",
       "      <td>[82, 73, 70, 73]</td>\n",
       "      <td>[41, 39, 39, 40]</td>\n",
       "      <td>406.5</td>\n",
       "      <td>159</td>\n",
       "      <td>298</td>\n",
       "    </tr>\n",
       "    <tr>\n",
       "      <th>646</th>\n",
       "      <td>1256.369535</td>\n",
       "      <td>x3005c0s37b0n0</td>\n",
       "      <td>[100.0, 10.1, 1.1, 0.0, 0.0, 1.6, 0.0, 0.0, 0....</td>\n",
       "      <td>[425, 421, 423, 423]</td>\n",
       "      <td>[80, 74, 68, 73]</td>\n",
       "      <td>[41, 40, 40, 40]</td>\n",
       "      <td>414.6</td>\n",
       "      <td>161</td>\n",
       "      <td>295</td>\n",
       "    </tr>\n",
       "    <tr>\n",
       "      <th>647</th>\n",
       "      <td>1276.921036</td>\n",
       "      <td>x3005c0s37b0n0</td>\n",
       "      <td>[100.0, 6.3, 0.6000000000000001, 0.0, 0.0, 1.7...</td>\n",
       "      <td>[0, 421, 423, 423]</td>\n",
       "      <td>[56, 73, 78, 74]</td>\n",
       "      <td>[0, 39, 55, 38]</td>\n",
       "      <td>367.9</td>\n",
       "      <td>132</td>\n",
       "      <td>281</td>\n",
       "    </tr>\n",
       "    <tr>\n",
       "      <th>648</th>\n",
       "      <td>1297.478376</td>\n",
       "      <td>x3005c0s37b0n0</td>\n",
       "      <td>[100.0, 3.6, 0.0, 0.0, 0.0, 1.7000000000000002...</td>\n",
       "      <td>[0, 421, 0, 423]</td>\n",
       "      <td>[56, 73, 50, 74]</td>\n",
       "      <td>[0, 39, 0, 38]</td>\n",
       "      <td>261.9</td>\n",
       "      <td>77</td>\n",
       "      <td>253</td>\n",
       "    </tr>\n",
       "    <tr>\n",
       "      <th>649</th>\n",
       "      <td>1318.037629</td>\n",
       "      <td>x3005c0s37b0n0</td>\n",
       "      <td>[100.0, 1.0, 0.0, 0.0, 0.0, 2.0, 0.0, 0.0, 0.0...</td>\n",
       "      <td>[0, 421, 0, 423]</td>\n",
       "      <td>[55, 73, 52, 73]</td>\n",
       "      <td>[0, 39, 0, 40]</td>\n",
       "      <td>208.3</td>\n",
       "      <td>79</td>\n",
       "      <td>253</td>\n",
       "    </tr>\n",
       "  </tbody>\n",
       "</table>\n",
       "<p>650 rows × 9 columns</p>\n",
       "</div>"
      ],
      "text/plain": [
       "            time            node  \\\n",
       "0       2.534156   x3005c0s1b1n0   \n",
       "1      23.099414   x3005c0s1b1n0   \n",
       "2      43.665266   x3005c0s1b1n0   \n",
       "3      64.246442   x3005c0s1b1n0   \n",
       "4      84.811002   x3005c0s1b1n0   \n",
       "..           ...             ...   \n",
       "645  1235.816370  x3005c0s37b0n0   \n",
       "646  1256.369535  x3005c0s37b0n0   \n",
       "647  1276.921036  x3005c0s37b0n0   \n",
       "648  1297.478376  x3005c0s37b0n0   \n",
       "649  1318.037629  x3005c0s37b0n0   \n",
       "\n",
       "                                               cpu_use               gpu_mem  \\\n",
       "0    [0.0, 0.0, 1.8, 0.0, 0.0, 0.0, 0.0, 0.0, 0.0, ...          [0, 0, 0, 0]   \n",
       "1    [0.1, 0.8, 0.1, 0.0, 0.0, 0.0, 0.2, 0.8, 0.0, ...          [0, 0, 0, 0]   \n",
       "2    [0.1, 1.7000000000000002, 0.0, 0.0, 0.1, 0.0, ...          [0, 0, 0, 0]   \n",
       "3    [0.7000000000000001, 0.4, 0.6000000000000001, ...          [0, 0, 0, 0]   \n",
       "4    [7.9, 1.2, 0.1, 0.30000000000000004, 0.7000000...          [0, 0, 0, 0]   \n",
       "..                                                 ...                   ...   \n",
       "645  [100.0, 0.2, 1.0, 0.0, 0.0, 1.9, 0.0, 0.0, 0.0...  [425, 421, 423, 423]   \n",
       "646  [100.0, 10.1, 1.1, 0.0, 0.0, 1.6, 0.0, 0.0, 0....  [425, 421, 423, 423]   \n",
       "647  [100.0, 6.3, 0.6000000000000001, 0.0, 0.0, 1.7...    [0, 421, 423, 423]   \n",
       "648  [100.0, 3.6, 0.0, 0.0, 0.0, 1.7000000000000002...      [0, 421, 0, 423]   \n",
       "649  [100.0, 1.0, 0.0, 0.0, 0.0, 2.0, 0.0, 0.0, 0.0...      [0, 421, 0, 423]   \n",
       "\n",
       "            gpu_power           gpu_use  cpu_use_total  gpu_use_total  \\\n",
       "0    [52, 53, 50, 49]      [0, 0, 0, 0]           34.0              0   \n",
       "1    [52, 53, 50, 49]      [0, 0, 0, 0]           29.0              0   \n",
       "2    [52, 53, 50, 49]      [0, 0, 0, 0]           12.6              0   \n",
       "3    [52, 53, 50, 49]      [0, 0, 0, 0]           34.4              0   \n",
       "4    [52, 53, 50, 49]      [0, 0, 0, 0]           43.7              0   \n",
       "..                ...               ...            ...            ...   \n",
       "645  [82, 73, 70, 73]  [41, 39, 39, 40]          406.5            159   \n",
       "646  [80, 74, 68, 73]  [41, 40, 40, 40]          414.6            161   \n",
       "647  [56, 73, 78, 74]   [0, 39, 55, 38]          367.9            132   \n",
       "648  [56, 73, 50, 74]    [0, 39, 0, 38]          261.9             77   \n",
       "649  [55, 73, 52, 73]    [0, 39, 0, 40]          208.3             79   \n",
       "\n",
       "     gpu_power_total  \n",
       "0                204  \n",
       "1                204  \n",
       "2                204  \n",
       "3                204  \n",
       "4                204  \n",
       "..               ...  \n",
       "645              298  \n",
       "646              295  \n",
       "647              281  \n",
       "648              253  \n",
       "649              253  \n",
       "\n",
       "[650 rows x 9 columns]"
      ]
     },
     "execution_count": 19,
     "metadata": {},
     "output_type": "execute_result"
    }
   ],
   "source": [
    "utilization"
   ]
  },
  {
   "cell_type": "code",
   "execution_count": 20,
   "metadata": {},
   "outputs": [],
   "source": [
    "for nid, group in utilization.groupby('node'):\n",
    "    util_f = interp1d(group['time'], group['gpu_use_total'], fill_value=0, bounds_error=False)\n",
    "    power_f = interp1d(group['time'], group['gpu_power_total'], fill_value=0, bounds_error=False)\n",
    "    system_average['gpu_power'] += power_f(system_average['time'])\n",
    "    system_average['gpu_use'] += util_f(system_average['time']) / 100  # From percentage to total"
   ]
  },
  {
   "cell_type": "code",
   "execution_count": 21,
   "metadata": {},
   "outputs": [],
   "source": [
    "system_average = pd.DataFrame(system_average)"
   ]
  },
  {
   "cell_type": "code",
   "execution_count": 22,
   "metadata": {},
   "outputs": [
    {
     "data": {
      "image/png": "[encoded data removed]",
      "text/plain": [
       "<Figure size 350x250 with 1 Axes>"
      ]
     },
     "metadata": {},
     "output_type": "display_data"
    }
   ],
   "source": [
    "fig, ax = plt.subplots(figsize=(3.5, 2.5))\n",
    "\n",
    "ax.fill_between(system_average['time'] / 60, system_average['gpu_use'] / (num_nodes * 4) * 100)\n",
    "\n",
    "ax.set_xlim([0, system_average['time'].max() / 60])\n",
    "ax.plot(ax.get_xlim(), [100] * 2, 'k--', lw=1.)\n",
    "\n",
    "ax.set_xlabel('Walltime (min)')\n",
    "ax.set_ylabel('GPU Utilization (%)')\n",
    "fig.tight_layout()\n",
    "fig.savefig('figures/gpu-utilization.png', dpi=320)"
   ]
  },
  {
   "cell_type": "code",
   "execution_count": 23,
   "metadata": {},
   "outputs": [
    {
     "data": {
      "image/png": "[encoded data removed]",
      "text/plain": [
       "<Figure size 350x250 with 1 Axes>"
      ]
     },
     "metadata": {},
     "output_type": "display_data"
    }
   ],
   "source": [
    "fig, ax = plt.subplots(figsize=(3.5, 2.5))\n",
    "\n",
    "ax.fill_between(system_average['time'] / 3600, system_average['gpu_power'] / 1000)\n",
    "\n",
    "ax.set_xlim([0, system_average['time'].max() / 3600])\n",
    "\n",
    "ax.set_xlabel('Walltime (hr)')\n",
    "ax.set_ylabel('GPU Power (kW)')\n",
    "fig.tight_layout()\n",
    "fig.savefig('figures/gpu-utilization.png', dpi=320)"
   ]
  },
  {
   "cell_type": "markdown",
   "metadata": {},
   "source": [
    "Compute node ids so we can associate nodes with tasks"
   ]
  },
  {
   "cell_type": "code",
   "execution_count": 24,
   "metadata": {},
   "outputs": [],
   "source": [
    "utilization['node_id'] = utilization['node'].apply(node_names.index)"
   ]
  },
  {
   "cell_type": "markdown",
   "metadata": {},
   "source": [
    "Summarize task and utilization"
   ]
  },
  {
   "cell_type": "code",
   "execution_count": 25,
   "metadata": {},
   "outputs": [],
   "source": [
    "utilization_matrix = np.ones((num_nodes * 4, len(times), 4))  # Time interval, GPU ID, (RGBA) where RGB are defined by task and A by color"
   ]
  },
  {
   "cell_type": "code",
   "execution_count": 26,
   "metadata": {},
   "outputs": [],
   "source": [
    "chosen_rgb = np.array([colors.to_rgb(c) for c in color_map])\n",
    "for (node_id, local_rank), group in tasks.groupby(['node_id', 'local_rank']):\n",
    "    # Get the GPUs this covers\n",
    "    rows = node_id * 4 + local_rank\n",
    "    gpu_ids = [local_rank]\n",
    "    \n",
    "    # Get the task ID as a function of time\n",
    "    task_types = [(0, -1)]  # (start_time, task_id)\n",
    "    task_types.extend(zip(group['start_time'], group['task_id']))\n",
    "    task_types.extend(zip(group['end_time'], [-1] * len(group)))  # -1 means Idle\n",
    "    time, task_id = zip(*sorted(task_types))\n",
    "    task_type_fn = interp1d(time, task_id, kind='previous', fill_value=-1, bounds_error=False)\n",
    "    \n",
    "    # Compute the task type at each time interval\n",
    "    task_type = np.array(task_type_fn(times), dtype=int)\n",
    "    \n",
    "    # Map the task type to color\n",
    "    utilization_matrix[rows, :, :3] = chosen_rgb[task_type + 1][None, :, :]\n",
    "    \n",
    "    # Make the alpha channel the color\n",
    "    util_data = utilization.query(f'node_id=={node_id}')\n",
    "    for gpu_id in gpu_ids:\n",
    "        util_fun = interp1d(util_data['time'], util_data['gpu_use'].apply(lambda x: x[gpu_id] / 100), fill_value=0, bounds_error=False)\n",
    "        utilization_matrix[node_id * 4 + gpu_id, :, -1] = util_fun(times)"
   ]
  },
  {
   "cell_type": "markdown",
   "metadata": {},
   "source": [
    "Plot utilization."
   ]
  },
  {
   "cell_type": "code",
   "execution_count": 27,
   "metadata": {},
   "outputs": [
    {
     "data": {
      "image/png": "[encoded data removed]",
      "text/plain": [
       "<Figure size 350x175 with 1 Axes>"
      ]
     },
     "metadata": {},
     "output_type": "display_data"
    }
   ],
   "source": [
    "fig, ax = plt.subplots(figsize=(3.5, 1.75))\n",
    "\n",
    "ax.matshow(utilization_matrix, origin='lower', aspect='auto',\n",
    "           extent=[0, times.max() / 3600, 0, num_nodes])\n",
    "ax.xaxis.tick_bottom()\n",
    "\n",
    "ax.set_xlabel('Time (hr)')\n",
    "ax.set_ylabel('Node')\n",
    "\n",
    "bbox_kwargs = dict(edgecolor='k', facecolor='w', alpha=0.95)\n",
    "ax.annotate('Generation', (2.8, 5), xytext=(2.1, 15),\n",
    "            bbox=bbox_kwargs, arrowprops=dict(width=0.5, headwidth=1.5, headlength=4),\n",
    "           fontsize=7)\n",
    "#ax.set_xlim([0, 3.])\n",
    "#ax.set_ylim([9, 12])\n",
    "\n",
    "fig.tight_layout(pad=0.1)\n",
    "fig.savefig('figures/utilization-by-GPU.png', dpi=320)"
   ]
  },
  {
   "cell_type": "code",
   "execution_count": null,
   "metadata": {},
   "outputs": [],
   "source": []
  }
 ],
 "metadata": {
  "kernelspec": {
   "display_name": "Python 3 (ipykernel)",
   "language": "python",
   "name": "python3"
  },
  "language_info": {
   "codemirror_mode": {
    "name": "ipython",
    "version": 3
   },
   "file_extension": ".py",
   "mimetype": "text/x-python",
   "name": "python",
   "nbconvert_exporter": "python",
   "pygments_lexer": "ipython3",
   "version": "3.10.8"
  }
 },
 "nbformat": 4,
 "nbformat_minor": 4
}
