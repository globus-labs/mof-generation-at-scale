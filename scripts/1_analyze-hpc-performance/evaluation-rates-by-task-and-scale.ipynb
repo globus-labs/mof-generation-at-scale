{
 "cells": [
  {
   "cell_type": "markdown",
   "id": "d2118633-0ed8-49cd-960d-1170b25b901d",
   "metadata": {},
   "source": [
    "# Plot the Evaluation Rates\n",
    "How many materials made it through each scale?"
   ]
  },
  {
   "cell_type": "code",
   "execution_count": 1,
   "id": "c72ac3a8-f449-4500-9995-4f72881aa02d",
   "metadata": {},
   "outputs": [],
   "source": [
    "%matplotlib inline\n",
    "from matplotlib import pyplot as plt\n",
    "from scipy.stats import siegelslopes, linregress\n",
    "from pathlib import Path\n",
    "import pandas as pd\n",
    "import numpy as np\n",
    "import json"
   ]
  },
  {
   "cell_type": "markdown",
   "id": "06e7a0be-3b07-4ee6-a89b-936033bf15d7",
   "metadata": {},
   "source": [
    "## Load the results\n",
    "Get the results from the biggest scale, show how we compute the generation rate"
   ]
  },
  {
   "cell_type": "code",
   "execution_count": 2,
   "id": "c8259384-9796-45d0-abb7-7ef29c0045a0",
   "metadata": {},
   "outputs": [],
   "source": [
    "path = Path('../prod-runs/450-nodes/')"
   ]
  },
  {
   "cell_type": "markdown",
   "id": "4df45d24-0c43-4610-beb3-1635832b34b8",
   "metadata": {},
   "source": [
    "### Generated Ligands\n",
    "Start with the number of generated. We measure the number produced per batch using the \"done\" time as the time processing has completed"
   ]
  },
  {
   "cell_type": "code",
   "execution_count": 3,
   "id": "f363bfb2-550f-4820-9b88-f8c1262497f5",
   "metadata": {},
   "outputs": [],
   "source": [
    "def load_generation(path: Path) -> pd.DataFrame:\n",
    "    \"\"\"Get the number of ligands produced a function of time\n",
    "\n",
    "    Args:\n",
    "        path: Path to the run directory\n",
    "    Returns:\n",
    "        Report of the number of ligands generated at each time point\n",
    "    \"\"\"\n",
    "\n",
    "    # Get the number of ligands per task\n",
    "    ligand_per_task = json.loads((path / 'params.json').read_text())['gen_batch_size']\n",
    "\n",
    "    # Count the \"process_ligand\" tasks\n",
    "    output = []\n",
    "    with open(path / 'generation-results.json') as fp:\n",
    "        for line in fp:\n",
    "            record = json.loads(line)\n",
    "            if record['method'] == 'process_ligands' and record['success']:\n",
    "                output.append({\n",
    "                    'time': record['task_info']['process_done'],\n",
    "                    'num_made': ligand_per_task,\n",
    "                })\n",
    "    \n",
    "    # Collect results\n",
    "    output = pd.DataFrame(output)\n",
    "    output['time'] -= output['time'].min()\n",
    "    output.sort_values('time', inplace=True)\n",
    "    output['total'] = output['num_made'].cumsum()\n",
    "    return output\n",
    "generated = load_generation(path)"
   ]
  },
  {
   "cell_type": "code",
   "execution_count": 4,
   "id": "e2959a3a-8694-4c4b-82ea-bfd3b1336490",
   "metadata": {},
   "outputs": [
    {
     "data": {
      "text/plain": [
       "[<matplotlib.lines.Line2D at 0x72b87ed709d0>]"
      ]
     },
     "execution_count": 4,
     "metadata": {},
     "output_type": "execute_result"
    },
    {
     "data": {
      "image/png": "[encoded data removed]",
      "text/plain": [
       "<Figure size 350x200 with 1 Axes>"
      ]
     },
     "metadata": {},
     "output_type": "display_data"
    }
   ],
   "source": [
    "fig, ax = plt.subplots(figsize=(3.5, 2.))\n",
    "\n",
    "reg = linregress(generated['time'], generated['total'])\n",
    "ax.step(generated['time'], generated['total'])"
   ]
  },
  {
   "cell_type": "code",
   "execution_count": 5,
   "id": "77ac504c-7dac-4235-90c6-cd078b597da4",
   "metadata": {},
   "outputs": [
    {
     "data": {
      "text/plain": [
       "LinregressResult(slope=458.0928106378539, intercept=55723.98374828417, rvalue=0.9998554350213728, pvalue=0.0, stderr=0.03962733250517207, intercept_stderr=242.90174962525995)"
      ]
     },
     "execution_count": 5,
     "metadata": {},
     "output_type": "execute_result"
    }
   ],
   "source": [
    "linregress(generated['time'], generated['total'])"
   ]
  },
  {
   "cell_type": "markdown",
   "id": "133fa4af-c39c-47e6-ad19-087a4c42592b",
   "metadata": {},
   "source": [
    "The result is very linear, so we can use standard linear regression"
   ]
  },
  {
   "cell_type": "markdown",
   "id": "63631c2f-2600-4206-9d06-491f53e39c56",
   "metadata": {},
   "source": [
    "### Assembled MOFs\n",
    "Use the results of the assembly tasks"
   ]
  },
  {
   "cell_type": "code",
   "execution_count": 6,
   "id": "53f02307-e19e-497c-8208-f223dbfa236e",
   "metadata": {},
   "outputs": [],
   "source": [
    "def load_assembly(path: Path) -> pd.DataFrame:\n",
    "    \"\"\"Get the number of MOFs produced a function of time\n",
    "\n",
    "    Args:\n",
    "        path: Path to the run directory\n",
    "    Returns:\n",
    "        Report of the number of ligands generated at each time point\n",
    "    \"\"\"\n",
    "\n",
    "    # Count the \"process_ligand\" tasks\n",
    "    output = []\n",
    "    with open(path / 'assembly-results.json') as fp:\n",
    "        for line in fp:\n",
    "            record = json.loads(line)\n",
    "            if record['success']:\n",
    "                output.append({\n",
    "                    'time': record['timestamp']['result_received'],\n",
    "                    'num_made': record['task_info']['to_make'],\n",
    "                })\n",
    "    \n",
    "    # Collect results\n",
    "    output = pd.DataFrame(output)\n",
    "    output['time'] -= output['time'].min()\n",
    "    output.sort_values('time', inplace=True)\n",
    "    output['total'] = output['num_made'].cumsum()\n",
    "    return output\n",
    "assembled = load_assembly(path)"
   ]
  },
  {
   "cell_type": "code",
   "execution_count": 7,
   "id": "7dac1fa7-39fd-4cb6-995d-71cfa9b6a266",
   "metadata": {},
   "outputs": [],
   "source": [
    "res = linregress(assembled['time'], assembled['total'])"
   ]
  },
  {
   "cell_type": "code",
   "execution_count": 8,
   "id": "81b0589e-36b1-4a93-bf7d-e4a2da703718",
   "metadata": {},
   "outputs": [
    {
     "data": {
      "text/plain": [
       "Text(0, 0.5, 'Count')"
      ]
     },
     "execution_count": 8,
     "metadata": {},
     "output_type": "execute_result"
    },
    {
     "data": {
      "image/png": "[encoded data removed]",
      "text/plain": [
       "<Figure size 350x200 with 1 Axes>"
      ]
     },
     "metadata": {},
     "output_type": "display_data"
    }
   ],
   "source": [
    "fig, ax = plt.subplots(figsize=(3.5, 2.))\n",
    "\n",
    "ax.step(assembled['time'], assembled['total'])\n",
    "ax.plot(ax.get_xlim(), np.multiply(res.slope, ax.get_xlim()) + res.intercept, 'k--')\n",
    "\n",
    "ax.set_xlabel('Time (s)')\n",
    "ax.set_ylabel('Count')"
   ]
  },
  {
   "cell_type": "markdown",
   "id": "ce06df78-d8bd-44c1-a11f-8e6144f60b0d",
   "metadata": {},
   "source": [
    "## Stabilities Computed\n",
    "Get the number of LAMMPS computations completed as a function of time"
   ]
  },
  {
   "cell_type": "code",
   "execution_count": 9,
   "id": "9513428d-c10a-454c-a92b-24069de61a03",
   "metadata": {},
   "outputs": [],
   "source": [
    "def load_lammps(path: Path) -> pd.DataFrame:\n",
    "    \"\"\"Get the number of MOFs through MD a function of time\n",
    "\n",
    "    Args:\n",
    "        path: Path to the run directory\n",
    "    Returns:\n",
    "        Report of the number of ligands generated at each time point\n",
    "    \"\"\"\n",
    "\n",
    "    # Count the \"process_ligand\" tasks\n",
    "    output = []\n",
    "    with open(path / 'simulation-results.json') as fp:\n",
    "        for line in fp:\n",
    "            record = json.loads(line)\n",
    "            if record['success'] and record['method'] == 'run_molecular_dynamics':\n",
    "                output.append({\n",
    "                    'time': record['timestamp']['result_received'],\n",
    "                    'num_made': 1,\n",
    "                })\n",
    "    \n",
    "    # Collect results\n",
    "    output = pd.DataFrame(output)\n",
    "    output['time'] -= output['time'].min()\n",
    "    output.sort_values('time', inplace=True)\n",
    "    output['total'] = output['num_made'].cumsum()\n",
    "    return output\n",
    "lammps = load_lammps(path)"
   ]
  },
  {
   "cell_type": "code",
   "execution_count": 10,
   "id": "39f7e846-1ef7-48d5-ba6b-4e556754f084",
   "metadata": {},
   "outputs": [],
   "source": [
    "res = linregress(lammps['time'], lammps['total'])"
   ]
  },
  {
   "cell_type": "code",
   "execution_count": 11,
   "id": "0bbceb8e-e8dd-4124-92f5-70da85f0eded",
   "metadata": {},
   "outputs": [
    {
     "data": {
      "text/plain": [
       "Text(0, 0.5, 'Count')"
      ]
     },
     "execution_count": 11,
     "metadata": {},
     "output_type": "execute_result"
    },
    {
     "data": {
      "image/png": "[encoded data removed]",
      "text/plain": [
       "<Figure size 350x200 with 1 Axes>"
      ]
     },
     "metadata": {},
     "output_type": "display_data"
    }
   ],
   "source": [
    "fig, ax = plt.subplots(figsize=(3.5, 2.))\n",
    "\n",
    "ax.step(lammps['time'], lammps['total'])\n",
    "ax.plot(ax.get_xlim(), np.multiply(res.slope, ax.get_xlim()) + res.intercept, 'k--')\n",
    "\n",
    "ax.set_xlabel('Time (s)')\n",
    "ax.set_ylabel('Count')"
   ]
  },
  {
   "cell_type": "markdown",
   "id": "7b811118-bfe3-4fae-b413-ca5eb8e7b41e",
   "metadata": {},
   "source": [
    "## Gas Storage\n",
    "From the RASPA finished"
   ]
  },
  {
   "cell_type": "code",
   "execution_count": 12,
   "id": "99fdec5b-817e-453d-9f9a-1ddec2d351bb",
   "metadata": {},
   "outputs": [],
   "source": [
    "def load_raspa(path: Path) -> pd.DataFrame:\n",
    "    \"\"\"Get the number of MOFs through GCMC a function of time\n",
    "\n",
    "    Args:\n",
    "        path: Path to the run directory\n",
    "    Returns:\n",
    "        Report of the number of ligands generated at each time point\n",
    "    \"\"\"\n",
    "\n",
    "    # Count the \"process_ligand\" tasks\n",
    "    output = []\n",
    "    with open(path / 'simulation-results.json') as fp:\n",
    "        for line in fp:\n",
    "            record = json.loads(line)\n",
    "            if record['success'] and record['method'] == 'run_GCMC_single':\n",
    "                output.append({\n",
    "                    'time': record['timestamp']['result_received'],\n",
    "                    'num_made': 1,\n",
    "                })\n",
    "    \n",
    "    # Collect results\n",
    "    output = pd.DataFrame(output)\n",
    "    output['time'] -= output['time'].min()\n",
    "    output.sort_values('time', inplace=True)\n",
    "    output['total'] = output['num_made'].cumsum()\n",
    "    return output\n",
    "raspa = load_raspa(path)"
   ]
  },
  {
   "cell_type": "code",
   "execution_count": 13,
   "id": "1dc45a81-1296-423e-bd33-db900c08f5ef",
   "metadata": {},
   "outputs": [],
   "source": [
    "res = siegelslopes(raspa['total'], raspa['time'])"
   ]
  },
  {
   "cell_type": "code",
   "execution_count": 14,
   "id": "7e27c7ba-5848-4e1f-846b-6d117faef65a",
   "metadata": {},
   "outputs": [
    {
     "data": {
      "text/plain": [
       "Text(0, 0.5, 'Count')"
      ]
     },
     "execution_count": 14,
     "metadata": {},
     "output_type": "execute_result"
    },
    {
     "data": {
      "image/png": "[encoded data removed]",
      "text/plain": [
       "<Figure size 350x200 with 1 Axes>"
      ]
     },
     "metadata": {},
     "output_type": "display_data"
    }
   ],
   "source": [
    "fig, ax = plt.subplots(figsize=(3.5, 2.))\n",
    "\n",
    "ax.step(raspa['time'], raspa['total'])\n",
    "ax.plot(ax.get_xlim(), np.multiply(res.slope, ax.get_xlim()) + res.intercept, 'k--')\n",
    "\n",
    "ax.set_xlabel('Time (s)')\n",
    "ax.set_ylabel('Count')"
   ]
  },
  {
   "cell_type": "markdown",
   "id": "718030e1-f698-4fe3-ac51-6c104dc81b5b",
   "metadata": {},
   "source": [
    "## Summarize Over Scale\n",
    "Plot these results as a function of scale"
   ]
  },
  {
   "cell_type": "code",
   "execution_count": 15,
   "id": "475810a8-3e58-47a4-aa5c-3bfebb79c4ec",
   "metadata": {},
   "outputs": [
    {
     "data": {
      "text/html": [
       "<div>\n",
       "<style scoped>\n",
       "    .dataframe tbody tr th:only-of-type {\n",
       "        vertical-align: middle;\n",
       "    }\n",
       "\n",
       "    .dataframe tbody tr th {\n",
       "        vertical-align: top;\n",
       "    }\n",
       "\n",
       "    .dataframe thead th {\n",
       "        text-align: right;\n",
       "    }\n",
       "</style>\n",
       "<table border=\"1\" class=\"dataframe\">\n",
       "  <thead>\n",
       "    <tr style=\"text-align: right;\">\n",
       "      <th></th>\n",
       "      <th>nodes</th>\n",
       "      <th>DiffLinker-rate</th>\n",
       "      <th>Assembly-rate</th>\n",
       "      <th>LAMMPS-rate</th>\n",
       "      <th>RASPA-rate</th>\n",
       "    </tr>\n",
       "  </thead>\n",
       "  <tbody>\n",
       "    <tr>\n",
       "      <th>1</th>\n",
       "      <td>64</td>\n",
       "      <td>1.801904e+05</td>\n",
       "      <td>30028.931713</td>\n",
       "      <td>3557.010391</td>\n",
       "      <td>17.054113</td>\n",
       "    </tr>\n",
       "    <tr>\n",
       "      <th>2</th>\n",
       "      <td>256</td>\n",
       "      <td>8.922647e+05</td>\n",
       "      <td>150765.328746</td>\n",
       "      <td>14065.025027</td>\n",
       "      <td>62.023301</td>\n",
       "    </tr>\n",
       "    <tr>\n",
       "      <th>0</th>\n",
       "      <td>450</td>\n",
       "      <td>1.649134e+06</td>\n",
       "      <td>280278.829414</td>\n",
       "      <td>24425.866886</td>\n",
       "      <td>114.383164</td>\n",
       "    </tr>\n",
       "  </tbody>\n",
       "</table>\n",
       "</div>"
      ],
      "text/plain": [
       "   nodes  DiffLinker-rate  Assembly-rate   LAMMPS-rate  RASPA-rate\n",
       "1     64     1.801904e+05   30028.931713   3557.010391   17.054113\n",
       "2    256     8.922647e+05  150765.328746  14065.025027   62.023301\n",
       "0    450     1.649134e+06  280278.829414  24425.866886  114.383164"
      ]
     },
     "execution_count": 15,
     "metadata": {},
     "output_type": "execute_result"
    }
   ],
   "source": [
    "summary = []\n",
    "for path in Path('../prod-runs/').glob('*-nodes'):\n",
    "    nodes = int(path.name.split('-')[0])\n",
    "    me = {'nodes': nodes}\n",
    "\n",
    "    # Ones with linear regression\n",
    "    for task, func in [\n",
    "        ('DiffLinker', load_generation),\n",
    "        ('Assembly', load_assembly),\n",
    "        ('LAMMPS', load_lammps)\n",
    "    ]:\n",
    "        tasks = func(path)\n",
    "        me[task + '-rate'] = linregress(tasks['time'], tasks['total']).slope * 3600\n",
    "\n",
    "    # Ones with sparse regression\n",
    "    for task, func in [\n",
    "        ('RASPA', load_raspa)\n",
    "    ]:\n",
    "        tasks = func(path)\n",
    "        me[task + '-rate'] = siegelslopes(tasks['total'], tasks['time']).slope * 3600\n",
    "\n",
    "    summary.append(me)\n",
    "summary = pd.DataFrame(summary).sort_values('nodes')\n",
    "summary"
   ]
  },
  {
   "cell_type": "markdown",
   "id": "b0fbf8d7-d671-4b8c-aa1c-05eccdcf813d",
   "metadata": {},
   "source": [
    "Plot the scaling"
   ]
  },
  {
   "cell_type": "code",
   "execution_count": 16,
   "id": "2d084a1d-fa87-496a-a367-d1d3ad559583",
   "metadata": {},
   "outputs": [
    {
     "data": {
      "image/png": "[encoded data removed]",
      "text/plain": [
       "<Figure size 350x200 with 1 Axes>"
      ]
     },
     "metadata": {},
     "output_type": "display_data"
    }
   ],
   "source": [
    "fig, ax = plt.subplots(figsize=(3.5, 2.))\n",
    "\n",
    "markers = iter(['o', 'v', '^', 's'])\n",
    "for c in summary.columns:\n",
    "    if not c.endswith('-rate'):\n",
    "        continue\n",
    "    task = c.split('-')[0]\n",
    "\n",
    "    ax.loglog(summary['nodes'], summary[c], '--', label=task, marker=next(markers))\n",
    "    ax.set_xlim(ax.get_xlim())\n",
    "\n",
    "    # Plot the ideal scaling line\n",
    "    lowest_rate = summary[c].iloc[0]\n",
    "    ideal = lowest_rate / summary['nodes'].min()\n",
    "    ax.plot(ax.get_xlim(), np.multiply(ideal, list(ax.get_xlim())), 'k--', lw=1)\n",
    "\n",
    "ax.set_xscale('log', base=2)\n",
    "ax.set_xlabel('Nodes')\n",
    "ax.set_ylabel('Rate (1/hr)')\n",
    "ax.legend(ncol=2, fontsize=8)\n",
    "\n",
    "fig.tight_layout()\n",
    "fig.savefig('figures/task-rates-by-scale.png', dpi=320)\n",
    "fig.savefig('figures/task-rates-by-scale.pdf', dpi=320)"
   ]
  },
  {
   "cell_type": "code",
   "execution_count": null,
   "id": "87796554-7066-479c-89e3-ccac0603296e",
   "metadata": {},
   "outputs": [],
   "source": []
  }
 ],
 "metadata": {
  "kernelspec": {
   "display_name": "Python 3 (ipykernel)",
   "language": "python",
   "name": "python3"
  },
  "language_info": {
   "codemirror_mode": {
    "name": "ipython",
    "version": 3
   },
   "file_extension": ".py",
   "mimetype": "text/x-python",
   "name": "python",
   "nbconvert_exporter": "python",
   "pygments_lexer": "ipython3",
   "version": "3.10.8"
  }
 },
 "nbformat": 4,
 "nbformat_minor": 5
}
