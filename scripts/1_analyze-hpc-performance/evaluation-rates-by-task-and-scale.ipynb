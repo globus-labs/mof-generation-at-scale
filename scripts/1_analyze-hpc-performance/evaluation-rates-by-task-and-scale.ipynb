{
 "cells": [
  {
   "cell_type": "markdown",
   "id": "d2118633-0ed8-49cd-960d-1170b25b901d",
   "metadata": {},
   "source": [
    "# Plot the Evaluation Rates\n",
    "How many materials made it through each scale?"
   ]
  },
  {
   "cell_type": "code",
   "execution_count": 29,
   "id": "c72ac3a8-f449-4500-9995-4f72881aa02d",
   "metadata": {},
   "outputs": [],
   "source": [
    "%matplotlib inline\n",
    "from matplotlib import pyplot as plt\n",
    "from scipy.stats import siegelslopes, linregress\n",
    "from itertools import chain\n",
    "from pathlib import Path\n",
    "import pandas as pd\n",
    "import numpy as np\n",
    "import seaborn as sns\n",
    "import json\n",
    "import re"
   ]
  },
  {
   "cell_type": "markdown",
   "id": "06e7a0be-3b07-4ee6-a89b-936033bf15d7",
   "metadata": {},
   "source": [
    "## Load the results\n",
    "Get the results from the biggest scale, show how we compute the generation rate"
   ]
  },
  {
   "cell_type": "code",
   "execution_count": 2,
   "id": "c8259384-9796-45d0-abb7-7ef29c0045a0",
   "metadata": {},
   "outputs": [],
   "source": [
    "path = Path('../prod-runs/450-nodes/')"
   ]
  },
  {
   "cell_type": "markdown",
   "id": "4df45d24-0c43-4610-beb3-1635832b34b8",
   "metadata": {},
   "source": [
    "### Generated Ligands\n",
    "Start with the number of generated. We measure the number produced per batch using the \"done\" time as the time processing has completed"
   ]
  },
  {
   "cell_type": "code",
   "execution_count": 3,
   "id": "f363bfb2-550f-4820-9b88-f8c1262497f5",
   "metadata": {},
   "outputs": [],
   "source": [
    "def load_generation(path: Path) -> pd.DataFrame:\n",
    "    \"\"\"Get the number of ligands produced a function of time\n",
    "\n",
    "    Args:\n",
    "        path: Path to the run directory\n",
    "    Returns:\n",
    "        Report of the number of ligands generated at each time point\n",
    "    \"\"\"\n",
    "\n",
    "    # Get the number of ligands per task\n",
    "    ligand_per_task = json.loads((path / 'params.json').read_text())['gen_batch_size']\n",
    "\n",
    "    # Count the \"process_ligand\" tasks\n",
    "    output = []\n",
    "    with open(path / 'generation-results.json') as fp:\n",
    "        for line in fp:\n",
    "            record = json.loads(line)\n",
    "            if record['method'] == 'process_ligands' and record['success']:\n",
    "                output.append({\n",
    "                    'time': record['task_info']['process_done'],\n",
    "                    'num_made': ligand_per_task,\n",
    "                })\n",
    "    \n",
    "    # Collect results\n",
    "    output = pd.DataFrame(output)\n",
    "    output['time'] -= output['time'].min()\n",
    "    output.sort_values('time', inplace=True)\n",
    "    output['total'] = output['num_made'].cumsum()\n",
    "    return output\n",
    "generated = load_generation(path)"
   ]
  },
  {
   "cell_type": "code",
   "execution_count": 4,
   "id": "e2959a3a-8694-4c4b-82ea-bfd3b1336490",
   "metadata": {},
   "outputs": [
    {
     "data": {
      "text/plain": [
       "[<matplotlib.lines.Line2D at 0x13ce3dc00>]"
      ]
     },
     "execution_count": 4,
     "metadata": {},
     "output_type": "execute_result"
    },
    {
     "data": {
      "image/png": "[encoded data removed]",
      "text/plain": [
       "<Figure size 350x200 with 1 Axes>"
      ]
     },
     "metadata": {},
     "output_type": "display_data"
    }
   ],
   "source": [
    "fig, ax = plt.subplots(figsize=(3.5, 2.))\n",
    "\n",
    "reg = linregress(generated['time'], generated['total'])\n",
    "ax.step(generated['time'], generated['total'])"
   ]
  },
  {
   "cell_type": "code",
   "execution_count": 5,
   "id": "77ac504c-7dac-4235-90c6-cd078b597da4",
   "metadata": {},
   "outputs": [
    {
     "data": {
      "text/plain": [
       "LinregressResult(slope=458.0928106378535, intercept=55723.9837482865, rvalue=0.9998554350213723, pvalue=0.0, stderr=0.03962733250523293, intercept_stderr=242.90174962563304)"
      ]
     },
     "execution_count": 5,
     "metadata": {},
     "output_type": "execute_result"
    }
   ],
   "source": [
    "linregress(generated['time'], generated['total'])"
   ]
  },
  {
   "cell_type": "markdown",
   "id": "133fa4af-c39c-47e6-ad19-087a4c42592b",
   "metadata": {},
   "source": [
    "The result is very linear, so we can use standard linear regression"
   ]
  },
  {
   "cell_type": "markdown",
   "id": "46afae55-f1d4-4aca-836c-d89807652346",
   "metadata": {},
   "source": [
    "Determine the number which pass this step"
   ]
  },
  {
   "cell_type": "code",
   "execution_count": 6,
   "id": "2912c438-7c04-497b-a1ef-409bbebf1556",
   "metadata": {},
   "outputs": [],
   "source": [
    "process_re = re.compile(r'Received (\\d+) \\w+ ligands [\\w\\s]+, (\\d+) \\(')"
   ]
  },
  {
   "cell_type": "code",
   "execution_count": 7,
   "id": "f94e9039-1553-4304-8b10-d7f19c5df3dd",
   "metadata": {},
   "outputs": [],
   "source": [
    "total_made = total_valid = 0\n",
    "with (path / 'run.log').open() as fp:\n",
    "    for line in fp:\n",
    "        if (group := process_re.search(line)) is not None:\n",
    "            made, valid = group.groups()\n",
    "            total_made += int(made)\n",
    "            total_valid += int(valid)"
   ]
  },
  {
   "cell_type": "code",
   "execution_count": 8,
   "id": "9015dacb-d4c9-4335-b21f-2b6cdca440f5",
   "metadata": {},
   "outputs": [
    {
     "name": "stdout",
     "output_type": "stream",
     "text": [
      "Made 4946944 linkers, 1131063 (22.86%) are valid\n"
     ]
    }
   ],
   "source": [
    "print(f'Made {total_made} linkers, {total_valid} ({total_valid / total_made * 100:.2f}%) are valid')"
   ]
  },
  {
   "cell_type": "markdown",
   "id": "63631c2f-2600-4206-9d06-491f53e39c56",
   "metadata": {},
   "source": [
    "### Assembled MOFs\n",
    "Use the results of the assembly tasks"
   ]
  },
  {
   "cell_type": "code",
   "execution_count": 9,
   "id": "53f02307-e19e-497c-8208-f223dbfa236e",
   "metadata": {},
   "outputs": [],
   "source": [
    "def load_assembly(path: Path) -> pd.DataFrame:\n",
    "    \"\"\"Get the number of MOFs produced a function of time\n",
    "\n",
    "    Args:\n",
    "        path: Path to the run directory\n",
    "    Returns:\n",
    "        Report of the number of ligands generated at each time point\n",
    "    \"\"\"\n",
    "\n",
    "    # Count the \"process_ligand\" tasks\n",
    "    output = []\n",
    "    with open(path / 'assembly-results.json') as fp:\n",
    "        for line in fp:\n",
    "            record = json.loads(line)\n",
    "            if record['success']:\n",
    "                output.append({\n",
    "                    'time': record['timestamp']['result_received'],\n",
    "                    'num_made': record['task_info']['to_make'],\n",
    "                })\n",
    "    \n",
    "    # Collect results\n",
    "    output = pd.DataFrame(output)\n",
    "    output['time'] -= output['time'].min()\n",
    "    output.sort_values('time', inplace=True)\n",
    "    output['total'] = output['num_made'].cumsum()\n",
    "    return output\n",
    "assembled = load_assembly(path)"
   ]
  },
  {
   "cell_type": "code",
   "execution_count": 10,
   "id": "7dac1fa7-39fd-4cb6-995d-71cfa9b6a266",
   "metadata": {},
   "outputs": [],
   "source": [
    "res = linregress(assembled['time'], assembled['total'])"
   ]
  },
  {
   "cell_type": "code",
   "execution_count": 11,
   "id": "81b0589e-36b1-4a93-bf7d-e4a2da703718",
   "metadata": {},
   "outputs": [
    {
     "data": {
      "text/plain": [
       "Text(0, 0.5, 'Count')"
      ]
     },
     "execution_count": 11,
     "metadata": {},
     "output_type": "execute_result"
    },
    {
     "data": {
      "image/png": "[encoded data removed]",
      "text/plain": [
       "<Figure size 350x200 with 1 Axes>"
      ]
     },
     "metadata": {},
     "output_type": "display_data"
    }
   ],
   "source": [
    "fig, ax = plt.subplots(figsize=(3.5, 2.))\n",
    "\n",
    "ax.step(assembled['time'], assembled['total'])\n",
    "ax.plot(ax.get_xlim(), np.multiply(res.slope, ax.get_xlim()) + res.intercept, 'k--')\n",
    "\n",
    "ax.set_xlabel('Time (s)')\n",
    "ax.set_ylabel('Count')"
   ]
  },
  {
   "cell_type": "markdown",
   "id": "2d820f58-3cbd-4963-8241-5b8a7507f11b",
   "metadata": {},
   "source": [
    "Count the number made"
   ]
  },
  {
   "cell_type": "code",
   "execution_count": 12,
   "id": "2314cb13-344c-435a-b4da-c504111c6085",
   "metadata": {},
   "outputs": [],
   "source": [
    "assembled_re = re.compile(r'Created (\\d+) new MOFs')"
   ]
  },
  {
   "cell_type": "code",
   "execution_count": 13,
   "id": "601389e4-9691-4145-ab48-f8cb8ab8fb3c",
   "metadata": {},
   "outputs": [],
   "source": [
    "total_assembled = assembled[\"total\"].max()"
   ]
  },
  {
   "cell_type": "code",
   "execution_count": 14,
   "id": "5dc322cf-eab3-4f6d-bcc6-9700c22da01a",
   "metadata": {},
   "outputs": [],
   "source": [
    "total_succeeded = 0\n",
    "with (path / 'run.log').open() as fp:\n",
    "    for line in fp:\n",
    "        if (group := assembled_re.search(line)) is not None:\n",
    "            total_succeeded += int(group.groups()[0])"
   ]
  },
  {
   "cell_type": "code",
   "execution_count": 15,
   "id": "292c858f-b670-42dd-8b33-cbb6791db23d",
   "metadata": {},
   "outputs": [
    {
     "name": "stdout",
     "output_type": "stream",
     "text": [
      "Assembled 818304 MOFs. 818304 (99.85%) passed quality control\n"
     ]
    }
   ],
   "source": [
    "print(f'Assembled {total_assembled} MOFs. {total_assembled} ({total_succeeded / total_assembled * 100:.2f}%) passed quality control')"
   ]
  },
  {
   "cell_type": "markdown",
   "id": "ce06df78-d8bd-44c1-a11f-8e6144f60b0d",
   "metadata": {},
   "source": [
    "## Stabilities Computed\n",
    "Get the number of LAMMPS computations completed as a function of time"
   ]
  },
  {
   "cell_type": "code",
   "execution_count": 16,
   "id": "9513428d-c10a-454c-a92b-24069de61a03",
   "metadata": {},
   "outputs": [],
   "source": [
    "def load_lammps(path: Path) -> pd.DataFrame:\n",
    "    \"\"\"Get the number of MOFs through MD a function of time\n",
    "\n",
    "    Args:\n",
    "        path: Path to the run directory\n",
    "    Returns:\n",
    "        Report of the number of ligands generated at each time point\n",
    "    \"\"\"\n",
    "\n",
    "    # Count the \"process_ligand\" tasks\n",
    "    output = []\n",
    "    with open(path / 'simulation-results.json') as fp:\n",
    "        for line in fp:\n",
    "            record = json.loads(line)\n",
    "            if record['method'] == 'run_molecular_dynamics':\n",
    "                output.append({\n",
    "                    'time': record['timestamp']['result_received'],\n",
    "                    'num_made': 1 if record['success'] else 0,\n",
    "                })\n",
    "    \n",
    "    # Collect results\n",
    "    output = pd.DataFrame(output)\n",
    "    output['time'] -= output['time'].min()\n",
    "    output.sort_values('time', inplace=True)\n",
    "    output['total'] = output['num_made'].cumsum()\n",
    "    return output\n",
    "lammps = load_lammps(path)"
   ]
  },
  {
   "cell_type": "code",
   "execution_count": 17,
   "id": "39f7e846-1ef7-48d5-ba6b-4e556754f084",
   "metadata": {},
   "outputs": [],
   "source": [
    "res = linregress(lammps['time'], lammps['total'])"
   ]
  },
  {
   "cell_type": "code",
   "execution_count": 18,
   "id": "0bbceb8e-e8dd-4124-92f5-70da85f0eded",
   "metadata": {},
   "outputs": [
    {
     "data": {
      "text/plain": [
       "Text(0, 0.5, 'Count')"
      ]
     },
     "execution_count": 18,
     "metadata": {},
     "output_type": "execute_result"
    },
    {
     "data": {
      "image/png": "[encoded data removed]",
      "text/plain": [
       "<Figure size 350x200 with 1 Axes>"
      ]
     },
     "metadata": {},
     "output_type": "display_data"
    }
   ],
   "source": [
    "fig, ax = plt.subplots(figsize=(3.5, 2.))\n",
    "\n",
    "ax.step(lammps['time'], lammps['total'])\n",
    "ax.plot(ax.get_xlim(), np.multiply(res.slope, ax.get_xlim()) + res.intercept, 'k--')\n",
    "\n",
    "ax.set_xlabel('Time (s)')\n",
    "ax.set_ylabel('Count')"
   ]
  },
  {
   "cell_type": "markdown",
   "id": "bd8ce7f2-4bf2-4d29-9a11-b0d6720a7680",
   "metadata": {},
   "source": [
    "Count how many were attempted"
   ]
  },
  {
   "cell_type": "code",
   "execution_count": 19,
   "id": "012ee926-a4d5-44a0-a07a-154551e7d05b",
   "metadata": {},
   "outputs": [],
   "source": [
    "total_md_started = len(lammps)\n",
    "total_md_success = lammps['total'].max()"
   ]
  },
  {
   "cell_type": "code",
   "execution_count": 20,
   "id": "a1d77c1d-4905-45c4-9467-bace514987f4",
   "metadata": {},
   "outputs": [
    {
     "name": "stdout",
     "output_type": "stream",
     "text": [
      "Attempted LAMMPS on 123702 (15.12%), succeeded on 70500 (8.62%)\n"
     ]
    }
   ],
   "source": [
    "print(f'Attempted LAMMPS on {total_md_started} ({total_md_started / total_assembled * 100:.2f}%), succeeded on {total_md_success} ({total_md_success / total_assembled * 100:.2f}%)')"
   ]
  },
  {
   "cell_type": "markdown",
   "id": "7b811118-bfe3-4fae-b413-ca5eb8e7b41e",
   "metadata": {},
   "source": [
    "## Gas Storage\n",
    "From the RASPA finished"
   ]
  },
  {
   "cell_type": "code",
   "execution_count": 21,
   "id": "99fdec5b-817e-453d-9f9a-1ddec2d351bb",
   "metadata": {},
   "outputs": [],
   "source": [
    "def load_raspa(path: Path) -> pd.DataFrame:\n",
    "    \"\"\"Get the number of MOFs through GCMC a function of time\n",
    "\n",
    "    Args:\n",
    "        path: Path to the run directory\n",
    "    Returns:\n",
    "        Report of the number of ligands generated at each time point\n",
    "    \"\"\"\n",
    "\n",
    "    # Count the \"process_ligand\" tasks\n",
    "    output = []\n",
    "    with open(path / 'simulation-results.json') as fp:\n",
    "        for line in fp:\n",
    "            record = json.loads(line)\n",
    "            if record['success'] and record['method'] == 'run_GCMC_single':\n",
    "                output.append({\n",
    "                    'time': record['timestamp']['result_received'],\n",
    "                    'num_made': 1,\n",
    "                })\n",
    "    \n",
    "    # Collect results\n",
    "    output = pd.DataFrame(output)\n",
    "    output['time'] -= output['time'].min()\n",
    "    output.sort_values('time', inplace=True)\n",
    "    output['total'] = output['num_made'].cumsum()\n",
    "    return output\n",
    "raspa = load_raspa(path)"
   ]
  },
  {
   "cell_type": "code",
   "execution_count": 22,
   "id": "1dc45a81-1296-423e-bd33-db900c08f5ef",
   "metadata": {},
   "outputs": [],
   "source": [
    "res = siegelslopes(raspa['total'], raspa['time'])"
   ]
  },
  {
   "cell_type": "code",
   "execution_count": 23,
   "id": "7e27c7ba-5848-4e1f-846b-6d117faef65a",
   "metadata": {},
   "outputs": [
    {
     "data": {
      "text/plain": [
       "Text(0, 0.5, 'Count')"
      ]
     },
     "execution_count": 23,
     "metadata": {},
     "output_type": "execute_result"
    },
    {
     "data": {
      "image/png": "[encoded data removed]",
      "text/plain": [
       "<Figure size 350x200 with 1 Axes>"
      ]
     },
     "metadata": {},
     "output_type": "display_data"
    }
   ],
   "source": [
    "fig, ax = plt.subplots(figsize=(3.5, 2.))\n",
    "\n",
    "ax.step(raspa['time'], raspa['total'])\n",
    "ax.plot(ax.get_xlim(), np.multiply(res.slope, ax.get_xlim()) + res.intercept, 'k--')\n",
    "\n",
    "ax.set_xlabel('Time (s)')\n",
    "ax.set_ylabel('Count')"
   ]
  },
  {
   "cell_type": "markdown",
   "id": "ac96e8a3-b4ef-4a02-b04e-3682a4b36cc0",
   "metadata": {},
   "source": [
    "Count the screening fraction"
   ]
  },
  {
   "cell_type": "code",
   "execution_count": 24,
   "id": "83702c15-89d7-473c-989c-399e9101551e",
   "metadata": {},
   "outputs": [
    {
     "name": "stdout",
     "output_type": "stream",
     "text": [
      "Evaluated storage of 224 (0.03%)\n"
     ]
    }
   ],
   "source": [
    "print(f'Evaluated storage of {len(raspa)} ({len(raspa) / total_assembled *100:.2f}%)')"
   ]
  },
  {
   "cell_type": "markdown",
   "id": "718030e1-f698-4fe3-ac51-6c104dc81b5b",
   "metadata": {},
   "source": [
    "## Summarize Over Scale\n",
    "Plot these results as a function of scale"
   ]
  },
  {
   "cell_type": "code",
   "execution_count": 25,
   "id": "97fc16c5-9f43-48ec-af90-5ceba9c4100e",
   "metadata": {},
   "outputs": [],
   "source": [
    "runs = list(chain(Path('../prod-runs/').glob('*-nodes'), Path('../prod-runs/').glob('*-nodes_repeat-*')))"
   ]
  },
  {
   "cell_type": "code",
   "execution_count": 27,
   "id": "475810a8-3e58-47a4-aa5c-3bfebb79c4ec",
   "metadata": {},
   "outputs": [
    {
     "data": {
      "text/html": [
       "<div>\n",
       "<style scoped>\n",
       "    .dataframe tbody tr th:only-of-type {\n",
       "        vertical-align: middle;\n",
       "    }\n",
       "\n",
       "    .dataframe tbody tr th {\n",
       "        vertical-align: top;\n",
       "    }\n",
       "\n",
       "    .dataframe thead th {\n",
       "        text-align: right;\n",
       "    }\n",
       "</style>\n",
       "<table border=\"1\" class=\"dataframe\">\n",
       "  <thead>\n",
       "    <tr style=\"text-align: right;\">\n",
       "      <th></th>\n",
       "      <th>name</th>\n",
       "      <th>nodes</th>\n",
       "      <th>DiffLinker-rate</th>\n",
       "      <th>Assembly-rate</th>\n",
       "      <th>LAMMPS-rate</th>\n",
       "      <th>CP2K+RASPA-rate</th>\n",
       "    </tr>\n",
       "  </thead>\n",
       "  <tbody>\n",
       "    <tr>\n",
       "      <th>3</th>\n",
       "      <td>32-nodes_repeat-1</td>\n",
       "      <td>32</td>\n",
       "      <td>5.998298e+04</td>\n",
       "      <td>31655.763591</td>\n",
       "      <td>1917.031667</td>\n",
       "      <td>5.719428</td>\n",
       "    </tr>\n",
       "    <tr>\n",
       "      <th>5</th>\n",
       "      <td>32-nodes_repeat-2</td>\n",
       "      <td>32</td>\n",
       "      <td>7.880699e+04</td>\n",
       "      <td>31354.873685</td>\n",
       "      <td>1893.035318</td>\n",
       "      <td>7.396966</td>\n",
       "    </tr>\n",
       "    <tr>\n",
       "      <th>4</th>\n",
       "      <td>64-nodes_repeat-1</td>\n",
       "      <td>64</td>\n",
       "      <td>1.801904e+05</td>\n",
       "      <td>30028.931713</td>\n",
       "      <td>3545.920710</td>\n",
       "      <td>17.054113</td>\n",
       "    </tr>\n",
       "    <tr>\n",
       "      <th>0</th>\n",
       "      <td>128-nodes</td>\n",
       "      <td>128</td>\n",
       "      <td>4.064778e+05</td>\n",
       "      <td>60282.054454</td>\n",
       "      <td>7018.797974</td>\n",
       "      <td>32.367186</td>\n",
       "    </tr>\n",
       "    <tr>\n",
       "      <th>1</th>\n",
       "      <td>256-nodes</td>\n",
       "      <td>256</td>\n",
       "      <td>8.792606e+05</td>\n",
       "      <td>151548.181768</td>\n",
       "      <td>14008.846510</td>\n",
       "      <td>68.104150</td>\n",
       "    </tr>\n",
       "    <tr>\n",
       "      <th>2</th>\n",
       "      <td>450-nodes</td>\n",
       "      <td>450</td>\n",
       "      <td>1.649134e+06</td>\n",
       "      <td>280278.829414</td>\n",
       "      <td>24401.898524</td>\n",
       "      <td>114.383164</td>\n",
       "    </tr>\n",
       "  </tbody>\n",
       "</table>\n",
       "</div>"
      ],
      "text/plain": [
       "                name  nodes  DiffLinker-rate  Assembly-rate   LAMMPS-rate  \\\n",
       "3  32-nodes_repeat-1     32     5.998298e+04   31655.763591   1917.031667   \n",
       "5  32-nodes_repeat-2     32     7.880699e+04   31354.873685   1893.035318   \n",
       "4  64-nodes_repeat-1     64     1.801904e+05   30028.931713   3545.920710   \n",
       "0          128-nodes    128     4.064778e+05   60282.054454   7018.797974   \n",
       "1          256-nodes    256     8.792606e+05  151548.181768  14008.846510   \n",
       "2          450-nodes    450     1.649134e+06  280278.829414  24401.898524   \n",
       "\n",
       "   CP2K+RASPA-rate  \n",
       "3         5.719428  \n",
       "5         7.396966  \n",
       "4        17.054113  \n",
       "0        32.367186  \n",
       "1        68.104150  \n",
       "2       114.383164  "
      ]
     },
     "execution_count": 27,
     "metadata": {},
     "output_type": "execute_result"
    }
   ],
   "source": [
    "summary = []\n",
    "for path in runs:\n",
    "    nodes = int(path.name.split('-')[0])\n",
    "    me = {'name': path.name, 'nodes': nodes}\n",
    "\n",
    "    # Ones with linear regression\n",
    "    for task, func in [\n",
    "        ('DiffLinker', load_generation),\n",
    "        ('Assembly', load_assembly),\n",
    "        ('LAMMPS', load_lammps)\n",
    "    ]:\n",
    "        tasks = func(path)\n",
    "        me[task + '-rate'] = linregress(tasks['time'], tasks['total']).slope * 3600\n",
    "\n",
    "    # Ones with sparse regression\n",
    "    for task, func in [\n",
    "        ('CP2K+RASPA', load_raspa)\n",
    "    ]:\n",
    "        tasks = func(path)\n",
    "        me[task + '-rate'] = siegelslopes(tasks['total'], tasks['time']).slope * 3600\n",
    "\n",
    "    summary.append(me)\n",
    "summary = pd.DataFrame(summary).sort_values('nodes')\n",
    "summary"
   ]
  },
  {
   "cell_type": "markdown",
   "id": "b0fbf8d7-d671-4b8c-aa1c-05eccdcf813d",
   "metadata": {},
   "source": [
    "Plot the scaling"
   ]
  },
  {
   "cell_type": "code",
   "execution_count": 28,
   "id": "2d084a1d-fa87-496a-a367-d1d3ad559583",
   "metadata": {},
   "outputs": [
    {
     "data": {
      "image/png": "[encoded data removed]",
      "text/plain": [
       "<Figure size 350x170 with 1 Axes>"
      ]
     },
     "metadata": {},
     "output_type": "display_data"
    }
   ],
   "source": [
    "fig, ax = plt.subplots(figsize=(3.5, 1.7))\n",
    "\n",
    "markers = iter(['o', 'v', '^', 's'])\n",
    "colors = iter(['forestgreen', 'olivedrab', 'darkkhaki', 'goldenrod'])\n",
    "for c in summary.columns:\n",
    "    if not c.endswith('-rate'):\n",
    "        continue\n",
    "    subset = summary.groupby('nodes')[c].mean()\n",
    "    task = c.split('-')[0]\n",
    "\n",
    "    ax.loglog(subset.index, subset, '--', label=task, marker=next(markers), color=next(colors))\n",
    "    ax.set_xlim(ax.get_xlim())\n",
    "\n",
    "    # Plot the ideal scaling line\n",
    "    lowest_rate = subset.iloc[0]\n",
    "    ideal = lowest_rate / subset.index.min()\n",
    "    ax.plot(ax.get_xlim(), np.multiply(ideal, list(ax.get_xlim())), 'k--', lw=1)\n",
    "\n",
    "ax.set_xscale('log', base=2)\n",
    "ax.set_xlabel('Nodes')\n",
    "ax.set_ylabel('Rate (1/hr)')\n",
    "ax.legend(ncol=2, fontsize=7, loc=(0.1, 0.2))\n",
    "\n",
    "fig.tight_layout()\n",
    "fig.savefig('figures/task-rates-by-scale.png', dpi=320)\n",
    "fig.savefig('figures/task-rates-by-scale.pdf', dpi=320)"
   ]
  },
  {
   "cell_type": "code",
   "execution_count": 54,
   "id": "87796554-7066-479c-89e3-ccac0603296e",
   "metadata": {},
   "outputs": [
    {
     "data": {
      "image/png": "[encoded data removed]",
      "text/plain": [
       "<Figure size 400x170 with 1 Axes>"
      ]
     },
     "metadata": {},
     "output_type": "display_data"
    }
   ],
   "source": [
    "with sns.plotting_context(\"paper\", font_scale=1.0):\n",
    "\n",
    "    fig, ax = plt.subplots(figsize=(4, 1.7))\n",
    "\n",
    "    markers = iter(['o', 'v', '^', 's'])\n",
    "    colors = iter(sns.color_palette(\"tab10\"))\n",
    "    for c in summary.columns:\n",
    "        if not c.endswith('-rate'):\n",
    "            continue\n",
    "        subset = summary.groupby('nodes')[c].mean()\n",
    "        task = c.split('-')[0]\n",
    "\n",
    "        ax.loglog(subset.index, subset, '--', label=task, marker=next(markers), color=next(colors))\n",
    "        ax.set_xlim(ax.get_xlim())\n",
    "\n",
    "        # Plot the ideal scaling line\n",
    "        lowest_rate = subset.iloc[0]\n",
    "        ideal = lowest_rate / subset.index.min()\n",
    "        ax.plot(ax.get_xlim(), np.multiply(ideal, list(ax.get_xlim())), 'k--', lw=1)\n",
    "\n",
    "    ax.set_xscale('log', base=2)\n",
    "    ax.set_xlabel('Nodes')\n",
    "    ax.set_ylabel('Rate (1/hr)')\n",
    "    ax.legend(ncol=2, loc=\"upper center\", bbox_to_anchor=(0.5, 1.4), frameon=False)\n",
    "    # ax.legend(ncol=2, fontsize=7, loc=(0.1, 0.2))\n",
    "\n",
    "    # fig.tight_layout()\n",
    "    plt.grid(True, linestyle=\":\", zorder=-3)\n",
    "    fig.savefig('figures-v2/task-rates-by-scale-v2.png', dpi=320, bbox_inches=\"tight\")\n",
    "    fig.savefig('figures-v2/task-rates-by-scale-v2.pdf', bbox_inches=\"tight\")\n",
    "\n",
    "    plt.show()"
   ]
  },
  {
   "cell_type": "code",
   "execution_count": null,
   "id": "68b9c886",
   "metadata": {},
   "outputs": [],
   "source": []
  }
 ],
 "metadata": {
  "kernelspec": {
   "display_name": "mofa",
   "language": "python",
   "name": "python3"
  },
  "language_info": {
   "codemirror_mode": {
    "name": "ipython",
    "version": 3
   },
   "file_extension": ".py",
   "mimetype": "text/x-python",
   "name": "python",
   "nbconvert_exporter": "python",
   "pygments_lexer": "ipython3",
   "version": "3.10.14"
  }
 },
 "nbformat": 4,
 "nbformat_minor": 5
}
