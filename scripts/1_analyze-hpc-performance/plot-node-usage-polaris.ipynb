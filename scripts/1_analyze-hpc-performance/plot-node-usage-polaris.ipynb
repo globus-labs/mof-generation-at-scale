{
 "cells": [
  {
   "cell_type": "markdown",
   "metadata": {},
   "source": [
    "# Plot Run Data\n",
    "This notebook plots the performance of a run to assess the optimization performance and system utilization."
   ]
  },
  {
   "cell_type": "code",
   "execution_count": 1,
   "metadata": {
    "tags": []
   },
   "outputs": [],
   "source": [
    "%matplotlib inline\n",
    "from matplotlib import pyplot as plt\n",
    "from matplotlib import colors\n",
    "from scipy.interpolate import interp1d\n",
    "from datetime import datetime\n",
    "from pathlib import Path\n",
    "from tqdm import tqdm\n",
    "import pandas as pd\n",
    "import numpy as np\n",
    "import json\n",
    "import gzip\n",
    "import os"
   ]
  },
  {
   "cell_type": "markdown",
   "metadata": {},
   "source": [
    "Configuration"
   ]
  },
  {
   "cell_type": "code",
   "execution_count": 2,
   "metadata": {},
   "outputs": [],
   "source": [
    "run_dir = Path('../../run/parallel-polaris-10Apr24223641-f603ff/')\n",
    "local_ranks_per_task = {\n",
    "    \"run_molecular_dynamics\": 8,\n",
    "    \"run_generator\": 4, \n",
    "    \"train_generator\": 1\n",
    "}"
   ]
  },
  {
   "cell_type": "code",
   "execution_count": 3,
   "metadata": {},
   "outputs": [],
   "source": [
    "Path('figures').mkdir(exist_ok=True)"
   ]
  },
  {
   "cell_type": "markdown",
   "metadata": {},
   "source": [
    "## Load in all results\n",
    "Get them from each \"-results.json\" file"
   ]
  },
  {
   "cell_type": "code",
   "execution_count": 4,
   "metadata": {},
   "outputs": [
    {
     "name": "stdout",
     "output_type": "stream",
     "text": [
      "Found 3 types of result files\n"
     ]
    }
   ],
   "source": [
    "result_files = list(run_dir.glob('*-results.json'))\n",
    "print(f'Found {len(result_files)} types of result files')"
   ]
  },
  {
   "cell_type": "markdown",
   "metadata": {},
   "source": [
    "Store the create time, start time and end time for running, and node on which they were running"
   ]
  },
  {
   "cell_type": "code",
   "execution_count": 5,
   "metadata": {},
   "outputs": [],
   "source": [
    "tasks = []\n",
    "for result_file in result_files:\n",
    "    task_type = result_file.name.split(\"-\")[0]\n",
    "    with open(result_file) as fp:\n",
    "        for line in fp:\n",
    "            row = json.loads(line)\n",
    "            tasks.append({\n",
    "                'task_type': task_type,\n",
    "                'method': row['method'],\n",
    "                'create_time': row['timestamp']['created'],\n",
    "                'start_time': row['timestamp']['compute_started'],\n",
    "                'end_time': row['timestamp']['compute_ended'],\n",
    "                'span_running': row['time']['running'],\n",
    "                'node': row['worker_info']['hostname'],\n",
    "                'local_rank': int(row['worker_info']['PARSL_WORKER_RANK'])\n",
    "            })\n",
    "tasks = pd.DataFrame(tasks)"
   ]
  },
  {
   "cell_type": "code",
   "execution_count": 6,
   "metadata": {},
   "outputs": [
    {
     "name": "stdout",
     "output_type": "stream",
     "text": [
      "method,span_running\n",
      "compute_partial_charges,18\n",
      "process_ligands,1778\n",
      "run_GCMC_single,4\n",
      "run_generator,219\n",
      "run_molecular_dynamics,9960\n",
      "run_optimization,19\n",
      "train_generator,77\n",
      "\n"
     ]
    }
   ],
   "source": [
    "print(tasks.groupby('method')['span_running'].count().to_csv())"
   ]
  },
  {
   "cell_type": "markdown",
   "metadata": {},
   "source": [
    "Normalize times by the time the first task was created"
   ]
  },
  {
   "cell_type": "code",
   "execution_count": 7,
   "metadata": {},
   "outputs": [],
   "source": [
    "zero_time = tasks['create_time'].min()"
   ]
  },
  {
   "cell_type": "code",
   "execution_count": 8,
   "metadata": {},
   "outputs": [],
   "source": [
    "time_cols = [c for c in tasks.columns if c.endswith('time')]\n",
    "tasks[time_cols] -= zero_time"
   ]
  },
  {
   "cell_type": "markdown",
   "metadata": {},
   "source": [
    "Assign node ids by the first time they received a task"
   ]
  },
  {
   "cell_type": "code",
   "execution_count": 9,
   "metadata": {},
   "outputs": [
    {
     "name": "stdout",
     "output_type": "stream",
     "text": [
      "Found 32 nodes\n"
     ]
    }
   ],
   "source": [
    "node_names = []\n",
    "compute = json.loads((run_dir / 'compute-config.json').read_text())\n",
    "for k, v in compute.items():\n",
    "    if k.endswith('_hosts'):\n",
    "        node_names.extend([\n",
    "            x.split(\".\")[0] for x in v\n",
    "        ])\n",
    "num_nodes = len(node_names)\n",
    "print(f'Found {len(node_names)} nodes')"
   ]
  },
  {
   "cell_type": "code",
   "execution_count": 10,
   "metadata": {},
   "outputs": [],
   "source": [
    "tasks['node_id'] = tasks['node'].apply(node_names.index)"
   ]
  },
  {
   "cell_type": "markdown",
   "metadata": {},
   "source": [
    "Assign a numerical task ID"
   ]
  },
  {
   "cell_type": "code",
   "execution_count": 11,
   "metadata": {},
   "outputs": [],
   "source": [
    "methods = sorted(set(tasks['method']))\n",
    "tasks['task_id'] = tasks['method'].apply(methods.index)"
   ]
  },
  {
   "cell_type": "code",
   "execution_count": 12,
   "metadata": {},
   "outputs": [
    {
     "data": {
      "text/plain": [
       "['compute_partial_charges',\n",
       " 'process_ligands',\n",
       " 'run_GCMC_single',\n",
       " 'run_generator',\n",
       " 'run_molecular_dynamics',\n",
       " 'run_optimization',\n",
       " 'train_generator']"
      ]
     },
     "execution_count": 12,
     "metadata": {},
     "output_type": "execute_result"
    }
   ],
   "source": [
    "methods"
   ]
  },
  {
   "cell_type": "markdown",
   "metadata": {},
   "source": [
    "Get the node names for the CP2K workers"
   ]
  },
  {
   "cell_type": "code",
   "execution_count": 13,
   "metadata": {},
   "outputs": [],
   "source": [
    "cp2k_workers: list[list[int]] = []\n",
    "for path in sorted(run_dir.joinpath('cp2k-hostfiles').glob('local_hostfile*')):\n",
    "    cp2k_workers.append([\n",
    "        node_names.index(x.split(\".\")[0]) for x in path.read_text().split(\"\\n\")\n",
    "    ])"
   ]
  },
  {
   "cell_type": "markdown",
   "metadata": {},
   "source": [
    "## Plot Assignment to Different Nodes\n",
    "See how work is distributed.  [color pallete](https://coolors.co/f2545b-a93f55-0f7173-75f4f4-f9c22e)"
   ]
  },
  {
   "cell_type": "code",
   "execution_count": 14,
   "metadata": {},
   "outputs": [],
   "source": [
    "color_map = [\n",
    "    'black', # Unknown\n",
    "    'white', # Helper task\n",
    "    'white', # Helper task\n",
    "    'white', # Helper task\n",
    "    '#F2545B', # Generation\n",
    "    '#75F4F4', # Molecular Dynamics\n",
    "    'purple', # CP2K\n",
    "    'gold',  # Training\n",
    "]"
   ]
  },
  {
   "cell_type": "markdown",
   "metadata": {},
   "source": [
    "Prepare to store a map of node id to task type"
   ]
  },
  {
   "cell_type": "code",
   "execution_count": 15,
   "metadata": {},
   "outputs": [],
   "source": [
    "task_types = [0] * len(node_names)"
   ]
  },
  {
   "cell_type": "code",
   "execution_count": 16,
   "metadata": {
    "tags": []
   },
   "outputs": [
    {
     "data": {
      "image/png": "[encoded data removed]",
      "text/plain": [
       "<Figure size 350x225 with 1 Axes>"
      ]
     },
     "metadata": {},
     "output_type": "display_data"
    }
   ],
   "source": [
    "fig, ax = plt.subplots(figsize=(3.5, 2.25))\n",
    "\n",
    "for gid, group in tasks.groupby('method'):\n",
    "    # Determine which nodes are covered\n",
    "    if gid in ['process_ligands', 'compute_partial_charges', 'run_GCMC_single']:\n",
    "        continue\n",
    "    elif gid in ['run_optimization']:\n",
    "        y = [min(cp2k_workers[l]) for l in group['local_rank']]\n",
    "        height = 2\n",
    "        nodes = [i + j for j in range(height) for i in set(y)]\n",
    "    else:\n",
    "        num_ranks = local_ranks_per_task[gid]\n",
    "        height = 1 / num_ranks\n",
    "        offset = group['local_rank'] / num_ranks\n",
    "        y = group[\"node_id\"] + offset\n",
    "        nodes = group[\"node_id\"]\n",
    "\n",
    "    task_type = group[\"task_type\"].iloc[0]\n",
    "    c = color_map[methods.index(gid) + 1]\n",
    "    ax.barh(y=y,\n",
    "            width=group[\"span_running\"] / 60,\n",
    "            left=group[\"start_time\"] / 60,\n",
    "            height=height,\n",
    "            label=gid,\n",
    "            color=c,\n",
    "            align='edge')\n",
    "            #edgecolor='k', linewidth=0.2,)\n",
    "\n",
    "    for i in set(nodes):\n",
    "        task_types[int(i)] = methods.index(gid) + 1\n",
    "    \n",
    "    \n",
    "#ax.set_yticks(np.arange(len(node_names)))\n",
    "ax.set_ylabel('Node')\n",
    "\n",
    "#ax.set_xlim([2, 4])\n",
    "ax.set_ylim(0, num_nodes)\n",
    "ax.set_xlabel('Time (min)')\n",
    "ax.legend(fontsize=8)\n",
    "fig.tight_layout()\n",
    "fig.savefig('figures/task-type-by-node.png', dpi=320)"
   ]
  },
  {
   "cell_type": "markdown",
   "metadata": {},
   "source": [
    "## Summarize the GPU Utilization\n",
    "Plot the amount of each GPU being used over time. Still color by task"
   ]
  },
  {
   "cell_type": "code",
   "execution_count": 17,
   "metadata": {},
   "outputs": [
    {
     "name": "stderr",
     "output_type": "stream",
     "text": [
      "32it [00:03,  8.13it/s]\n"
     ]
    }
   ],
   "source": [
    "from datetime import datetime\n",
    "\n",
    "time_offset_from_UTC = (datetime.now() - datetime.utcnow()).total_seconds() / 3600.0\n",
    "time_offset_from_UTC\n",
    "\n",
    "utilization = []\n",
    "for utilization_file in tqdm(run_dir.glob('logs/*.log')):\n",
    "    # Pull in the total data\n",
    "    util_data = pd.read_json(utilization_file, lines=True)\n",
    "    util_data['time'] = util_data['time'].apply(lambda x: datetime.fromisoformat(x).timestamp()) - zero_time + time_offset_from_UTC * 3600  # TZ Issue?\n",
    "    node_name = utilization_file.name[:-4]\n",
    "    util_data['node'] = node_name\n",
    "    \n",
    "    # Summarize the GPU utilization\n",
    "    util_data['gpu_power'] = util_data['gpu_use'].apply(lambda row: [x['power.draw'] for x in row])\n",
    "    util_data['gpu_mem'] = util_data['gpu_use'].apply(lambda row: [x['memory.used'] for x in row])\n",
    "    util_data['gpu_use'] = util_data['gpu_use'].apply(lambda row: [x['utilization.gpu'] for x in row])\n",
    "    \n",
    "    utilization.append(util_data[['time', 'node', 'cpu_use', 'gpu_mem', 'gpu_power', 'gpu_use']])\n",
    "utilization = pd.concat(utilization, ignore_index=True)"
   ]
  },
  {
   "cell_type": "code",
   "execution_count": 18,
   "metadata": {},
   "outputs": [],
   "source": [
    "for c in ['cpu', 'gpu']:\n",
    "    utilization[f'{c}_use_total'] = utilization[f'{c}_use'].apply(np.sum)\n",
    "utilization['gpu_power_total'] = utilization['gpu_power'].apply(np.sum)"
   ]
  },
  {
   "cell_type": "markdown",
   "metadata": {},
   "source": [
    "Compile to a full-system utilization"
   ]
  },
  {
   "cell_type": "code",
   "execution_count": 19,
   "metadata": {},
   "outputs": [],
   "source": [
    "freq = 60  # How often to assess utilization"
   ]
  },
  {
   "cell_type": "code",
   "execution_count": 20,
   "metadata": {},
   "outputs": [],
   "source": [
    "times = np.arange(0, utilization['time'].max(), step=freq)\n",
    "system_average = {\n",
    "    'time': times,\n",
    "    'cpu_use': np.zeros_like(times),\n",
    "    'gpu_use': np.zeros_like(times),\n",
    "    'gpu_power': np.zeros_like(times),\n",
    "}"
   ]
  },
  {
   "cell_type": "code",
   "execution_count": 21,
   "metadata": {},
   "outputs": [
    {
     "data": {
      "text/html": [
       "<div>\n",
       "<style scoped>\n",
       "    .dataframe tbody tr th:only-of-type {\n",
       "        vertical-align: middle;\n",
       "    }\n",
       "\n",
       "    .dataframe tbody tr th {\n",
       "        vertical-align: top;\n",
       "    }\n",
       "\n",
       "    .dataframe thead th {\n",
       "        text-align: right;\n",
       "    }\n",
       "</style>\n",
       "<table border=\"1\" class=\"dataframe\">\n",
       "  <thead>\n",
       "    <tr style=\"text-align: right;\">\n",
       "      <th></th>\n",
       "      <th>time</th>\n",
       "      <th>node</th>\n",
       "      <th>cpu_use</th>\n",
       "      <th>gpu_mem</th>\n",
       "      <th>gpu_power</th>\n",
       "      <th>gpu_use</th>\n",
       "      <th>cpu_use_total</th>\n",
       "      <th>gpu_use_total</th>\n",
       "      <th>gpu_power_total</th>\n",
       "    </tr>\n",
       "  </thead>\n",
       "  <tbody>\n",
       "    <tr>\n",
       "      <th>0</th>\n",
       "      <td>3.260348</td>\n",
       "      <td>x3003c0s7b0n0</td>\n",
       "      <td>[1.8, 0.0, 0.0, 0.0, 10.9, 0.0, 0.0, 0.0, 0.0,...</td>\n",
       "      <td>[31, 31, 31, 31]</td>\n",
       "      <td>[54, 51, 54, 59]</td>\n",
       "      <td>[0, 0, 0, 0]</td>\n",
       "      <td>19.9</td>\n",
       "      <td>0</td>\n",
       "      <td>218</td>\n",
       "    </tr>\n",
       "    <tr>\n",
       "      <th>1</th>\n",
       "      <td>23.825151</td>\n",
       "      <td>x3003c0s7b0n0</td>\n",
       "      <td>[3.2, 1.8, 1.3, 0.0, 1.1, 2.4, 0.9, 1.4, 2.0, ...</td>\n",
       "      <td>[31, 31, 31, 31]</td>\n",
       "      <td>[54, 51, 54, 59]</td>\n",
       "      <td>[0, 0, 0, 0]</td>\n",
       "      <td>99.0</td>\n",
       "      <td>0</td>\n",
       "      <td>218</td>\n",
       "    </tr>\n",
       "    <tr>\n",
       "      <th>2</th>\n",
       "      <td>44.390311</td>\n",
       "      <td>x3003c0s7b0n0</td>\n",
       "      <td>[0.1, 0.0, 0.0, 0.0, 0.0, 1.7000000000000002, ...</td>\n",
       "      <td>[31, 31, 31, 31]</td>\n",
       "      <td>[54, 51, 54, 59]</td>\n",
       "      <td>[0, 0, 0, 0]</td>\n",
       "      <td>11.3</td>\n",
       "      <td>0</td>\n",
       "      <td>218</td>\n",
       "    </tr>\n",
       "    <tr>\n",
       "      <th>3</th>\n",
       "      <td>64.961827</td>\n",
       "      <td>x3003c0s7b0n0</td>\n",
       "      <td>[0.0, 0.0, 0.0, 0.0, 0.8, 0.4, 0.0, 0.0, 0.300...</td>\n",
       "      <td>[31, 31, 31, 31]</td>\n",
       "      <td>[54, 51, 54, 59]</td>\n",
       "      <td>[0, 0, 0, 0]</td>\n",
       "      <td>13.7</td>\n",
       "      <td>0</td>\n",
       "      <td>218</td>\n",
       "    </tr>\n",
       "    <tr>\n",
       "      <th>4</th>\n",
       "      <td>85.530089</td>\n",
       "      <td>x3003c0s7b0n0</td>\n",
       "      <td>[0.2, 0.0, 0.0, 0.0, 0.0, 0.30000000000000004,...</td>\n",
       "      <td>[31, 31, 31, 31]</td>\n",
       "      <td>[54, 51, 54, 59]</td>\n",
       "      <td>[0, 0, 0, 0]</td>\n",
       "      <td>13.5</td>\n",
       "      <td>0</td>\n",
       "      <td>218</td>\n",
       "    </tr>\n",
       "    <tr>\n",
       "      <th>...</th>\n",
       "      <td>...</td>\n",
       "      <td>...</td>\n",
       "      <td>...</td>\n",
       "      <td>...</td>\n",
       "      <td>...</td>\n",
       "      <td>...</td>\n",
       "      <td>...</td>\n",
       "      <td>...</td>\n",
       "      <td>...</td>\n",
       "    </tr>\n",
       "    <tr>\n",
       "      <th>16699</th>\n",
       "      <td>10630.456731</td>\n",
       "      <td>x3004c0s25b1n0</td>\n",
       "      <td>[100.0, 0.0, 0.0, 0.0, 100.0, 0.30000000000000...</td>\n",
       "      <td>[861, 859, 863, 875]</td>\n",
       "      <td>[60, 60, 74, 81]</td>\n",
       "      <td>[39, 37, 40, 53]</td>\n",
       "      <td>808.6</td>\n",
       "      <td>169</td>\n",
       "      <td>275</td>\n",
       "    </tr>\n",
       "    <tr>\n",
       "      <th>16700</th>\n",
       "      <td>10651.011516</td>\n",
       "      <td>x3004c0s25b1n0</td>\n",
       "      <td>[99.7, 0.2, 0.0, 0.0, 100.0, 0.600000000000000...</td>\n",
       "      <td>[861, 857, 863, 867]</td>\n",
       "      <td>[60, 60, 74, 80]</td>\n",
       "      <td>[40, 37, 41, 54]</td>\n",
       "      <td>806.1</td>\n",
       "      <td>172</td>\n",
       "      <td>274</td>\n",
       "    </tr>\n",
       "    <tr>\n",
       "      <th>16701</th>\n",
       "      <td>10671.566614</td>\n",
       "      <td>x3004c0s25b1n0</td>\n",
       "      <td>[100.0, 6.5, 0.30000000000000004, 63.5, 100.0,...</td>\n",
       "      <td>[863, 861, 863, 867]</td>\n",
       "      <td>[62, 60, 74, 81]</td>\n",
       "      <td>[40, 35, 40, 57]</td>\n",
       "      <td>878.3</td>\n",
       "      <td>172</td>\n",
       "      <td>277</td>\n",
       "    </tr>\n",
       "    <tr>\n",
       "      <th>16702</th>\n",
       "      <td>10692.111477</td>\n",
       "      <td>x3004c0s25b1n0</td>\n",
       "      <td>[100.0, 0.6000000000000001, 0.0, 8.5, 100.0, 0...</td>\n",
       "      <td>[865, 861, 863, 867]</td>\n",
       "      <td>[79, 60, 74, 81]</td>\n",
       "      <td>[42, 35, 41, 57]</td>\n",
       "      <td>817.4</td>\n",
       "      <td>175</td>\n",
       "      <td>294</td>\n",
       "    </tr>\n",
       "    <tr>\n",
       "      <th>16703</th>\n",
       "      <td>10712.660627</td>\n",
       "      <td>x3004c0s25b1n0</td>\n",
       "      <td>[100.0, 1.2, 0.0, 0.0, 100.0, 1.1, 0.0, 0.0, 1...</td>\n",
       "      <td>[865, 861, 863, 867]</td>\n",
       "      <td>[80, 59, 74, 81]</td>\n",
       "      <td>[44, 35, 39, 57]</td>\n",
       "      <td>807.5</td>\n",
       "      <td>175</td>\n",
       "      <td>294</td>\n",
       "    </tr>\n",
       "  </tbody>\n",
       "</table>\n",
       "<p>16704 rows × 9 columns</p>\n",
       "</div>"
      ],
      "text/plain": [
       "               time            node  \\\n",
       "0          3.260348   x3003c0s7b0n0   \n",
       "1         23.825151   x3003c0s7b0n0   \n",
       "2         44.390311   x3003c0s7b0n0   \n",
       "3         64.961827   x3003c0s7b0n0   \n",
       "4         85.530089   x3003c0s7b0n0   \n",
       "...             ...             ...   \n",
       "16699  10630.456731  x3004c0s25b1n0   \n",
       "16700  10651.011516  x3004c0s25b1n0   \n",
       "16701  10671.566614  x3004c0s25b1n0   \n",
       "16702  10692.111477  x3004c0s25b1n0   \n",
       "16703  10712.660627  x3004c0s25b1n0   \n",
       "\n",
       "                                                 cpu_use  \\\n",
       "0      [1.8, 0.0, 0.0, 0.0, 10.9, 0.0, 0.0, 0.0, 0.0,...   \n",
       "1      [3.2, 1.8, 1.3, 0.0, 1.1, 2.4, 0.9, 1.4, 2.0, ...   \n",
       "2      [0.1, 0.0, 0.0, 0.0, 0.0, 1.7000000000000002, ...   \n",
       "3      [0.0, 0.0, 0.0, 0.0, 0.8, 0.4, 0.0, 0.0, 0.300...   \n",
       "4      [0.2, 0.0, 0.0, 0.0, 0.0, 0.30000000000000004,...   \n",
       "...                                                  ...   \n",
       "16699  [100.0, 0.0, 0.0, 0.0, 100.0, 0.30000000000000...   \n",
       "16700  [99.7, 0.2, 0.0, 0.0, 100.0, 0.600000000000000...   \n",
       "16701  [100.0, 6.5, 0.30000000000000004, 63.5, 100.0,...   \n",
       "16702  [100.0, 0.6000000000000001, 0.0, 8.5, 100.0, 0...   \n",
       "16703  [100.0, 1.2, 0.0, 0.0, 100.0, 1.1, 0.0, 0.0, 1...   \n",
       "\n",
       "                    gpu_mem         gpu_power           gpu_use  \\\n",
       "0          [31, 31, 31, 31]  [54, 51, 54, 59]      [0, 0, 0, 0]   \n",
       "1          [31, 31, 31, 31]  [54, 51, 54, 59]      [0, 0, 0, 0]   \n",
       "2          [31, 31, 31, 31]  [54, 51, 54, 59]      [0, 0, 0, 0]   \n",
       "3          [31, 31, 31, 31]  [54, 51, 54, 59]      [0, 0, 0, 0]   \n",
       "4          [31, 31, 31, 31]  [54, 51, 54, 59]      [0, 0, 0, 0]   \n",
       "...                     ...               ...               ...   \n",
       "16699  [861, 859, 863, 875]  [60, 60, 74, 81]  [39, 37, 40, 53]   \n",
       "16700  [861, 857, 863, 867]  [60, 60, 74, 80]  [40, 37, 41, 54]   \n",
       "16701  [863, 861, 863, 867]  [62, 60, 74, 81]  [40, 35, 40, 57]   \n",
       "16702  [865, 861, 863, 867]  [79, 60, 74, 81]  [42, 35, 41, 57]   \n",
       "16703  [865, 861, 863, 867]  [80, 59, 74, 81]  [44, 35, 39, 57]   \n",
       "\n",
       "       cpu_use_total  gpu_use_total  gpu_power_total  \n",
       "0               19.9              0              218  \n",
       "1               99.0              0              218  \n",
       "2               11.3              0              218  \n",
       "3               13.7              0              218  \n",
       "4               13.5              0              218  \n",
       "...              ...            ...              ...  \n",
       "16699          808.6            169              275  \n",
       "16700          806.1            172              274  \n",
       "16701          878.3            172              277  \n",
       "16702          817.4            175              294  \n",
       "16703          807.5            175              294  \n",
       "\n",
       "[16704 rows x 9 columns]"
      ]
     },
     "execution_count": 21,
     "metadata": {},
     "output_type": "execute_result"
    }
   ],
   "source": [
    "utilization"
   ]
  },
  {
   "cell_type": "code",
   "execution_count": 22,
   "metadata": {},
   "outputs": [],
   "source": [
    "for nid, group in utilization.groupby('node'):\n",
    "    util_f = interp1d(group['time'], group['gpu_use_total'], fill_value=0, bounds_error=False)\n",
    "    power_f = interp1d(group['time'], group['gpu_power_total'], fill_value=0, bounds_error=False)\n",
    "    system_average['gpu_power'] += power_f(system_average['time'])\n",
    "    system_average['gpu_use'] += util_f(system_average['time']) / 100  # From percentage to total\n",
    "\n",
    "    util_f = interp1d(group['time'], group['cpu_use_total'], fill_value=0, bounds_error=False)\n",
    "    system_average['cpu_use'] += util_f(system_average['time']) / 6400  # From percentage to total"
   ]
  },
  {
   "cell_type": "code",
   "execution_count": 23,
   "metadata": {},
   "outputs": [],
   "source": [
    "system_average = pd.DataFrame(system_average)"
   ]
  },
  {
   "cell_type": "code",
   "execution_count": 24,
   "metadata": {},
   "outputs": [
    {
     "data": {
      "image/png": "[encoded data removed]",
      "text/plain": [
       "<Figure size 350x250 with 1 Axes>"
      ]
     },
     "metadata": {},
     "output_type": "display_data"
    }
   ],
   "source": [
    "fig, ax = plt.subplots(figsize=(3.5, 2.5))\n",
    "\n",
    "ax.fill_between(system_average['time'] / 60, system_average['gpu_use'] / (num_nodes * 4) * 100)\n",
    "\n",
    "ax.set_xlim([0, system_average['time'].max() / 60])\n",
    "ax.plot(ax.get_xlim(), [100] * 2, 'k--', lw=1.)\n",
    "\n",
    "ax.set_xlabel('Walltime (min)')\n",
    "ax.set_ylabel('GPU Utilization (%)')\n",
    "fig.tight_layout()\n",
    "fig.savefig('figures/gpu-utilization.png', dpi=320)"
   ]
  },
  {
   "cell_type": "code",
   "execution_count": 25,
   "metadata": {},
   "outputs": [
    {
     "data": {
      "image/png": "[encoded data removed]",
      "text/plain": [
       "<Figure size 350x250 with 1 Axes>"
      ]
     },
     "metadata": {},
     "output_type": "display_data"
    }
   ],
   "source": [
    "fig, ax = plt.subplots(figsize=(3.5, 2.5))\n",
    "\n",
    "ax.fill_between(system_average['time'] / 3600, system_average['gpu_power'] / 1000)\n",
    "\n",
    "ax.set_xlim([0, system_average['time'].max() / 3600])\n",
    "\n",
    "ax.set_xlabel('Walltime (hr)')\n",
    "ax.set_ylabel('GPU Power (kW)')\n",
    "fig.tight_layout()\n",
    "fig.savefig('figures/gpu-utilization.png', dpi=320)"
   ]
  },
  {
   "cell_type": "markdown",
   "metadata": {},
   "source": [
    "Compute node ids so we can associate nodes with tasks"
   ]
  },
  {
   "cell_type": "code",
   "execution_count": 26,
   "metadata": {},
   "outputs": [],
   "source": [
    "utilization['node_id'] = utilization['node'].apply(node_names.index)"
   ]
  },
  {
   "cell_type": "markdown",
   "metadata": {},
   "source": [
    "Summarize task and utilization"
   ]
  },
  {
   "cell_type": "code",
   "execution_count": 27,
   "metadata": {},
   "outputs": [],
   "source": [
    "utilization_matrix = np.ones((num_nodes * 4, len(times), 4))  # Time interval, GPU ID, (RGBA) where RGB are defined by task and A by color"
   ]
  },
  {
   "cell_type": "code",
   "execution_count": 28,
   "metadata": {},
   "outputs": [],
   "source": [
    "chosen_rgb = np.array([colors.to_rgb(c) for c in color_map])\n",
    "for node_id, group in utilization.groupby('node_id'):\n",
    "    # Get the color to use based on the task type this node is used for\n",
    "    task_type = task_types[node_id]\n",
    "    my_color = chosen_rgb[task_type]\n",
    "\n",
    "    # Map the task type to color\n",
    "    row_start = node_id * 4\n",
    "    utilization_matrix[row_start:row_start+4, :, :3] = my_color[None, None, :]\n",
    "    \n",
    "    # Make the alpha channel the color\n",
    "    \n",
    "    for gpu_id in range(4):\n",
    "        util_fun = interp1d(group['time'], group['gpu_use'].apply(lambda x: x[gpu_id] / 100), fill_value=0, bounds_error=False)\n",
    "        utilization_matrix[node_id * 4 + gpu_id, :, -1] = util_fun(times)"
   ]
  },
  {
   "cell_type": "markdown",
   "metadata": {},
   "source": [
    "Plot utilization."
   ]
  },
  {
   "cell_type": "code",
   "execution_count": 29,
   "metadata": {},
   "outputs": [
    {
     "data": {
      "image/png": "[encoded data removed]",
      "text/plain": [
       "<Figure size 350x175 with 1 Axes>"
      ]
     },
     "metadata": {},
     "output_type": "display_data"
    }
   ],
   "source": [
    "fig, ax = plt.subplots(figsize=(3.5, 1.75))\n",
    "\n",
    "ax.matshow(utilization_matrix, origin='lower', aspect='auto',\n",
    "           extent=[0, times.max() / 3600, 0, num_nodes])\n",
    "ax.xaxis.tick_bottom()\n",
    "\n",
    "ax.set_xlabel('Time (hr)')\n",
    "ax.set_ylabel('Node')\n",
    "\n",
    "bbox_kwargs = dict(edgecolor='k', facecolor='w', alpha=0.95)\n",
    "ax.annotate('Generation', (2.8, 5), xytext=(2.1, 15),\n",
    "            bbox=bbox_kwargs, arrowprops=dict(width=0.5, headwidth=1.5, headlength=4),\n",
    "           fontsize=7)\n",
    "#ax.set_xlim([0, 3.])\n",
    "#ax.set_ylim([9, 12])\n",
    "\n",
    "fig.tight_layout(pad=0.1)\n",
    "fig.savefig('figures/utilization-by-GPU.png', dpi=320)"
   ]
  },
  {
   "cell_type": "code",
   "execution_count": null,
   "metadata": {},
   "outputs": [],
   "source": []
  },
  {
   "cell_type": "code",
   "execution_count": null,
   "metadata": {},
   "outputs": [],
   "source": []
  }
 ],
 "metadata": {
  "kernelspec": {
   "display_name": "Python 3 (ipykernel)",
   "language": "python",
   "name": "python3"
  },
  "language_info": {
   "codemirror_mode": {
    "name": "ipython",
    "version": 3
   },
   "file_extension": ".py",
   "mimetype": "text/x-python",
   "name": "python",
   "nbconvert_exporter": "python",
   "pygments_lexer": "ipython3",
   "version": "3.10.8"
  }
 },
 "nbformat": 4,
 "nbformat_minor": 4
}
