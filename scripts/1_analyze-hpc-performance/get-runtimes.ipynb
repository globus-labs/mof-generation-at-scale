{
 "cells": [
  {
   "cell_type": "markdown",
   "id": "2c5bccb6-53ea-4b5d-b045-c8dec422e299",
   "metadata": {},
   "source": [
    "## Task Durations\n",
    "Get the task durations from the 450-node run"
   ]
  },
  {
   "cell_type": "code",
   "execution_count": 1,
   "id": "f6e00596-0600-493c-b6a2-17df7da9782e",
   "metadata": {},
   "outputs": [],
   "source": [
    "from pathlib import Path\n",
    "import pandas as pd"
   ]
  },
  {
   "cell_type": "markdown",
   "id": "6db67bb8-0038-4e45-bdd3-ae40d209acd9",
   "metadata": {},
   "source": [
    "Config"
   ]
  },
  {
   "cell_type": "code",
   "execution_count": 2,
   "id": "9143bd85-e2c7-4b54-9a31-ecd63b06acfe",
   "metadata": {},
   "outputs": [],
   "source": [
    "run_path = Path('../prod-runs/450-nodes/')"
   ]
  },
  {
   "cell_type": "markdown",
   "id": "9d89f17f-b026-4af4-a714-d49f8e6235d6",
   "metadata": {},
   "source": [
    "## Get the Runtimes from the Result Files\n",
    "Get the average runtime per task"
   ]
  },
  {
   "cell_type": "code",
   "execution_count": 3,
   "id": "f625314b-b518-46d1-ae9a-d060fae53861",
   "metadata": {},
   "outputs": [],
   "source": [
    "by_method = []\n",
    "for file in run_path.glob('*-results.json'):\n",
    "    tasks = pd.read_json(file, lines=True)\n",
    "    tasks['runtime'] = tasks['time'].apply(lambda x: x['running'])\n",
    "    for name, subset in tasks.groupby('method'):\n",
    "        # Determine the number based on \n",
    "        \n",
    "        by_method.append({\n",
    "            'method': name,\n",
    "            **subset['runtime'].describe().to_dict()\n",
    "        })"
   ]
  },
  {
   "cell_type": "code",
   "execution_count": 4,
   "id": "6a1ccea2-b2a7-41c1-a511-e1376dc927b8",
   "metadata": {},
   "outputs": [
    {
     "data": {
      "text/html": [
       "<div>\n",
       "<style scoped>\n",
       "    .dataframe tbody tr th:only-of-type {\n",
       "        vertical-align: middle;\n",
       "    }\n",
       "\n",
       "    .dataframe tbody tr th {\n",
       "        vertical-align: top;\n",
       "    }\n",
       "\n",
       "    .dataframe thead th {\n",
       "        text-align: right;\n",
       "    }\n",
       "</style>\n",
       "<table border=\"1\" class=\"dataframe\">\n",
       "  <thead>\n",
       "    <tr style=\"text-align: right;\">\n",
       "      <th></th>\n",
       "      <th>method</th>\n",
       "      <th>count</th>\n",
       "      <th>mean</th>\n",
       "      <th>std</th>\n",
       "      <th>min</th>\n",
       "      <th>25%</th>\n",
       "      <th>50%</th>\n",
       "      <th>75%</th>\n",
       "      <th>max</th>\n",
       "    </tr>\n",
       "  </thead>\n",
       "  <tbody>\n",
       "    <tr>\n",
       "      <th>0</th>\n",
       "      <td>process_ligands</td>\n",
       "      <td>38685.0</td>\n",
       "      <td>15.324882</td>\n",
       "      <td>22.901533</td>\n",
       "      <td>0.029841</td>\n",
       "      <td>4.257929</td>\n",
       "      <td>8.736721</td>\n",
       "      <td>19.562954</td>\n",
       "      <td>1144.887687</td>\n",
       "    </tr>\n",
       "    <tr>\n",
       "      <th>1</th>\n",
       "      <td>run_generator</td>\n",
       "      <td>4778.0</td>\n",
       "      <td>376.245853</td>\n",
       "      <td>323.271789</td>\n",
       "      <td>32.975990</td>\n",
       "      <td>181.138492</td>\n",
       "      <td>269.747391</td>\n",
       "      <td>450.614381</td>\n",
       "      <td>7353.332190</td>\n",
       "    </tr>\n",
       "    <tr>\n",
       "      <th>2</th>\n",
       "      <td>assemble_many</td>\n",
       "      <td>6393.0</td>\n",
       "      <td>14.408609</td>\n",
       "      <td>0.937706</td>\n",
       "      <td>12.431217</td>\n",
       "      <td>13.850995</td>\n",
       "      <td>14.277052</td>\n",
       "      <td>14.782541</td>\n",
       "      <td>27.299553</td>\n",
       "    </tr>\n",
       "    <tr>\n",
       "      <th>3</th>\n",
       "      <td>train_generator</td>\n",
       "      <td>85.0</td>\n",
       "      <td>96.571124</td>\n",
       "      <td>126.823558</td>\n",
       "      <td>32.804582</td>\n",
       "      <td>36.417058</td>\n",
       "      <td>42.638048</td>\n",
       "      <td>46.937154</td>\n",
       "      <td>422.540000</td>\n",
       "    </tr>\n",
       "    <tr>\n",
       "      <th>4</th>\n",
       "      <td>compute_partial_charges</td>\n",
       "      <td>297.0</td>\n",
       "      <td>211.495775</td>\n",
       "      <td>22.866304</td>\n",
       "      <td>165.086035</td>\n",
       "      <td>194.421848</td>\n",
       "      <td>208.427942</td>\n",
       "      <td>224.075806</td>\n",
       "      <td>297.390665</td>\n",
       "    </tr>\n",
       "    <tr>\n",
       "      <th>5</th>\n",
       "      <td>run_GCMC_single</td>\n",
       "      <td>225.0</td>\n",
       "      <td>1891.765798</td>\n",
       "      <td>423.085200</td>\n",
       "      <td>0.254275</td>\n",
       "      <td>1583.678258</td>\n",
       "      <td>1803.019530</td>\n",
       "      <td>2149.674182</td>\n",
       "      <td>3907.674146</td>\n",
       "    </tr>\n",
       "    <tr>\n",
       "      <th>6</th>\n",
       "      <td>run_molecular_dynamics</td>\n",
       "      <td>123702.0</td>\n",
       "      <td>204.391879</td>\n",
       "      <td>179.220006</td>\n",
       "      <td>0.325153</td>\n",
       "      <td>0.902979</td>\n",
       "      <td>313.996324</td>\n",
       "      <td>359.636168</td>\n",
       "      <td>575.091465</td>\n",
       "    </tr>\n",
       "    <tr>\n",
       "      <th>7</th>\n",
       "      <td>run_optimization</td>\n",
       "      <td>305.0</td>\n",
       "      <td>1512.668131</td>\n",
       "      <td>973.637451</td>\n",
       "      <td>437.751491</td>\n",
       "      <td>584.157053</td>\n",
       "      <td>1000.418882</td>\n",
       "      <td>2534.710418</td>\n",
       "      <td>3011.846862</td>\n",
       "    </tr>\n",
       "  </tbody>\n",
       "</table>\n",
       "</div>"
      ],
      "text/plain": [
       "                    method     count         mean         std         min  \\\n",
       "0          process_ligands   38685.0    15.324882   22.901533    0.029841   \n",
       "1            run_generator    4778.0   376.245853  323.271789   32.975990   \n",
       "2            assemble_many    6393.0    14.408609    0.937706   12.431217   \n",
       "3          train_generator      85.0    96.571124  126.823558   32.804582   \n",
       "4  compute_partial_charges     297.0   211.495775   22.866304  165.086035   \n",
       "5          run_GCMC_single     225.0  1891.765798  423.085200    0.254275   \n",
       "6   run_molecular_dynamics  123702.0   204.391879  179.220006    0.325153   \n",
       "7         run_optimization     305.0  1512.668131  973.637451  437.751491   \n",
       "\n",
       "           25%          50%          75%          max  \n",
       "0     4.257929     8.736721    19.562954  1144.887687  \n",
       "1   181.138492   269.747391   450.614381  7353.332190  \n",
       "2    13.850995    14.277052    14.782541    27.299553  \n",
       "3    36.417058    42.638048    46.937154   422.540000  \n",
       "4   194.421848   208.427942   224.075806   297.390665  \n",
       "5  1583.678258  1803.019530  2149.674182  3907.674146  \n",
       "6     0.902979   313.996324   359.636168   575.091465  \n",
       "7   584.157053  1000.418882  2534.710418  3011.846862  "
      ]
     },
     "execution_count": 4,
     "metadata": {},
     "output_type": "execute_result"
    }
   ],
   "source": [
    "pd.DataFrame(by_method)"
   ]
  },
  {
   "cell_type": "code",
   "execution_count": 5,
   "id": "e52cb4f6-2aed-4558-bbdf-e372fc7e7be7",
   "metadata": {},
   "outputs": [],
   "source": [
    "tasks = pd.read_json(run_path / 'generation-results.json', lines=True)"
   ]
  },
  {
   "cell_type": "code",
   "execution_count": null,
   "id": "3e9c810d-a3ad-4929-b72c-330a31b3d982",
   "metadata": {},
   "outputs": [],
   "source": []
  }
 ],
 "metadata": {
  "kernelspec": {
   "display_name": "Python 3 (ipykernel)",
   "language": "python",
   "name": "python3"
  },
  "language_info": {
   "codemirror_mode": {
    "name": "ipython",
    "version": 3
   },
   "file_extension": ".py",
   "mimetype": "text/x-python",
   "name": "python",
   "nbconvert_exporter": "python",
   "pygments_lexer": "ipython3",
   "version": "3.10.8"
  }
 },
 "nbformat": 4,
 "nbformat_minor": 5
}
