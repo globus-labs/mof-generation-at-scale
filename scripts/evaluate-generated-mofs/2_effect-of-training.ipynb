{
 "cells": [
  {
   "cell_type": "markdown",
   "id": "5211ca75-c0ed-4e81-ae37-2a21533656f1",
   "metadata": {},
   "source": [
    "# Evaluate the Effect of Training \n",
    "We can assess whether retraining Difflinker leads to improved performance in two ways:\n",
    "1. Evaluate how much the success rate improves with re-training\n",
    "2. The difference between the total number of stable MOFs found w/ and w/o a closed loop"
   ]
  },
  {
   "cell_type": "code",
   "execution_count": 1,
   "id": "e0c564c2-ec6d-4d55-bc8e-944a80d35598",
   "metadata": {},
   "outputs": [],
   "source": [
    "from matplotlib import pyplot as plt\n",
    "from itertools import chain\n",
    "from scipy.interpolate import interp1d\n",
    "from pathlib import Path\n",
    "import pandas as pd"
   ]
  },
  {
   "cell_type": "markdown",
   "id": "9eed8f00-7ce0-4ad9-a28d-8d2f96bd1904",
   "metadata": {},
   "source": [
    "Config"
   ]
  },
  {
   "cell_type": "code",
   "execution_count": 2,
   "id": "7777ff7f-fa88-42b2-a70a-fd2c84ba38d5",
   "metadata": {},
   "outputs": [],
   "source": [
    "summary_paths = list(chain(Path('summaries').glob('*-nodes.csv.gz'), Path('summaries').glob('*-nodes_repeat-*.csv.gz'), Path('summaries').glob('*no-retrain*.csv.gz')))"
   ]
  },
  {
   "cell_type": "markdown",
   "id": "c56bd56d-a264-4e11-a7ec-e3bb62268e42",
   "metadata": {},
   "source": [
    "## Route 1: Measure Success Rate by Model Generation\n",
    "Measure the success rate of models as a function of generation"
   ]
  },
  {
   "cell_type": "code",
   "execution_count": 3,
   "id": "766e8e4f-f7f9-40c0-85ae-45223f361363",
   "metadata": {},
   "outputs": [],
   "source": [
    "success_data = []\n",
    "for path in summary_paths:\n",
    "    # Get metadata\n",
    "    count = int(path.name.split(\"-\")[0])\n",
    "    retrain = 'no-retrain' not in path.name\n",
    "\n",
    "    # Pull the success rate\n",
    "    mofs = pd.read_csv(path)\n",
    "    mofs['stable'] = mofs['structure_stability.uff'] < 0.1\n",
    "\n",
    "    for gen, subset in mofs.groupby('model_version'):\n",
    "        success_data.append({\n",
    "            'name': path.name,\n",
    "            'nodes': count,\n",
    "            'first': subset['walltime'].min(),\n",
    "            'retrain': retrain,\n",
    "            'version': gen,\n",
    "            'total': len(subset),\n",
    "            'stable': subset['stable'].sum(),\n",
    "            'stable_frac': subset['stable'].mean()\n",
    "        })\n",
    "success_data = pd.DataFrame(success_data)"
   ]
  },
  {
   "cell_type": "markdown",
   "id": "d5ef0e56-890c-400b-96d9-8c5d1f7e4d14",
   "metadata": {},
   "source": [
    "Look at a coarse metric: the success rate by generation for one of the larger runs. I pick a larger run because I get more MOFs per generation of model and therefore better assessments of success rate."
   ]
  },
  {
   "cell_type": "code",
   "execution_count": 4,
   "id": "87e79ea3-1011-4dc5-b535-72aa59d3a62d",
   "metadata": {},
   "outputs": [
    {
     "data": {
      "text/plain": [
       "Text(0, 0.5, 'Success Rate')"
      ]
     },
     "execution_count": 4,
     "metadata": {},
     "output_type": "execute_result"
    },
    {
     "data": {
      "image/png": "[encoded data removed]",
      "text/plain": [
       "<Figure size 350x200 with 1 Axes>"
      ]
     },
     "metadata": {},
     "output_type": "display_data"
    }
   ],
   "source": [
    "fig, ax = plt.subplots(figsize=(3.5, 2.))\n",
    "\n",
    "for count, subset in success_data.query('nodes==256').groupby('nodes'):\n",
    "    ax.scatter(subset['version'], subset['stable_frac'], s=4)\n",
    "\n",
    "ax.set_xlabel('Model Version')\n",
    "ax.set_ylabel('Success Rate')"
   ]
  },
  {
   "cell_type": "markdown",
   "id": "805ae299-0592-429e-95a3-cbc749722082",
   "metadata": {},
   "source": [
    "Now, narrow down: does using the original (version 0) model the whole time have a success rate."
   ]
  },
  {
   "cell_type": "code",
   "execution_count": 5,
   "id": "3503c66d-b22c-4c03-85f1-07d75c5374b0",
   "metadata": {},
   "outputs": [
    {
     "data": {
      "text/html": [
       "<div>\n",
       "<style scoped>\n",
       "    .dataframe tbody tr th:only-of-type {\n",
       "        vertical-align: middle;\n",
       "    }\n",
       "\n",
       "    .dataframe tbody tr th {\n",
       "        vertical-align: top;\n",
       "    }\n",
       "\n",
       "    .dataframe thead th {\n",
       "        text-align: right;\n",
       "    }\n",
       "</style>\n",
       "<table border=\"1\" class=\"dataframe\">\n",
       "  <thead>\n",
       "    <tr style=\"text-align: right;\">\n",
       "      <th></th>\n",
       "      <th>name</th>\n",
       "      <th>nodes</th>\n",
       "      <th>first</th>\n",
       "      <th>retrain</th>\n",
       "      <th>version</th>\n",
       "      <th>total</th>\n",
       "      <th>stable</th>\n",
       "      <th>stable_frac</th>\n",
       "    </tr>\n",
       "  </thead>\n",
       "  <tbody>\n",
       "    <tr>\n",
       "      <th>350</th>\n",
       "      <td>64-nodes_no-retrain_repeat-2.csv.gz</td>\n",
       "      <td>64</td>\n",
       "      <td>0.0</td>\n",
       "      <td>False</td>\n",
       "      <td>0</td>\n",
       "      <td>9770</td>\n",
       "      <td>807</td>\n",
       "      <td>0.082600</td>\n",
       "    </tr>\n",
       "    <tr>\n",
       "      <th>352</th>\n",
       "      <td>64-nodes_no-retrain.csv.gz</td>\n",
       "      <td>64</td>\n",
       "      <td>0.0</td>\n",
       "      <td>False</td>\n",
       "      <td>0</td>\n",
       "      <td>9894</td>\n",
       "      <td>723</td>\n",
       "      <td>0.073075</td>\n",
       "    </tr>\n",
       "  </tbody>\n",
       "</table>\n",
       "</div>"
      ],
      "text/plain": [
       "                                    name  nodes  first  retrain  version  \\\n",
       "350  64-nodes_no-retrain_repeat-2.csv.gz     64    0.0    False        0   \n",
       "352           64-nodes_no-retrain.csv.gz     64    0.0    False        0   \n",
       "\n",
       "     total  stable  stable_frac  \n",
       "350   9770     807     0.082600  \n",
       "352   9894     723     0.073075  "
      ]
     },
     "execution_count": 5,
     "metadata": {},
     "output_type": "execute_result"
    }
   ],
   "source": [
    "success_data.query('nodes == 64 and not retrain')"
   ]
  },
  {
   "cell_type": "code",
   "execution_count": 6,
   "id": "c7fcb167-676f-41c3-b9eb-8f0e0d1cb616",
   "metadata": {},
   "outputs": [
    {
     "data": {
      "text/html": [
       "<div>\n",
       "<style scoped>\n",
       "    .dataframe tbody tr th:only-of-type {\n",
       "        vertical-align: middle;\n",
       "    }\n",
       "\n",
       "    .dataframe tbody tr th {\n",
       "        vertical-align: top;\n",
       "    }\n",
       "\n",
       "    .dataframe thead th {\n",
       "        text-align: right;\n",
       "    }\n",
       "</style>\n",
       "<table border=\"1\" class=\"dataframe\">\n",
       "  <thead>\n",
       "    <tr style=\"text-align: right;\">\n",
       "      <th></th>\n",
       "      <th>nodes</th>\n",
       "      <th>first</th>\n",
       "      <th>retrain</th>\n",
       "      <th>version</th>\n",
       "      <th>total</th>\n",
       "      <th>stable</th>\n",
       "      <th>stable_frac</th>\n",
       "    </tr>\n",
       "    <tr>\n",
       "      <th>name</th>\n",
       "      <th></th>\n",
       "      <th></th>\n",
       "      <th></th>\n",
       "      <th></th>\n",
       "      <th></th>\n",
       "      <th></th>\n",
       "      <th></th>\n",
       "    </tr>\n",
       "  </thead>\n",
       "  <tbody>\n",
       "    <tr>\n",
       "      <th>64-nodes_repeat-1.csv.gz</th>\n",
       "      <td>64.0</td>\n",
       "      <td>6181.947368</td>\n",
       "      <td>1.0</td>\n",
       "      <td>40.0</td>\n",
       "      <td>355.210526</td>\n",
       "      <td>55.684211</td>\n",
       "      <td>0.156088</td>\n",
       "    </tr>\n",
       "  </tbody>\n",
       "</table>\n",
       "</div>"
      ],
      "text/plain": [
       "                          nodes        first  retrain  version       total  \\\n",
       "name                                                                         \n",
       "64-nodes_repeat-1.csv.gz   64.0  6181.947368      1.0     40.0  355.210526   \n",
       "\n",
       "                             stable  stable_frac  \n",
       "name                                              \n",
       "64-nodes_repeat-1.csv.gz  55.684211     0.156088  "
      ]
     },
     "execution_count": 6,
     "metadata": {},
     "output_type": "execute_result"
    }
   ],
   "source": [
    "success_data.query('nodes == 64 and retrain and version > 30').groupby('name').mean()"
   ]
  },
  {
   "cell_type": "markdown",
   "id": "0285159e-b767-40ac-adb9-35ac2c63e232",
   "metadata": {},
   "source": [
    "*Finding*: Yes, by about a factor of two"
   ]
  },
  {
   "cell_type": "markdown",
   "id": "22fc1828-3dc4-458a-beb0-809b7be1c191",
   "metadata": {},
   "source": [
    "### Success Rate Over Time\n",
    "See the success rate for the model at specific versions"
   ]
  },
  {
   "cell_type": "code",
   "execution_count": 7,
   "id": "cf2b50f1-3d2e-4b98-b700-a49ae4e24a62",
   "metadata": {},
   "outputs": [],
   "source": [
    "version_range = (10, 15)\n",
    "version_query = f'{version_range[0]} <= version < {version_range[1]}'"
   ]
  },
  {
   "cell_type": "code",
   "execution_count": 8,
   "id": "987de80a-bb0d-43ba-9f0e-8a6676047285",
   "metadata": {},
   "outputs": [
    {
     "data": {
      "text/plain": [
       "0.07627118644067797"
      ]
     },
     "execution_count": 8,
     "metadata": {},
     "output_type": "execute_result"
    }
   ],
   "source": [
    "subset = success_data.query(f'nodes == 64 and retrain and ({version_query})')\n",
    "subset['stable'].sum() / subset['total'].sum()"
   ]
  },
  {
   "cell_type": "code",
   "execution_count": 9,
   "id": "9e75ef11-16c9-4d1e-8baa-99e976a01353",
   "metadata": {},
   "outputs": [
    {
     "data": {
      "text/plain": [
       "0.20435499381783212"
      ]
     },
     "execution_count": 9,
     "metadata": {},
     "output_type": "execute_result"
    }
   ],
   "source": [
    "subset = success_data.query(f'nodes == 450 and retrain and ({version_query})')\n",
    "subset['stable'].sum() / subset['total'].sum()"
   ]
  },
  {
   "cell_type": "code",
   "execution_count": 10,
   "id": "5db7cd2b-269d-4601-907b-7df5d40ddf20",
   "metadata": {},
   "outputs": [
    {
     "data": {
      "text/html": [
       "<div>\n",
       "<style scoped>\n",
       "    .dataframe tbody tr th:only-of-type {\n",
       "        vertical-align: middle;\n",
       "    }\n",
       "\n",
       "    .dataframe tbody tr th {\n",
       "        vertical-align: top;\n",
       "    }\n",
       "\n",
       "    .dataframe thead th {\n",
       "        text-align: right;\n",
       "    }\n",
       "</style>\n",
       "<table border=\"1\" class=\"dataframe\">\n",
       "  <thead>\n",
       "    <tr style=\"text-align: right;\">\n",
       "      <th></th>\n",
       "      <th>run_name</th>\n",
       "      <th>first_model</th>\n",
       "      <th>last_model</th>\n",
       "    </tr>\n",
       "  </thead>\n",
       "  <tbody>\n",
       "    <tr>\n",
       "      <th>0</th>\n",
       "      <td>450-nodes</td>\n",
       "      <td>3929.074964</td>\n",
       "      <td>5641.283397</td>\n",
       "    </tr>\n",
       "    <tr>\n",
       "      <th>1</th>\n",
       "      <td>256-nodes</td>\n",
       "      <td>2938.491185</td>\n",
       "      <td>5062.843928</td>\n",
       "    </tr>\n",
       "    <tr>\n",
       "      <th>2</th>\n",
       "      <td>128-nodes</td>\n",
       "      <td>1719.499924</td>\n",
       "      <td>2980.585390</td>\n",
       "    </tr>\n",
       "    <tr>\n",
       "      <th>3</th>\n",
       "      <td>32-nodes_repeat-2</td>\n",
       "      <td>1061.783903</td>\n",
       "      <td>1206.604001</td>\n",
       "    </tr>\n",
       "    <tr>\n",
       "      <th>4</th>\n",
       "      <td>64-nodes_repeat-1</td>\n",
       "      <td>1227.653536</td>\n",
       "      <td>1560.948423</td>\n",
       "    </tr>\n",
       "    <tr>\n",
       "      <th>5</th>\n",
       "      <td>32-nodes_repeat-1</td>\n",
       "      <td>1465.578338</td>\n",
       "      <td>1672.156181</td>\n",
       "    </tr>\n",
       "  </tbody>\n",
       "</table>\n",
       "</div>"
      ],
      "text/plain": [
       "            run_name  first_model   last_model\n",
       "0          450-nodes  3929.074964  5641.283397\n",
       "1          256-nodes  2938.491185  5062.843928\n",
       "2          128-nodes  1719.499924  2980.585390\n",
       "3  32-nodes_repeat-2  1061.783903  1206.604001\n",
       "4  64-nodes_repeat-1  1227.653536  1560.948423\n",
       "5  32-nodes_repeat-1  1465.578338  1672.156181"
      ]
     },
     "execution_count": 10,
     "metadata": {},
     "output_type": "execute_result"
    }
   ],
   "source": [
    "train_times = []\n",
    "for path in summary_paths:\n",
    "    run_name = path.name[:-7]\n",
    "    train_path = Path('../prod-runs/') / run_name / 'training-results.json'\n",
    "    if not train_path.exists():\n",
    "        continue\n",
    "    gen_results = pd.read_json(train_path, lines=True)\n",
    "\n",
    "    if len(gen_results) <= max(version_range):\n",
    "        continue\n",
    "\n",
    "    start_time = pd.read_json(train_path.with_name('generation-results.json'), lines=True)['timestamp'].apply(lambda x: x['created']).min()\n",
    "    train_times.append({\n",
    "        'run_name': run_name,\n",
    "        'first_model': gen_results.loc[version_range[0]]['timestamp']['result_received'] - start_time,\n",
    "        'last_model': gen_results.loc[version_range[1]]['timestamp']['result_received'] - start_time\n",
    "    })\n",
    "pd.DataFrame(train_times)"
   ]
  },
  {
   "cell_type": "markdown",
   "id": "c8bb1426-af24-4159-b1c4-55e9c203bfde",
   "metadata": {},
   "source": [
    "## Round 2: Assess workflow outcomes w/o retraining\n",
    "Show that it gets better"
   ]
  },
  {
   "cell_type": "markdown",
   "id": "10478466-dfd8-41c0-bf53-20dcb394fb91",
   "metadata": {},
   "source": [
    "### Get the \"Stable Found\" at 90 minutes\n",
    "Loop over all runs and store: scale, if retrained or not, and the number of stable found after 90 minutes. \n",
    "The 450-node run switches how it trained DiffLinker at around 90 minutes, and we don't want to study that effect yet."
   ]
  },
  {
   "cell_type": "code",
   "execution_count": 11,
   "id": "aa46b598-7a7f-4f13-8a7c-c991ef4e2013",
   "metadata": {},
   "outputs": [],
   "source": [
    "hours = 1.5"
   ]
  },
  {
   "cell_type": "code",
   "execution_count": 12,
   "id": "b9a9b749-2b0a-49fd-973b-178eefb164a8",
   "metadata": {},
   "outputs": [],
   "source": [
    "mofs['stable'] = mofs['structure_stability.uff'] < 0.1"
   ]
  },
  {
   "cell_type": "code",
   "execution_count": 13,
   "id": "98400659-f017-4b68-8ac7-1e9643c10c65",
   "metadata": {},
   "outputs": [],
   "source": [
    "success_data = []\n",
    "for path in summary_paths:\n",
    "    # Get metadata\n",
    "    count = int(path.name.split(\"-\")[0])\n",
    "    retrain = 'no-retrain' not in path.name\n",
    "\n",
    "    # Pull the success rate\n",
    "    mofs = pd.read_csv(path)\n",
    "    num_found = interp1d(mofs['walltime'], mofs['cumulative_found'], kind='previous')(hours * 3600).item()\n",
    "    num_evald = interp1d(mofs['walltime'], mofs.index, kind='previous')(hours * 3600).item()\n",
    "\n",
    "    success_data.append({\n",
    "        'nodes': count,\n",
    "        'retrain': retrain,\n",
    "        'found': num_found,\n",
    "        'found_node-hr': num_found / (count * hours),\n",
    "        'success_rate': num_found / num_evald\n",
    "    })\n",
    "success_data = pd.DataFrame(success_data)"
   ]
  },
  {
   "cell_type": "code",
   "execution_count": 14,
   "id": "ac0c533f-f071-4e74-95d1-77fb0a9e17d9",
   "metadata": {},
   "outputs": [
    {
     "data": {
      "text/html": [
       "<div>\n",
       "<style scoped>\n",
       "    .dataframe tbody tr th:only-of-type {\n",
       "        vertical-align: middle;\n",
       "    }\n",
       "\n",
       "    .dataframe tbody tr th {\n",
       "        vertical-align: top;\n",
       "    }\n",
       "\n",
       "    .dataframe thead th {\n",
       "        text-align: right;\n",
       "    }\n",
       "</style>\n",
       "<table border=\"1\" class=\"dataframe\">\n",
       "  <thead>\n",
       "    <tr style=\"text-align: right;\">\n",
       "      <th></th>\n",
       "      <th></th>\n",
       "      <th>found</th>\n",
       "      <th>found_node-hr</th>\n",
       "      <th>success_rate</th>\n",
       "    </tr>\n",
       "    <tr>\n",
       "      <th>nodes</th>\n",
       "      <th>retrain</th>\n",
       "      <th></th>\n",
       "      <th></th>\n",
       "      <th></th>\n",
       "    </tr>\n",
       "  </thead>\n",
       "  <tbody>\n",
       "    <tr>\n",
       "      <th rowspan=\"2\" valign=\"top\">32</th>\n",
       "      <th>False</th>\n",
       "      <td>133.0</td>\n",
       "      <td>2.770833</td>\n",
       "      <td>0.048576</td>\n",
       "    </tr>\n",
       "    <tr>\n",
       "      <th>True</th>\n",
       "      <td>313.0</td>\n",
       "      <td>6.520833</td>\n",
       "      <td>0.107990</td>\n",
       "    </tr>\n",
       "    <tr>\n",
       "      <th rowspan=\"2\" valign=\"top\">64</th>\n",
       "      <th>False</th>\n",
       "      <td>426.5</td>\n",
       "      <td>4.442708</td>\n",
       "      <td>0.079204</td>\n",
       "    </tr>\n",
       "    <tr>\n",
       "      <th>True</th>\n",
       "      <td>641.0</td>\n",
       "      <td>6.677083</td>\n",
       "      <td>0.118748</td>\n",
       "    </tr>\n",
       "    <tr>\n",
       "      <th>128</th>\n",
       "      <th>True</th>\n",
       "      <td>1622.0</td>\n",
       "      <td>8.447917</td>\n",
       "      <td>0.151010</td>\n",
       "    </tr>\n",
       "    <tr>\n",
       "      <th>256</th>\n",
       "      <th>True</th>\n",
       "      <td>3633.0</td>\n",
       "      <td>9.460938</td>\n",
       "      <td>0.167969</td>\n",
       "    </tr>\n",
       "    <tr>\n",
       "      <th>450</th>\n",
       "      <th>True</th>\n",
       "      <td>6554.0</td>\n",
       "      <td>9.709630</td>\n",
       "      <td>0.173166</td>\n",
       "    </tr>\n",
       "  </tbody>\n",
       "</table>\n",
       "</div>"
      ],
      "text/plain": [
       "                found  found_node-hr  success_rate\n",
       "nodes retrain                                     \n",
       "32    False     133.0       2.770833      0.048576\n",
       "      True      313.0       6.520833      0.107990\n",
       "64    False     426.5       4.442708      0.079204\n",
       "      True      641.0       6.677083      0.118748\n",
       "128   True     1622.0       8.447917      0.151010\n",
       "256   True     3633.0       9.460938      0.167969\n",
       "450   True     6554.0       9.709630      0.173166"
      ]
     },
     "execution_count": 14,
     "metadata": {},
     "output_type": "execute_result"
    }
   ],
   "source": [
    "success_data.groupby(['nodes', 'retrain']).mean()"
   ]
  },
  {
   "cell_type": "code",
   "execution_count": null,
   "id": "269787d5-5319-47f7-83ce-1a807bf14583",
   "metadata": {},
   "outputs": [],
   "source": []
  }
 ],
 "metadata": {
  "kernelspec": {
   "display_name": "Python 3 (ipykernel)",
   "language": "python",
   "name": "python3"
  },
  "language_info": {
   "codemirror_mode": {
    "name": "ipython",
    "version": 3
   },
   "file_extension": ".py",
   "mimetype": "text/x-python",
   "name": "python",
   "nbconvert_exporter": "python",
   "pygments_lexer": "ipython3",
   "version": "3.10.8"
  }
 },
 "nbformat": 4,
 "nbformat_minor": 5
}
