{
 "cells": [
  {
   "cell_type": "markdown",
   "id": "cda758e4-d3ca-437f-8d2b-750f14b3f44e",
   "metadata": {},
   "source": [
    "# Show Effect of Scale on Discovery\n",
    "Measure the number of stable MOFs discovered as a function of node-hours expended"
   ]
  },
  {
   "cell_type": "code",
   "execution_count": 21,
   "id": "a838a8d1-1402-4371-a3d6-54d63e91f034",
   "metadata": {},
   "outputs": [],
   "source": [
    "%matplotlib inline\n",
    "from matplotlib import pyplot as plt\n",
    "from pathlib import Path\n",
    "from itertools import chain\n",
    "import pandas as pd\n",
    "import numpy as np"
   ]
  },
  {
   "cell_type": "markdown",
   "id": "20acd39a-6b3f-4dda-b285-577e29dddb9c",
   "metadata": {},
   "source": [
    "## Load in results from different scales\n",
    "We have them in the summaries directory, labeled by number of nodes"
   ]
  },
  {
   "cell_type": "code",
   "execution_count": 22,
   "id": "27ca604d-d7d1-421d-b636-29145e3a0807",
   "metadata": {},
   "outputs": [
    {
     "name": "stdout",
     "output_type": "stream",
     "text": [
      "Found 6 runs: 32 32 64 128 256 450\n"
     ]
    }
   ],
   "source": [
    "summaries = []\n",
    "for path in chain(Path('summaries').glob('*-nodes.csv.gz'), Path('summaries').glob('*-nodes_repeat-*.csv.gz')):\n",
    "    count = int(path.name.split(\"-\")[0])\n",
    "    summaries.append([count, pd.read_csv(path)])\n",
    "summaries.sort(key=lambda x: x[0])\n",
    "print(f'Found {len(summaries)} runs:', \" \".join(str(x[0]) for x in summaries))"
   ]
  },
  {
   "cell_type": "markdown",
   "id": "875135b9-5a47-471a-91ca-485d6046a24d",
   "metadata": {},
   "source": [
    "## Plot the Efficiency Over Time\n",
    "Show that we get better at finding MOFs over time"
   ]
  },
  {
   "cell_type": "code",
   "execution_count": 25,
   "id": "e6e85eea-4df6-412f-acf0-4d2b86fa88e2",
   "metadata": {},
   "outputs": [],
   "source": [
    "sizes = sorted(set(x[0] for x in summaries))\n",
    "cmap = plt.get_cmap('copper_r')\n",
    "steps = np.linspace(0.2, 1., len(sizes))\n",
    "colors = dict((size, cmap(step)) for size, step in zip(sizes, steps))"
   ]
  },
  {
   "cell_type": "code",
   "execution_count": 26,
   "id": "f9b000b1-bf87-4812-a001-50189252f639",
   "metadata": {},
   "outputs": [
    {
     "data": {
      "text/plain": [
       "{32: (0.9882350615917502, 0.62496, 0.398, 1.0),\n",
       " 64: (0.7411762961938126, 0.46871999999999997, 0.2985, 1.0),\n",
       " 128: (0.49411753079587517, 0.31248000000000004, 0.199, 1.0),\n",
       " 256: (0.24705876539793759, 0.15623999999999993, 0.09949999999999998, 1.0),\n",
       " 450: (0.0, 0.0, 0.0, 1.0)}"
      ]
     },
     "execution_count": 26,
     "metadata": {},
     "output_type": "execute_result"
    }
   ],
   "source": [
    "colors"
   ]
  },
  {
   "cell_type": "code",
   "execution_count": 27,
   "id": "a0c741fc-b772-46fc-9fec-dcbe9971008f",
   "metadata": {},
   "outputs": [],
   "source": [
    "fig, ax = plt.subplots(figsize=(3.5, 2.))\n",
    "\n",
    "for count, summary in summaries:\n",
    "    summary = summary.query(f'walltime > {15 * 60}')\n",
    "    ax.plot(\n",
    "        summary['walltime'] / 60,\n",
    "        summary['cumulative_found'] / count / summary['walltime'] * 3600,\n",
    "        '-',\n",
    "        color=colors[count],\n",
    "        label=f'N={count}'\n",
    "    )\n",
    "ax.legend(fontsize=6)\n",
    "\n",
    "ax.set_xlabel('Walltime (min)')\n",
    "ax.set_ylabel('Stable MOFs /\\n Node-Hour')\n",
    "\n",
    "fig.tight_layout()\n",
    "fig.savefig('figures/stable-found-per-node-hour.png', dpi=320)\n",
    "fig.savefig('figures/stable-found-per-node-hour.pdf')"
   ]
  },
  {
   "cell_type": "code",
   "execution_count": 30,
   "id": "085439d4-1eaa-4102-bd74-23661a27ec69",
   "metadata": {},
   "outputs": [],
   "source": [
    "fig, ax = plt.subplots(figsize=(3.5, 2.))\n",
    "\n",
    "lowest_slope = np.mean(\n",
    "    [summary['cumulative_found'].iloc[-1] / summary['walltime'].iloc[-1] * 3600\n",
    "    for count, summary in summaries if count == min(colors.keys())]\n",
    ")\n",
    "done = set()\n",
    "for count, summary in summaries:\n",
    "    ax.plot(\n",
    "        summary['walltime'] / 3600,\n",
    "        summary['cumulative_found'],\n",
    "        '-',\n",
    "        color=colors[count],\n",
    "        alpha=0.8,\n",
    "        label=f'N={count}' if count not in done else None\n",
    "    )\n",
    "    done.add(count)\n",
    "\n",
    "ax.set_xlim(0, 2.8)\n",
    "for count, summary in summaries:\n",
    "    ax.plot(ax.get_xlim(), np.multiply(ax.get_xlim(), lowest_slope * (count - 1) / 31), '--', lw=1, color=colors[count])\n",
    "    \n",
    "ax.legend(fontsize=6)\n",
    "\n",
    "ax.set_xlabel('Walltime (hr)')\n",
    "ax.set_ylabel('Stable MOFs Found')\n",
    "\n",
    "fig.tight_layout()\n",
    "fig.savefig('figures/stable-found-per-hour.png', dpi=320)\n",
    "fig.savefig('figures/stable-found-per-hour.pdf')"
   ]
  },
  {
   "cell_type": "code",
   "execution_count": null,
   "id": "a98ccfb2-4c17-4e91-8a77-dbea2bde6056",
   "metadata": {},
   "outputs": [],
   "source": []
  },
  {
   "cell_type": "code",
   "execution_count": null,
   "id": "25317804-b828-4f0a-ab5e-2ab66f61ea86",
   "metadata": {},
   "outputs": [],
   "source": []
  }
 ],
 "metadata": {
  "kernelspec": {
   "display_name": "Python 3 (ipykernel)",
   "language": "python",
   "name": "python3"
  },
  "language_info": {
   "codemirror_mode": {
    "name": "ipython",
    "version": 3
   },
   "file_extension": ".py",
   "mimetype": "text/x-python",
   "name": "python",
   "nbconvert_exporter": "python",
   "pygments_lexer": "ipython3",
   "version": "3.10.8"
  }
 },
 "nbformat": 4,
 "nbformat_minor": 5
}
