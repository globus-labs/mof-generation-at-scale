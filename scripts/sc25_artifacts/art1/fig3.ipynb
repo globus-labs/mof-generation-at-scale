{
 "cells": [
  {
   "cell_type": "markdown",
   "id": "5ff5cc2c-2f0a-4747-9d24-603ee5153966",
   "metadata": {},
   "source": [
    "## Measure the Uptime Per Node\n",
    "We want to make sure that the uptime workers are maintained"
   ]
  },
  {
   "cell_type": "code",
   "execution_count": null,
   "id": "6f18cb25-4677-4a29-b0cf-740569ae3328",
   "metadata": {},
   "outputs": [],
   "source": [
    "import json\n",
    "import numpy as np\n",
    "import pandas as pd\n",
    "import seaborn as sns\n",
    "import typing as t\n",
    "\n",
    "from matplotlib import pyplot as plt\n",
    "from datetime import datetime\n",
    "from pathlib import Path\n",
    "\n",
    "FIGS_DIR: t.Final[Path] = Path(\"figures\")\n",
    "RUNS_DIR: t.Final[Path] = Path(\"../prod-runs\")\n",
    "\n",
    "FIGS_DIR.mkdir(exist_ok=True)"
   ]
  },
  {
   "cell_type": "markdown",
   "id": "f90ca0d8-8d4f-4ca6-8e80-5fd0b8e2e3c5",
   "metadata": {},
   "source": [
    "Config"
   ]
  },
  {
   "cell_type": "code",
   "execution_count": null,
   "id": "bd298d80-51db-4d92-9602-11c748551f48",
   "metadata": {},
   "outputs": [],
   "source": [
    "RESOURCE_TO_TASK: dict[str, tuple[str, str]] = {\n",
    "    \"Single Node\": (\"training\", \"train_generator\"),\n",
    "    \"1 GPU\": (\"generation\", \"run_generator\"),\n",
    "    \"<1 GPU\": (\"simulation\", \"run_molecular_dynamics\"),\n",
    "    \"Multi Node\": (\"simulation\", \"run_optimization\"),\n",
    "}"
   ]
  },
  {
   "cell_type": "markdown",
   "id": "f7204108-3cc3-42da-970a-4ba4ae500887",
   "metadata": {},
   "source": [
    "## Get the Uptimes for Different Tasks\n",
    "Show that everything is working as desired"
   ]
  },
  {
   "cell_type": "code",
   "execution_count": 4,
   "id": "cd0b673f-968b-4f62-a524-46ff6cb790bd",
   "metadata": {},
   "outputs": [
    {
     "data": {
      "text/plain": [
       "{'Single Node': 1, '1 GPU': 176, '<1 GPU': 2440, 'Multi Node': 50}"
      ]
     },
     "execution_count": 4,
     "metadata": {},
     "output_type": "execute_result"
    }
   ],
   "source": [
    "def get_workers_by_type(path: Path) -> dict[str, int]:\n",
    "    \"\"\"Get the number of workers for each type of task\"\"\"\n",
    "\n",
    "    node_names = []\n",
    "    compute = json.loads((path / \"compute-config.json\").read_text())\n",
    "\n",
    "    return {\n",
    "        \"Single Node\": 1,\n",
    "        \"1 GPU\": (len(compute[\"ai_hosts\"]) - 1) * compute[\"gpus_per_node\"],\n",
    "        \"<1 GPU\": len(compute[\"lammps_hosts\"])\n",
    "        * compute[\"gpus_per_node\"]\n",
    "        * compute[\"lammps_per_gpu\"],\n",
    "        \"Multi Node\": len(compute[\"cp2k_hosts\"]) // compute[\"nodes_per_cp2k\"],\n",
    "    }\n",
    "    return compute\n",
    "\n",
    "\n",
    "worker_counts = get_workers_by_type(RUNS_DIR / \"450-nodes\")\n",
    "worker_counts"
   ]
  },
  {
   "cell_type": "markdown",
   "id": "0039252c-2b4b-4db5-a993-96d3c2653813",
   "metadata": {},
   "source": [
    "Count the number of active tasks for each task type"
   ]
  },
  {
   "cell_type": "code",
   "execution_count": null,
   "id": "f6b0c6d6-ad67-4d4e-95ea-dea6b28cc099",
   "metadata": {},
   "outputs": [],
   "source": [
    "def count_active_workers(\n",
    "    path, worker_counts: dict[str, int]\n",
    ") -> dict[str, pd.DataFrame]:\n",
    "    \"\"\"Count the number of active workers for each type of worker\"\"\"\n",
    "\n",
    "    # Get the first\n",
    "    start_time = np.inf\n",
    "    for file in path.glob(\"*-results.json\"):\n",
    "        with open(file) as fp:\n",
    "            for line in fp:\n",
    "                record = json.loads(line)\n",
    "                start_time = min(record[\"timestamp\"][\"created\"], start_time)\n",
    "\n",
    "    # Get the utilization for each task type\n",
    "    output = {}\n",
    "    for task_type, total_count in worker_counts.items():\n",
    "        file_prefix, method_name = RESOURCE_TO_TASK[task_type]\n",
    "\n",
    "        # Load the spans for each task\n",
    "        tasks = []\n",
    "        with open(path / f\"{file_prefix}-results.json\") as fp:\n",
    "            # Gather the spans of all tasks\n",
    "            for line in fp:\n",
    "                record = json.loads(line)\n",
    "                if record[\"method\"] == method_name:\n",
    "                    tasks.append(\n",
    "                        {\n",
    "                            \"start_time\": record[\"timestamp\"][\"compute_started\"]\n",
    "                            - start_time,\n",
    "                            \"end_time\": record[\"timestamp\"][\"compute_ended\"]\n",
    "                            - start_time,\n",
    "                        }\n",
    "                    )\n",
    "            tasks = pd.DataFrame(tasks)\n",
    "\n",
    "            # Compute the number active\n",
    "            events = [{\"time\": 0, \"active_delta\": 0}]\n",
    "            events.extend({\"time\": t, \"active_delta\": -1} for t in tasks[\"end_time\"])\n",
    "            events.extend({\"time\": t, \"active_delta\": 1} for t in tasks[\"start_time\"])\n",
    "            events = pd.DataFrame(events).sort_values(\"time\")\n",
    "\n",
    "            # Compute the utilization\n",
    "            events[\"num_active\"] = events[\"active_delta\"].cumsum()\n",
    "            events[\"utilization\"] = events[\"num_active\"] / total_count\n",
    "\n",
    "            output[task_type] = events\n",
    "    return output\n",
    "\n",
    "\n",
    "util_data = count_active_workers(RUNS_DIR / \"450-nodes\", worker_counts)"
   ]
  },
  {
   "cell_type": "markdown",
   "id": "1bcde369-6761-4a58-9674-6d7b908c7119",
   "metadata": {},
   "source": [
    "Plot the utilization by task type"
   ]
  },
  {
   "cell_type": "code",
   "execution_count": 9,
   "id": "dcc05652-2ca5-4d29-95d3-afb20f2422b4",
   "metadata": {},
   "outputs": [
    {
     "data": {
      "text/plain": [
       "0.0"
      ]
     },
     "execution_count": 9,
     "metadata": {},
     "output_type": "execute_result"
    }
   ],
   "source": [
    "def window_utilization(events, time: float, window_size) -> float:\n",
    "    \"\"\"Compute average utilization over time\"\"\"\n",
    "    # Integrating knowing that we have a piecewise functions\n",
    "    # Integrate the pieces that fall within the window\n",
    "    in_events = events[events.time <= time]\n",
    "    in_events = in_events[in_events.time >= time - window_size]\n",
    "    if len(in_events) <= 1:\n",
    "        in_util = 0\n",
    "    else:\n",
    "        in_util = (\n",
    "            np.diff(in_events[\"time\"].values) * in_events[\"utilization\"].values[:-1]\n",
    "        ).sum()\n",
    "\n",
    "        # Integrate the current piece (last in event to now)\n",
    "        current_event = in_events.iloc[-1]\n",
    "        current_util = (time - current_event.time) * current_event.utilization\n",
    "        in_util += current_util\n",
    "\n",
    "    # Integrate the piece at the start of the window\n",
    "    before_window = events[events.time < time - window_size]\n",
    "    if len(before_window) == 0:\n",
    "        # No tasks, no utilization\n",
    "        last_util = 0\n",
    "    else:\n",
    "        last_event = before_window.iloc[-1]\n",
    "        if len(in_events) == 0:\n",
    "            # That utilization, whole span\n",
    "            return last_event.utilization\n",
    "        else:\n",
    "            # Get the span (start of window, first in event)\n",
    "            last_even_span = in_events.iloc[0].time - (time - window_size)\n",
    "            last_util = last_even_span * last_event.utilization\n",
    "\n",
    "    return (in_util + last_util) / max(min(time, window_size), 1e-6)\n",
    "\n",
    "\n",
    "window_utilization(util_data[\"Single Node\"], 0, 5)"
   ]
  },
  {
   "cell_type": "markdown",
   "id": "7f26ed76-368e-4459-b081-c7777426b897",
   "metadata": {},
   "source": [
    "30 minute average uptime seems a good metric to me"
   ]
  },
  {
   "cell_type": "markdown",
   "id": "6f6c1e80-9a37-4b01-9c1b-906ebbbabafc",
   "metadata": {},
   "source": [
    "## Plot as a Function of Scale\n",
    "Do we keep workers equally busy as a function of scale?"
   ]
  },
  {
   "cell_type": "code",
   "execution_count": 10,
   "id": "5ef1e293-2aa3-4753-8c1b-0fcbb2111733",
   "metadata": {},
   "outputs": [
    {
     "data": {
      "text/html": [
       "<div>\n",
       "<style scoped>\n",
       "    .dataframe tbody tr th:only-of-type {\n",
       "        vertical-align: middle;\n",
       "    }\n",
       "\n",
       "    .dataframe tbody tr th {\n",
       "        vertical-align: top;\n",
       "    }\n",
       "\n",
       "    .dataframe thead th {\n",
       "        text-align: right;\n",
       "    }\n",
       "</style>\n",
       "<table border=\"1\" class=\"dataframe\">\n",
       "  <thead>\n",
       "    <tr style=\"text-align: right;\">\n",
       "      <th></th>\n",
       "      <th>nodes</th>\n",
       "      <th>Single Node-util</th>\n",
       "      <th>1 GPU-util</th>\n",
       "      <th>&lt;1 GPU-util</th>\n",
       "      <th>Multi Node-util</th>\n",
       "    </tr>\n",
       "  </thead>\n",
       "  <tbody>\n",
       "    <tr>\n",
       "      <th>0</th>\n",
       "      <td>128</td>\n",
       "      <td>0.998815</td>\n",
       "      <td>0.999941</td>\n",
       "      <td>0.999878</td>\n",
       "      <td>0.999971</td>\n",
       "    </tr>\n",
       "    <tr>\n",
       "      <th>1</th>\n",
       "      <td>256</td>\n",
       "      <td>0.998342</td>\n",
       "      <td>0.999928</td>\n",
       "      <td>0.999842</td>\n",
       "      <td>0.999964</td>\n",
       "    </tr>\n",
       "    <tr>\n",
       "      <th>2</th>\n",
       "      <td>450</td>\n",
       "      <td>0.997513</td>\n",
       "      <td>0.990044</td>\n",
       "      <td>0.999754</td>\n",
       "      <td>0.999951</td>\n",
       "    </tr>\n",
       "  </tbody>\n",
       "</table>\n",
       "</div>"
      ],
      "text/plain": [
       "   nodes  Single Node-util  1 GPU-util  <1 GPU-util  Multi Node-util\n",
       "0    128          0.998815    0.999941     0.999878         0.999971\n",
       "1    256          0.998342    0.999928     0.999842         0.999964\n",
       "2    450          0.997513    0.990044     0.999754         0.999951"
      ]
     },
     "execution_count": 10,
     "metadata": {},
     "output_type": "execute_result"
    }
   ],
   "source": [
    "summary = []\n",
    "for path in Path(\"../prod-runs/\").glob(\"*-nodes\"):\n",
    "    nodes = int(path.name.split(\"-\")[0])\n",
    "    me = {\"nodes\": nodes}\n",
    "\n",
    "    # Load the utilization data\n",
    "    worker_count = get_workers_by_type(path)\n",
    "    for task_type, events in count_active_workers(path, worker_count).items():\n",
    "        times = np.linspace(0, events[\"time\"].max(), 2048)[1:]\n",
    "        util = [window_utilization(events, t, window_size=60 * 60) for t in times]\n",
    "        me[f\"{task_type}-util\"] = max(util)\n",
    "\n",
    "    summary.append(me)\n",
    "summary = pd.DataFrame(summary).sort_values(\"nodes\")\n",
    "summary"
   ]
  },
  {
   "cell_type": "code",
   "execution_count": 12,
   "id": "65c631a2-daeb-4b12-80b6-286faaef09eb",
   "metadata": {},
   "outputs": [
    {
     "data": {
      "image/png": "[encoded data removed]",
      "text/plain": [
       "<Figure size 400x300 with 1 Axes>"
      ]
     },
     "metadata": {},
     "output_type": "display_data"
    }
   ],
   "source": [
    "with sns.plotting_context(\"paper\", font_scale=1.0):\n",
    "    fig, ax = plt.subplots(figsize=(4, 3))\n",
    "\n",
    "    markers = iter([\"o\", \"v\", \"^\", \"s\"])\n",
    "    colors = iter([\"darkorchid\", \"seagreen\", \"tomato\", \"darkgoldenrod\"])\n",
    "\n",
    "    tmp = summary.melt(\n",
    "        id_vars=[\"nodes\"],\n",
    "        value_vars=[\"Single Node-util\", \"1 GPU-util\", \"<1 GPU-util\", \"Multi Node-util\"],\n",
    "        var_name=\"task\",\n",
    "        value_name=\"util\",\n",
    "    )\n",
    "    tmp = tmp.replace(\n",
    "        {\n",
    "            \"Single Node-util\": \"Retrain\",\n",
    "            \"1 GPU-util\": \"Generate Linkers\",\n",
    "            \"<1 GPU-util\": \"Validate Structure\",\n",
    "            \"Multi Node-util\": \"Optimize Cells\",\n",
    "        }\n",
    "    )\n",
    "    tmp[\"util\"] = tmp[\"util\"] * 100\n",
    "\n",
    "    sns.barplot(\n",
    "        tmp,\n",
    "        x=\"nodes\",\n",
    "        y=\"util\",\n",
    "        hue=\"task\",\n",
    "        edgecolor=\"black\",\n",
    "        ax=ax,\n",
    "    )\n",
    "\n",
    "    ax.set_xlabel(\"Nodes\")\n",
    "    ax.set_ylabel(\"Worker Util.\\n1-Hour Average (%)\")\n",
    "    ax.grid(axis=\"y\", linestyle=\"--\")\n",
    "    ax.set_ylim(98.5, 100.05)\n",
    "    ax.legend(\n",
    "        ncols=2,\n",
    "        frameon=False,\n",
    "        loc=\"upper center\",\n",
    "        bbox_to_anchor=(0.4, 1.5),\n",
    "    )\n",
    "\n",
    "    plt.tight_layout()\n",
    "    plt.savefig(FIGS_DIR / \"fig3.pdf\", bbox_inches=\"tight\")\n",
    "    plt.show()"
   ]
  }
 ],
 "metadata": {
  "kernelspec": {
   "display_name": "mofa",
   "language": "python",
   "name": "python3"
  },
  "language_info": {
   "codemirror_mode": {
    "name": "ipython",
    "version": 3
   },
   "file_extension": ".py",
   "mimetype": "text/x-python",
   "name": "python",
   "nbconvert_exporter": "python",
   "pygments_lexer": "ipython3",
   "version": "3.10.14"
  }
 },
 "nbformat": 4,
 "nbformat_minor": 5
}
