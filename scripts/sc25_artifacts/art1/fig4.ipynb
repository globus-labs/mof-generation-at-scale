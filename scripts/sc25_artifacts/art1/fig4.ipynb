{
 "cells": [
  {
   "cell_type": "markdown",
   "metadata": {},
   "source": [
    "# Plot Run Data\n",
    "This notebook plots the performance of a run to assess the optimization performance and system utilization."
   ]
  },
  {
   "cell_type": "code",
   "execution_count": null,
   "metadata": {
    "tags": []
   },
   "outputs": [],
   "source": [
    "import gzip\n",
    "import json\n",
    "import numpy as np\n",
    "import os\n",
    "import pandas as pd\n",
    "import seaborn as sns\n",
    "import typing as t\n",
    "\n",
    "from matplotlib import pyplot as plt\n",
    "from matplotlib import colors\n",
    "from scipy.interpolate import interp1d\n",
    "from datetime import datetime\n",
    "from pathlib import Path\n",
    "from tqdm import tqdm\n",
    "\n",
    "FIGS_DIR: t.Final[Path] = Path(\"figures\")\n",
    "RUNS_DIR: t.Final[Path] = Path(\"../prod-runs/450-nodes/\")\n",
    "\n",
    "FIGS_DIR.mkdir(exist_ok=True)"
   ]
  },
  {
   "cell_type": "markdown",
   "metadata": {},
   "source": [
    "Configuration"
   ]
  },
  {
   "cell_type": "code",
   "execution_count": null,
   "metadata": {},
   "outputs": [],
   "source": [
    "local_ranks_per_task = {\n",
    "    \"run_molecular_dynamics\": 8,\n",
    "    \"run_generator\": 4,\n",
    "    \"train_generator\": 1,\n",
    "}"
   ]
  },
  {
   "cell_type": "code",
   "execution_count": null,
   "metadata": {},
   "outputs": [],
   "source": []
  },
  {
   "cell_type": "markdown",
   "metadata": {},
   "source": [
    "## Load in all results\n",
    "Get them from each \"-results.json\" file"
   ]
  },
  {
   "cell_type": "code",
   "execution_count": 4,
   "metadata": {},
   "outputs": [
    {
     "name": "stdout",
     "output_type": "stream",
     "text": [
      "Found 4 types of result files\n"
     ]
    }
   ],
   "source": [
    "result_files = list(RUNS_DIR.glob(\"*-results.json\"))\n",
    "print(f\"Found {len(result_files)} types of result files\")"
   ]
  },
  {
   "cell_type": "markdown",
   "metadata": {},
   "source": [
    "Store the create time, start time and end time for running, and node on which they were running"
   ]
  },
  {
   "cell_type": "code",
   "execution_count": 5,
   "metadata": {},
   "outputs": [],
   "source": [
    "tasks = []\n",
    "for result_file in result_files:\n",
    "    task_type = result_file.name.split(\"-\")[0]\n",
    "    with open(result_file) as fp:\n",
    "        for line in fp:\n",
    "            row = json.loads(line)\n",
    "            tasks.append(\n",
    "                {\n",
    "                    \"task_type\": task_type,\n",
    "                    \"method\": row[\"method\"],\n",
    "                    \"create_time\": row[\"timestamp\"][\"created\"],\n",
    "                    \"start_time\": row[\"timestamp\"][\"compute_started\"],\n",
    "                    \"end_time\": row[\"timestamp\"][\"compute_ended\"],\n",
    "                    \"span_running\": row[\"time\"][\"running\"],\n",
    "                    \"node\": row[\"worker_info\"][\"hostname\"],\n",
    "                    \"local_rank\": int(row[\"worker_info\"][\"PARSL_WORKER_RANK\"]),\n",
    "                }\n",
    "            )\n",
    "tasks = pd.DataFrame(tasks)"
   ]
  },
  {
   "cell_type": "code",
   "execution_count": 6,
   "metadata": {},
   "outputs": [
    {
     "name": "stdout",
     "output_type": "stream",
     "text": [
      "method,span_running\n",
      "assemble_many,6393\n",
      "compute_partial_charges,297\n",
      "process_ligands,38685\n",
      "run_GCMC_single,225\n",
      "run_generator,4778\n",
      "run_molecular_dynamics,123702\n",
      "run_optimization,305\n",
      "train_generator,85\n",
      "\n"
     ]
    }
   ],
   "source": [
    "print(tasks.groupby(\"method\")[\"span_running\"].count().to_csv())"
   ]
  },
  {
   "cell_type": "markdown",
   "metadata": {},
   "source": [
    "Normalize times by the time the first task was created"
   ]
  },
  {
   "cell_type": "code",
   "execution_count": 7,
   "metadata": {},
   "outputs": [],
   "source": [
    "zero_time = tasks[\"create_time\"].min()"
   ]
  },
  {
   "cell_type": "code",
   "execution_count": 8,
   "metadata": {},
   "outputs": [],
   "source": [
    "time_cols = [c for c in tasks.columns if c.endswith(\"time\")]\n",
    "tasks[time_cols] -= zero_time"
   ]
  },
  {
   "cell_type": "markdown",
   "metadata": {},
   "source": [
    "Assign node ids by the first time they received a task"
   ]
  },
  {
   "cell_type": "code",
   "execution_count": 9,
   "metadata": {},
   "outputs": [
    {
     "name": "stdout",
     "output_type": "stream",
     "text": [
      "Found 450 nodes\n"
     ]
    }
   ],
   "source": [
    "node_names = []\n",
    "compute = json.loads((RUNS_DIR / \"compute-config.json\").read_text())\n",
    "for k, v in compute.items():\n",
    "    if k.endswith(\"_hosts\"):\n",
    "        node_names.extend([x.split(\".\")[0] for x in v])\n",
    "num_nodes = len(node_names)\n",
    "print(f\"Found {len(node_names)} nodes\")"
   ]
  },
  {
   "cell_type": "code",
   "execution_count": 10,
   "metadata": {},
   "outputs": [],
   "source": [
    "tasks[\"node_id\"] = tasks[\"node\"].apply(node_names.index)"
   ]
  },
  {
   "cell_type": "markdown",
   "metadata": {},
   "source": [
    "Assign a numerical task ID"
   ]
  },
  {
   "cell_type": "code",
   "execution_count": 11,
   "metadata": {},
   "outputs": [],
   "source": [
    "methods = sorted(set(tasks[\"method\"]))\n",
    "tasks[\"task_id\"] = tasks[\"method\"].apply(methods.index)"
   ]
  },
  {
   "cell_type": "code",
   "execution_count": 12,
   "metadata": {},
   "outputs": [
    {
     "data": {
      "text/plain": [
       "['assemble_many',\n",
       " 'compute_partial_charges',\n",
       " 'process_ligands',\n",
       " 'run_GCMC_single',\n",
       " 'run_generator',\n",
       " 'run_molecular_dynamics',\n",
       " 'run_optimization',\n",
       " 'train_generator']"
      ]
     },
     "execution_count": 12,
     "metadata": {},
     "output_type": "execute_result"
    }
   ],
   "source": [
    "methods"
   ]
  },
  {
   "cell_type": "markdown",
   "metadata": {},
   "source": [
    "Get the node names for the CP2K workers"
   ]
  },
  {
   "cell_type": "code",
   "execution_count": null,
   "metadata": {},
   "outputs": [
    {
     "name": "stdout",
     "output_type": "stream",
     "text": [
      "../prod-runs/450-nodes\n"
     ]
    }
   ],
   "source": [
    "cp2k_workers: list[list[int]] = []\n",
    "for path in sorted(RUNS_DIR.joinpath(\"cp2k-hostfiles\").glob(\"local_hostfile*\")):\n",
    "    cp2k_workers.append(\n",
    "        [node_names.index(x.split(\".\")[0]) for x in path.read_text().split(\"\\n\")]\n",
    "    )"
   ]
  },
  {
   "cell_type": "markdown",
   "metadata": {},
   "source": [
    "## Plot Assignment to Different Nodes\n",
    "See how work is distributed.  [color pallete](https://coolors.co/f2545b-a93f55-0f7173-75f4f4-f9c22e)"
   ]
  },
  {
   "cell_type": "markdown",
   "metadata": {},
   "source": [
    "Prepare to store a map of node id to task type"
   ]
  },
  {
   "cell_type": "code",
   "execution_count": 14,
   "metadata": {},
   "outputs": [],
   "source": [
    "task_types = [0] * len(node_names)"
   ]
  },
  {
   "cell_type": "code",
   "execution_count": null,
   "metadata": {
    "tags": []
   },
   "outputs": [
    {
     "data": {
      "image/png": "[encoded data removed]",
      "text/plain": [
       "<Figure size 350x225 with 1 Axes>"
      ]
     },
     "metadata": {},
     "output_type": "display_data"
    }
   ],
   "source": [
    "color_map = [\n",
    "    \"black\",  # Unknown\n",
    "    \"white\",  # Helper task\n",
    "    \"white\",  # Helper task\n",
    "    \"white\",  # Helper task\n",
    "    \"white\",  # Helper task\n",
    "    \"#F2545B\",  # Generation\n",
    "    \"#75F4F4\",  # Molecular Dynamics\n",
    "    \"purple\",  # CP2K\n",
    "    \"gold\",  # Training\n",
    "]\n",
    "\n",
    "fig, ax = plt.subplots(figsize=(3.5, 2.25))\n",
    "\n",
    "for gid, group in tasks.groupby(\"method\"):\n",
    "    # Determine which nodes are covered\n",
    "    if gid in [\n",
    "        \"process_ligands\",\n",
    "        \"compute_partial_charges\",\n",
    "        \"run_GCMC_single\",\n",
    "        \"assemble_many\",\n",
    "    ]:\n",
    "        continue\n",
    "    elif gid in [\"run_optimization\"]:\n",
    "        y = [min(cp2k_workers[l]) for l in group[\"local_rank\"]]\n",
    "        height = 2\n",
    "        nodes = [i + j for j in range(height) for i in set(y)]\n",
    "    else:\n",
    "        num_ranks = local_ranks_per_task[gid]\n",
    "        height = 1 / num_ranks\n",
    "        offset = group[\"local_rank\"] / num_ranks\n",
    "        y = group[\"node_id\"] + offset\n",
    "        nodes = group[\"node_id\"]\n",
    "\n",
    "    task_type = group[\"task_type\"].iloc[0]\n",
    "    c = color_map[methods.index(gid) + 1]\n",
    "    ax.barh(\n",
    "        y=y,\n",
    "        width=group[\"span_running\"] / 60,\n",
    "        left=group[\"start_time\"] / 60,\n",
    "        height=height,\n",
    "        label=gid,\n",
    "        color=c,\n",
    "        align=\"edge\",\n",
    "    )\n",
    "\n",
    "    for i in set(nodes):\n",
    "        task_types[int(i)] = methods.index(gid) + 1\n",
    "\n",
    "ax.set_ylabel(\"Node\")\n",
    "ax.set_ylim(0, num_nodes)\n",
    "ax.set_xlabel(\"Time (min)\")\n",
    "fig.tight_layout()\n",
    "plt.show()"
   ]
  },
  {
   "cell_type": "markdown",
   "metadata": {},
   "source": [
    "## Summarize the GPU Utilization\n",
    "Plot the amount of each GPU being used over time. Still color by task"
   ]
  },
  {
   "cell_type": "code",
   "execution_count": null,
   "metadata": {},
   "outputs": [
    {
     "name": "stderr",
     "output_type": "stream",
     "text": [
      "450it [00:40, 11.04it/s]\n"
     ]
    }
   ],
   "source": [
    "time_offset_from_UTC = (datetime.now() - datetime.utcnow()).total_seconds() / 3600.0\n",
    "time_offset_from_UTC\n",
    "\n",
    "utilization = []\n",
    "for utilization_file in tqdm(RUNS_DIR.glob(\"logs/*.log\")):\n",
    "    # Pull in the total data\n",
    "    util_data = pd.read_json(utilization_file, lines=True)\n",
    "    util_data[\"time\"] = (\n",
    "        util_data[\"time\"].apply(lambda x: datetime.fromisoformat(x).timestamp())\n",
    "        - zero_time\n",
    "        + time_offset_from_UTC * 3600\n",
    "    )  # TZ Issue?\n",
    "    node_name = utilization_file.name[:-4]\n",
    "    util_data[\"node\"] = node_name\n",
    "\n",
    "    # Summarize the GPU utilization\n",
    "    util_data[\"gpu_power\"] = util_data[\"gpu_use\"].apply(\n",
    "        lambda row: [x[\"power.draw\"] for x in row]\n",
    "    )\n",
    "    util_data[\"gpu_mem\"] = util_data[\"gpu_use\"].apply(\n",
    "        lambda row: [x[\"memory.used\"] for x in row]\n",
    "    )\n",
    "    util_data[\"gpu_use\"] = util_data[\"gpu_use\"].apply(\n",
    "        lambda row: [x[\"utilization.gpu\"] for x in row]\n",
    "    )\n",
    "\n",
    "    utilization.append(\n",
    "        util_data[[\"time\", \"node\", \"cpu_use\", \"gpu_mem\", \"gpu_power\", \"gpu_use\"]]\n",
    "    )\n",
    "\n",
    "utilization = pd.concat(utilization, ignore_index=True)"
   ]
  },
  {
   "cell_type": "code",
   "execution_count": null,
   "metadata": {},
   "outputs": [],
   "source": [
    "for c in [\"cpu\", \"gpu\"]:\n",
    "    utilization[f\"{c}_use_total\"] = utilization[f\"{c}_use\"].apply(np.sum)\n",
    "\n",
    "utilization[\"gpu_power_total\"] = utilization[\"gpu_power\"].apply(np.sum)"
   ]
  },
  {
   "cell_type": "markdown",
   "metadata": {},
   "source": [
    "Compile to a full-system utilization"
   ]
  },
  {
   "cell_type": "code",
   "execution_count": null,
   "metadata": {},
   "outputs": [],
   "source": [
    "freq = 60  # How often to assess utilization\n",
    "times = np.arange(0, utilization[\"time\"].max(), step=freq)\n",
    "utilization[\"node_id\"] = utilization[\"node\"].apply(node_names.index)"
   ]
  },
  {
   "cell_type": "markdown",
   "metadata": {},
   "source": [
    "## Average GPU Utilization By Task\n",
    "Average GPU utilization over all nodes running different types of tasks}"
   ]
  },
  {
   "cell_type": "code",
   "execution_count": 26,
   "metadata": {},
   "outputs": [],
   "source": [
    "NODE_TYPE_TO_TASK_MAP: dict[int, tuple[str, str]] = {\n",
    "    5: (\"Generate Linkers (1 GPU)\", \"seagreen\"),\n",
    "    6: (\"Validate Structure ($<1$ GPU)\", \"tomato\"),\n",
    "    7: (\"Optimize Cells (Multi Node)\", \"darkgoldenrod\"),\n",
    "    8: (\"Retrain (Single Node)\", \"darkorchid\"),\n",
    "}"
   ]
  },
  {
   "cell_type": "markdown",
   "metadata": {},
   "source": [
    "Group by Node Type"
   ]
  },
  {
   "cell_type": "code",
   "execution_count": null,
   "metadata": {},
   "outputs": [
    {
     "data": {
      "text/html": [
       "<div>\n",
       "<style scoped>\n",
       "    .dataframe tbody tr th:only-of-type {\n",
       "        vertical-align: middle;\n",
       "    }\n",
       "\n",
       "    .dataframe tbody tr th {\n",
       "        vertical-align: top;\n",
       "    }\n",
       "\n",
       "    .dataframe thead th {\n",
       "        text-align: right;\n",
       "    }\n",
       "</style>\n",
       "<table border=\"1\" class=\"dataframe\">\n",
       "  <thead>\n",
       "    <tr style=\"text-align: right;\">\n",
       "      <th></th>\n",
       "      <th>time</th>\n",
       "      <th>node</th>\n",
       "      <th>cpu_use</th>\n",
       "      <th>gpu_mem</th>\n",
       "      <th>gpu_power</th>\n",
       "      <th>gpu_use</th>\n",
       "      <th>cpu_use_total</th>\n",
       "      <th>gpu_use_total</th>\n",
       "      <th>gpu_power_total</th>\n",
       "      <th>node_id</th>\n",
       "      <th>node_type</th>\n",
       "    </tr>\n",
       "  </thead>\n",
       "  <tbody>\n",
       "    <tr>\n",
       "      <th>0</th>\n",
       "      <td>2.754160</td>\n",
       "      <td>x3105c0s19b0n0</td>\n",
       "      <td>[0.0, 0.0, 0.0, 0.0, 0.0, 25.0, 0.0, 0.0, 0.0,...</td>\n",
       "      <td>[31, 31, 31, 31]</td>\n",
       "      <td>[55, 51, 55, 53]</td>\n",
       "      <td>[0, 0, 0, 0]</td>\n",
       "      <td>25.0</td>\n",
       "      <td>0</td>\n",
       "      <td>214</td>\n",
       "      <td>96</td>\n",
       "      <td>6</td>\n",
       "    </tr>\n",
       "    <tr>\n",
       "      <th>1</th>\n",
       "      <td>23.430042</td>\n",
       "      <td>x3105c0s19b0n0</td>\n",
       "      <td>[5.0, 0.30000000000000004, 0.5, 0.0, 0.6000000...</td>\n",
       "      <td>[31, 31, 31, 31]</td>\n",
       "      <td>[55, 51, 55, 53]</td>\n",
       "      <td>[0, 0, 0, 0]</td>\n",
       "      <td>89.9</td>\n",
       "      <td>0</td>\n",
       "      <td>214</td>\n",
       "      <td>96</td>\n",
       "      <td>6</td>\n",
       "    </tr>\n",
       "    <tr>\n",
       "      <th>2</th>\n",
       "      <td>44.105036</td>\n",
       "      <td>x3105c0s19b0n0</td>\n",
       "      <td>[0.2, 0.0, 0.0, 0.0, 0.0, 0.8, 0.0, 0.0, 0.1, ...</td>\n",
       "      <td>[31, 31, 31, 31]</td>\n",
       "      <td>[55, 51, 55, 53]</td>\n",
       "      <td>[0, 0, 0, 0]</td>\n",
       "      <td>14.7</td>\n",
       "      <td>0</td>\n",
       "      <td>214</td>\n",
       "      <td>96</td>\n",
       "      <td>6</td>\n",
       "    </tr>\n",
       "    <tr>\n",
       "      <th>3</th>\n",
       "      <td>64.787023</td>\n",
       "      <td>x3105c0s19b0n0</td>\n",
       "      <td>[0.5, 0.0, 0.0, 0.0, 0.0, 0.8, 0.0, 0.0, 0.0, ...</td>\n",
       "      <td>[31, 31, 31, 31]</td>\n",
       "      <td>[55, 51, 55, 53]</td>\n",
       "      <td>[0, 0, 0, 0]</td>\n",
       "      <td>11.6</td>\n",
       "      <td>0</td>\n",
       "      <td>214</td>\n",
       "      <td>96</td>\n",
       "      <td>6</td>\n",
       "    </tr>\n",
       "    <tr>\n",
       "      <th>4</th>\n",
       "      <td>85.462834</td>\n",
       "      <td>x3105c0s19b0n0</td>\n",
       "      <td>[0.0, 0.0, 0.0, 0.0, 0.0, 0.8, 0.0, 0.0, 0.0, ...</td>\n",
       "      <td>[31, 31, 31, 31]</td>\n",
       "      <td>[55, 51, 55, 53]</td>\n",
       "      <td>[0, 0, 0, 0]</td>\n",
       "      <td>14.6</td>\n",
       "      <td>0</td>\n",
       "      <td>214</td>\n",
       "      <td>96</td>\n",
       "      <td>6</td>\n",
       "    </tr>\n",
       "  </tbody>\n",
       "</table>\n",
       "</div>"
      ],
      "text/plain": [
       "        time            node  \\\n",
       "0   2.754160  x3105c0s19b0n0   \n",
       "1  23.430042  x3105c0s19b0n0   \n",
       "2  44.105036  x3105c0s19b0n0   \n",
       "3  64.787023  x3105c0s19b0n0   \n",
       "4  85.462834  x3105c0s19b0n0   \n",
       "\n",
       "                                             cpu_use           gpu_mem  \\\n",
       "0  [0.0, 0.0, 0.0, 0.0, 0.0, 25.0, 0.0, 0.0, 0.0,...  [31, 31, 31, 31]   \n",
       "1  [5.0, 0.30000000000000004, 0.5, 0.0, 0.6000000...  [31, 31, 31, 31]   \n",
       "2  [0.2, 0.0, 0.0, 0.0, 0.0, 0.8, 0.0, 0.0, 0.1, ...  [31, 31, 31, 31]   \n",
       "3  [0.5, 0.0, 0.0, 0.0, 0.0, 0.8, 0.0, 0.0, 0.0, ...  [31, 31, 31, 31]   \n",
       "4  [0.0, 0.0, 0.0, 0.0, 0.0, 0.8, 0.0, 0.0, 0.0, ...  [31, 31, 31, 31]   \n",
       "\n",
       "          gpu_power       gpu_use  cpu_use_total  gpu_use_total  \\\n",
       "0  [55, 51, 55, 53]  [0, 0, 0, 0]           25.0              0   \n",
       "1  [55, 51, 55, 53]  [0, 0, 0, 0]           89.9              0   \n",
       "2  [55, 51, 55, 53]  [0, 0, 0, 0]           14.7              0   \n",
       "3  [55, 51, 55, 53]  [0, 0, 0, 0]           11.6              0   \n",
       "4  [55, 51, 55, 53]  [0, 0, 0, 0]           14.6              0   \n",
       "\n",
       "   gpu_power_total  node_id  node_type  \n",
       "0              214       96          6  \n",
       "1              214       96          6  \n",
       "2              214       96          6  \n",
       "3              214       96          6  \n",
       "4              214       96          6  "
      ]
     },
     "execution_count": 29,
     "metadata": {},
     "output_type": "execute_result"
    }
   ],
   "source": [
    "utilization[\"node_id\"] = utilization[\"node\"].apply(node_names.index)\n",
    "utilization[\"node_type\"] = utilization[\"node_id\"].apply(task_types.__getitem__)\n",
    "utilization.head()"
   ]
  },
  {
   "cell_type": "code",
   "execution_count": null,
   "metadata": {},
   "outputs": [
    {
     "name": "stdout",
     "output_type": "stream",
     "text": [
      "5\n",
      "6\n",
      "7\n",
      "8\n"
     ]
    },
    {
     "name": "stderr",
     "output_type": "stream",
     "text": [
      "/var/folders/kn/2_n0f_tn41j9_rj_8lcvx4g00000gn/T/ipykernel_6068/4091444571.py:91: MatplotlibDeprecationWarning: You have mixed positional and keyword arguments, some input may be discarded.  This is deprecated since 3.9 and will become an error in 3.11.\n",
      "  fig.legend(\n"
     ]
    },
    {
     "data": {
      "image/png": "[encoded data removed]",
      "text/plain": [
       "<Figure size 400x300 with 4 Axes>"
      ]
     },
     "metadata": {},
     "output_type": "display_data"
    }
   ],
   "source": [
    "node_type_to_axes: dict[int, tuple[int, int]] = {\n",
    "    5: (0, 0),  # Generate Linkers (1 GPU)\n",
    "    6: (1, 0),  # Validate Structure ($<1$ GPU)\n",
    "    7: (0, 1),  # Optimize Cells (Multi Node)\n",
    "    8: (1, 1),  # Retrain (Single Node)\n",
    "}\n",
    "\n",
    "with sns.plotting_context(\"paper\", font_scale=1.0):\n",
    "    fig, axes = plt.subplots(\n",
    "        2,\n",
    "        2,\n",
    "        figsize=(4.0, 3.0),\n",
    "        sharex=True,\n",
    "    )\n",
    "\n",
    "    times = np.linspace(0, 2.5 * 3600, 1024)\n",
    "    xlim_padding = 0.1\n",
    "    axes[0, 0].set_xlim([0 - xlim_padding, 2.5 + xlim_padding])\n",
    "\n",
    "    for node_type, group in utilization.groupby(\"node_type\"):\n",
    "        idx = node_type_to_axes[node_type]\n",
    "        ax = axes[idx]\n",
    "\n",
    "        # Get the name and color used\n",
    "        if node_type not in NODE_TYPE_TO_TASK_MAP:\n",
    "            continue\n",
    "\n",
    "        label, color = NODE_TYPE_TO_TASK_MAP[node_type]\n",
    "        color = \"tab:blue\"\n",
    "        ax.set_title(label)\n",
    "\n",
    "        # Make interpolators over each node\n",
    "        gpu_interps = []\n",
    "        for nid, subgroup in group.groupby(\"node\"):\n",
    "            gpu_interps.append(\n",
    "                interp1d(\n",
    "                    subgroup[\"time\"],\n",
    "                    subgroup[\"gpu_use\"].apply(np.mean),\n",
    "                    fill_value=0,\n",
    "                    bounds_error=False,\n",
    "                )\n",
    "            )\n",
    "\n",
    "        # Compute the average over the 3 hours of the run\n",
    "        gpu_util = [np.mean([f(t) for f in gpu_interps]) for t in times]\n",
    "\n",
    "        # Plot\n",
    "        ax.plot(\n",
    "            times / 3600,\n",
    "            gpu_util,\n",
    "            color=color,\n",
    "            label=label,\n",
    "            linestyle=\"-\",\n",
    "            lw=2,\n",
    "        )\n",
    "        ax.set_ylabel(\"GPU (%)\")\n",
    "\n",
    "        # Do the same for CPU\n",
    "        color = \"tab:orange\"\n",
    "        cpu_interps = []\n",
    "        for nid, subgroup in group.groupby(\"node\"):\n",
    "            cpu_interps.append(\n",
    "                interp1d(\n",
    "                    subgroup[\"time\"],\n",
    "                    subgroup[\"cpu_use\"].apply(lambda x: np.sum(x) / 32),\n",
    "                    fill_value=0,\n",
    "                    bounds_error=False,\n",
    "                )\n",
    "            )\n",
    "        cpu_util = [np.mean([f(t) for f in cpu_interps]) for t in times]\n",
    "        ax.plot(\n",
    "            times / 3600,\n",
    "            cpu_util,\n",
    "            color=color,\n",
    "            label=label,\n",
    "            linestyle=\"--\",\n",
    "            lw=2,\n",
    "        )\n",
    "        ax.set_ylabel(\"CPU (%)\")\n",
    "\n",
    "        ax.set_xticks([0.0, 0.5, 1.0, 1.5, 2.0, 2.5])\n",
    "        ax.grid(linestyle=\":\")\n",
    "\n",
    "    axes[0, 0].set_yticks([0, 25, 50, 75])\n",
    "    axes[0, 1].set_yticks([0, 10, 20, 30, 40])\n",
    "    axes[1, 0].set_yticks([0, 10, 20, 30, 40])\n",
    "    axes[1, 1].set_yticks([0, 25, 50, 75, 100])\n",
    "\n",
    "    handles, labels = ax.get_legend_handles_labels()\n",
    "    fig.legend(\n",
    "        handles,\n",
    "        ncol=2,\n",
    "        labels=[\"GPU\", \"CPU\"],\n",
    "        frameon=False,\n",
    "        loc=\"upper center\",\n",
    "        bbox_to_anchor=(0.55, 1.05),\n",
    "    )\n",
    "\n",
    "    for i in range(2):\n",
    "        axes[i, 0].set_ylabel(\"Util. (%)\")\n",
    "        axes[i, 1].set_ylabel(\"\")\n",
    "\n",
    "    for j in range(2):\n",
    "        axes[1, j].set_xlabel(\"Walltime (Hr.)\")\n",
    "\n",
    "    plt.tight_layout()\n",
    "    plt.savefig(FIGS_DIR / \"fig4.pdf\", bbox_inches=\"tight\")\n",
    "    plt.show()"
   ]
  },
  {
   "cell_type": "code",
   "execution_count": null,
   "metadata": {},
   "outputs": [],
   "source": []
  }
 ],
 "metadata": {
  "kernelspec": {
   "display_name": "mofa",
   "language": "python",
   "name": "python3"
  },
  "language_info": {
   "codemirror_mode": {
    "name": "ipython",
    "version": 3
   },
   "file_extension": ".py",
   "mimetype": "text/x-python",
   "name": "python",
   "nbconvert_exporter": "python",
   "pygments_lexer": "ipython3",
   "version": "3.10.14"
  }
 },
 "nbformat": 4,
 "nbformat_minor": 4
}
