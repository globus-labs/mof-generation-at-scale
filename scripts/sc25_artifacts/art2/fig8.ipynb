{
 "cells": [
  {
   "cell_type": "markdown",
   "id": "abc2ac87-7afc-4b33-b42c-28e7c07ed525",
   "metadata": {},
   "source": [
    "# Are they good compared to hMOF? \n",
    "We have computed the properties for some entries in hMOF that have similar structures to those we generate with MOFA. \n",
    "Here, we assess how the properties between the two sets compare"
   ]
  },
  {
   "cell_type": "code",
   "execution_count": 8,
   "id": "eb453539-5870-4896-bbe4-a5e7871c7890",
   "metadata": {},
   "outputs": [],
   "source": [
    "%matplotlib inline\n",
    "from matplotlib import pyplot as plt\n",
    "from pathlib import Path\n",
    "import pandas as pd"
   ]
  },
  {
   "cell_type": "markdown",
   "id": "9a26a791-9dea-4c11-bb38-f34b9432f5c4",
   "metadata": {},
   "source": [
    "Configuration"
   ]
  },
  {
   "cell_type": "code",
   "execution_count": 9,
   "id": "c3f79f34-a98c-4d77-80fc-dff25e795837",
   "metadata": {},
   "outputs": [],
   "source": [
    "mofa_path = \"summaries/450-nodes.csv.gz\""
   ]
  },
  {
   "cell_type": "markdown",
   "id": "8ece3b2d-9d2a-4821-b359-10111f23f01d",
   "metadata": {},
   "source": [
    "## Pull the Summaries of Each Dataset\n",
    "Load the hMOF and MOFA summaries"
   ]
  },
  {
   "cell_type": "markdown",
   "id": "bf266de5-3c84-4548-8828-112df327a0c7",
   "metadata": {},
   "source": [
    "### Load hMOF Ad Hoc Data\n",
    "We ran a small, randomly-selected population of MOFs from hMOF. Their data are stored in multiple files"
   ]
  },
  {
   "cell_type": "code",
   "execution_count": 10,
   "id": "0e0c19bc-5ef7-4075-b640-362cb1fea8bd",
   "metadata": {},
   "outputs": [
    {
     "name": "stdout",
     "output_type": "stream",
     "text": [
      "The number of hMOF structures: 121.\n"
     ]
    },
    {
     "data": {
      "text/html": [
       "<div>\n",
       "<style scoped>\n",
       "    .dataframe tbody tr th:only-of-type {\n",
       "        vertical-align: middle;\n",
       "    }\n",
       "\n",
       "    .dataframe tbody tr th {\n",
       "        vertical-align: top;\n",
       "    }\n",
       "\n",
       "    .dataframe thead th {\n",
       "        text-align: right;\n",
       "    }\n",
       "</style>\n",
       "<table border=\"1\" class=\"dataframe\">\n",
       "  <thead>\n",
       "    <tr style=\"text-align: right;\">\n",
       "      <th></th>\n",
       "      <th>host</th>\n",
       "      <th>lammps_cmd</th>\n",
       "      <th>timesteps</th>\n",
       "      <th>mof</th>\n",
       "      <th>runtime</th>\n",
       "      <th>strain</th>\n",
       "    </tr>\n",
       "  </thead>\n",
       "  <tbody>\n",
       "    <tr>\n",
       "      <th>0</th>\n",
       "      <td>bettik-linux</td>\n",
       "      <td>[/home/lward/Software/lammps-2Aug2023/build/lm...</td>\n",
       "      <td>1000000</td>\n",
       "      <td>mof-c05f4470</td>\n",
       "      <td>1209.371764</td>\n",
       "      <td>1.357353</td>\n",
       "    </tr>\n",
       "    <tr>\n",
       "      <th>1</th>\n",
       "      <td>bettik-linux</td>\n",
       "      <td>[/home/lward/Software/lammps-2Aug2023/build/lm...</td>\n",
       "      <td>1000000</td>\n",
       "      <td>mof-1305ad29</td>\n",
       "      <td>1729.896483</td>\n",
       "      <td>2.118927</td>\n",
       "    </tr>\n",
       "    <tr>\n",
       "      <th>2</th>\n",
       "      <td>bettik-linux</td>\n",
       "      <td>[/home/lward/Software/lammps-2Aug2023/build/lm...</td>\n",
       "      <td>1000000</td>\n",
       "      <td>mof-9bae2bbe</td>\n",
       "      <td>1168.651650</td>\n",
       "      <td>0.263745</td>\n",
       "    </tr>\n",
       "    <tr>\n",
       "      <th>3</th>\n",
       "      <td>bettik-linux</td>\n",
       "      <td>[/home/lward/Software/lammps-2Aug2023/build/lm...</td>\n",
       "      <td>1000000</td>\n",
       "      <td>mof-775518a7</td>\n",
       "      <td>1410.288954</td>\n",
       "      <td>0.482247</td>\n",
       "    </tr>\n",
       "    <tr>\n",
       "      <th>4</th>\n",
       "      <td>bettik-linux</td>\n",
       "      <td>[/home/lward/Software/lammps-2Aug2023/build/lm...</td>\n",
       "      <td>1000000</td>\n",
       "      <td>mof-b9c71836</td>\n",
       "      <td>1347.897951</td>\n",
       "      <td>0.471681</td>\n",
       "    </tr>\n",
       "  </tbody>\n",
       "</table>\n",
       "</div>"
      ],
      "text/plain": [
       "           host                                         lammps_cmd  timesteps  \\\n",
       "0  bettik-linux  [/home/lward/Software/lammps-2Aug2023/build/lm...    1000000   \n",
       "1  bettik-linux  [/home/lward/Software/lammps-2Aug2023/build/lm...    1000000   \n",
       "2  bettik-linux  [/home/lward/Software/lammps-2Aug2023/build/lm...    1000000   \n",
       "3  bettik-linux  [/home/lward/Software/lammps-2Aug2023/build/lm...    1000000   \n",
       "4  bettik-linux  [/home/lward/Software/lammps-2Aug2023/build/lm...    1000000   \n",
       "\n",
       "            mof      runtime    strain  \n",
       "0  mof-c05f4470  1209.371764  1.357353  \n",
       "1  mof-1305ad29  1729.896483  2.118927  \n",
       "2  mof-9bae2bbe  1168.651650  0.263745  \n",
       "3  mof-775518a7  1410.288954  0.482247  \n",
       "4  mof-b9c71836  1347.897951  0.471681  "
      ]
     },
     "execution_count": 10,
     "metadata": {},
     "output_type": "execute_result"
    }
   ],
   "source": [
    "hmof_strain = (\n",
    "    pd.read_json(\"uff-strains.jsonl\", lines=True)\n",
    "    .query(\"timesteps == 1e6\")\n",
    "    .drop_duplicates(\"mof\")\n",
    ")\n",
    "print(f\"The number of hMOF structures: {len(hmof_strain)}.\")\n",
    "hmof_strain.head()"
   ]
  },
  {
   "cell_type": "code",
   "execution_count": 11,
   "id": "16f77110-ef62-473c-96d8-6d2daa3c773e",
   "metadata": {},
   "outputs": [
    {
     "name": "stdout",
     "output_type": "stream",
     "text": [
      "The number of hMOF structures: 92.\n"
     ]
    },
    {
     "data": {
      "text/html": [
       "<div>\n",
       "<style scoped>\n",
       "    .dataframe tbody tr th:only-of-type {\n",
       "        vertical-align: middle;\n",
       "    }\n",
       "\n",
       "    .dataframe tbody tr th {\n",
       "        vertical-align: top;\n",
       "    }\n",
       "\n",
       "    .dataframe thead th {\n",
       "        text-align: right;\n",
       "    }\n",
       "</style>\n",
       "<table border=\"1\" class=\"dataframe\">\n",
       "  <thead>\n",
       "    <tr style=\"text-align: right;\">\n",
       "      <th></th>\n",
       "      <th>mof</th>\n",
       "      <th>opt_steps</th>\n",
       "      <th>runtime</th>\n",
       "      <th>mean</th>\n",
       "      <th>std</th>\n",
       "    </tr>\n",
       "  </thead>\n",
       "  <tbody>\n",
       "    <tr>\n",
       "      <th>0</th>\n",
       "      <td>mof-775518a7</td>\n",
       "      <td>8</td>\n",
       "      <td>5702.68282</td>\n",
       "      <td>0.980114</td>\n",
       "      <td>0.016130</td>\n",
       "    </tr>\n",
       "    <tr>\n",
       "      <th>1</th>\n",
       "      <td>mof-a2171adf</td>\n",
       "      <td>8</td>\n",
       "      <td>NaN</td>\n",
       "      <td>0.103095</td>\n",
       "      <td>0.000970</td>\n",
       "    </tr>\n",
       "    <tr>\n",
       "      <th>2</th>\n",
       "      <td>mof-c05f4470</td>\n",
       "      <td>8</td>\n",
       "      <td>NaN</td>\n",
       "      <td>0.060511</td>\n",
       "      <td>0.000669</td>\n",
       "    </tr>\n",
       "    <tr>\n",
       "      <th>3</th>\n",
       "      <td>mof-86533c22</td>\n",
       "      <td>8</td>\n",
       "      <td>NaN</td>\n",
       "      <td>0.103757</td>\n",
       "      <td>0.000994</td>\n",
       "    </tr>\n",
       "    <tr>\n",
       "      <th>4</th>\n",
       "      <td>mof-2a768a8f</td>\n",
       "      <td>8</td>\n",
       "      <td>NaN</td>\n",
       "      <td>0.121500</td>\n",
       "      <td>0.002563</td>\n",
       "    </tr>\n",
       "  </tbody>\n",
       "</table>\n",
       "</div>"
      ],
      "text/plain": [
       "            mof  opt_steps     runtime      mean       std\n",
       "0  mof-775518a7          8  5702.68282  0.980114  0.016130\n",
       "1  mof-a2171adf          8         NaN  0.103095  0.000970\n",
       "2  mof-c05f4470          8         NaN  0.060511  0.000669\n",
       "3  mof-86533c22          8         NaN  0.103757  0.000994\n",
       "4  mof-2a768a8f          8         NaN  0.121500  0.002563"
      ]
     },
     "execution_count": 11,
     "metadata": {},
     "output_type": "execute_result"
    }
   ],
   "source": [
    "hmof_capac = (\n",
    "    pd.read_json(\"uff-capacity.jsonl\", lines=True)\n",
    "    .query(\"opt_steps == 8\")\n",
    "    .drop_duplicates(\"mof\")\n",
    ")\n",
    "print(f\"The number of hMOF structures: {len(hmof_capac)}.\")\n",
    "hmof_capac.head()"
   ]
  },
  {
   "cell_type": "code",
   "execution_count": 12,
   "id": "22374ccb-7099-437a-928a-0665107c4fed",
   "metadata": {},
   "outputs": [
    {
     "name": "stdout",
     "output_type": "stream",
     "text": [
      "Found 69 MOFs from hMOF with both properties\n"
     ]
    },
    {
     "data": {
      "text/html": [
       "<div>\n",
       "<style scoped>\n",
       "    .dataframe tbody tr th:only-of-type {\n",
       "        vertical-align: middle;\n",
       "    }\n",
       "\n",
       "    .dataframe tbody tr th {\n",
       "        vertical-align: top;\n",
       "    }\n",
       "\n",
       "    .dataframe thead th {\n",
       "        text-align: right;\n",
       "    }\n",
       "</style>\n",
       "<table border=\"1\" class=\"dataframe\">\n",
       "  <thead>\n",
       "    <tr style=\"text-align: right;\">\n",
       "      <th></th>\n",
       "      <th>strain</th>\n",
       "      <th>capacity</th>\n",
       "    </tr>\n",
       "  </thead>\n",
       "  <tbody>\n",
       "    <tr>\n",
       "      <th>count</th>\n",
       "      <td>69.000000</td>\n",
       "      <td>69.000000</td>\n",
       "    </tr>\n",
       "    <tr>\n",
       "      <th>mean</th>\n",
       "      <td>0.811525</td>\n",
       "      <td>0.199516</td>\n",
       "    </tr>\n",
       "    <tr>\n",
       "      <th>std</th>\n",
       "      <td>0.436531</td>\n",
       "      <td>0.405736</td>\n",
       "    </tr>\n",
       "    <tr>\n",
       "      <th>min</th>\n",
       "      <td>0.263745</td>\n",
       "      <td>0.043484</td>\n",
       "    </tr>\n",
       "    <tr>\n",
       "      <th>25%</th>\n",
       "      <td>0.464835</td>\n",
       "      <td>0.072787</td>\n",
       "    </tr>\n",
       "    <tr>\n",
       "      <th>50%</th>\n",
       "      <td>0.743941</td>\n",
       "      <td>0.104941</td>\n",
       "    </tr>\n",
       "    <tr>\n",
       "      <th>75%</th>\n",
       "      <td>0.906546</td>\n",
       "      <td>0.160450</td>\n",
       "    </tr>\n",
       "    <tr>\n",
       "      <th>max</th>\n",
       "      <td>2.118927</td>\n",
       "      <td>3.228475</td>\n",
       "    </tr>\n",
       "  </tbody>\n",
       "</table>\n",
       "</div>"
      ],
      "text/plain": [
       "          strain   capacity\n",
       "count  69.000000  69.000000\n",
       "mean    0.811525   0.199516\n",
       "std     0.436531   0.405736\n",
       "min     0.263745   0.043484\n",
       "25%     0.464835   0.072787\n",
       "50%     0.743941   0.104941\n",
       "75%     0.906546   0.160450\n",
       "max     2.118927   3.228475"
      ]
     },
     "execution_count": 12,
     "metadata": {},
     "output_type": "execute_result"
    }
   ],
   "source": [
    "hmof_data = pd.merge(\n",
    "    hmof_strain[[\"mof\", \"strain\"]],\n",
    "    hmof_capac[[\"mof\", \"mean\"]].rename(columns={\"mean\": \"capacity\"}),\n",
    "    how=\"inner\",\n",
    "    on=\"mof\",\n",
    ")\n",
    "print(f\"Found {len(hmof_data)} MOFs from hMOF with both properties\")\n",
    "hmof_data.describe()"
   ]
  },
  {
   "cell_type": "markdown",
   "id": "22360dff-e4a6-47e2-a371-ff014eebf822",
   "metadata": {},
   "source": [
    "### Load MOFA Data\n",
    "It's all in a huge CSV. Let's query down to only those with a capacity measurement"
   ]
  },
  {
   "cell_type": "code",
   "execution_count": 13,
   "id": "7dd72043-db6d-4973-9c4c-26192c8105dc",
   "metadata": {},
   "outputs": [
    {
     "name": "stdout",
     "output_type": "stream",
     "text": [
      "Found 224 MOFA MOFs with both properties\n"
     ]
    },
    {
     "data": {
      "text/html": [
       "<div>\n",
       "<style scoped>\n",
       "    .dataframe tbody tr th:only-of-type {\n",
       "        vertical-align: middle;\n",
       "    }\n",
       "\n",
       "    .dataframe tbody tr th {\n",
       "        vertical-align: top;\n",
       "    }\n",
       "\n",
       "    .dataframe thead th {\n",
       "        text-align: right;\n",
       "    }\n",
       "</style>\n",
       "<table border=\"1\" class=\"dataframe\">\n",
       "  <thead>\n",
       "    <tr style=\"text-align: right;\">\n",
       "      <th></th>\n",
       "      <th>gas_storage.CO2</th>\n",
       "      <th>structure_stability.uff</th>\n",
       "    </tr>\n",
       "  </thead>\n",
       "  <tbody>\n",
       "    <tr>\n",
       "      <th>count</th>\n",
       "      <td>224.000000</td>\n",
       "      <td>224.000000</td>\n",
       "    </tr>\n",
       "    <tr>\n",
       "      <th>mean</th>\n",
       "      <td>0.229604</td>\n",
       "      <td>0.098604</td>\n",
       "    </tr>\n",
       "    <tr>\n",
       "      <th>std</th>\n",
       "      <td>0.376915</td>\n",
       "      <td>0.171745</td>\n",
       "    </tr>\n",
       "    <tr>\n",
       "      <th>min</th>\n",
       "      <td>0.069247</td>\n",
       "      <td>0.016368</td>\n",
       "    </tr>\n",
       "    <tr>\n",
       "      <th>25%</th>\n",
       "      <td>0.081330</td>\n",
       "      <td>0.040997</td>\n",
       "    </tr>\n",
       "    <tr>\n",
       "      <th>50%</th>\n",
       "      <td>0.091433</td>\n",
       "      <td>0.047582</td>\n",
       "    </tr>\n",
       "    <tr>\n",
       "      <th>75%</th>\n",
       "      <td>0.174217</td>\n",
       "      <td>0.052707</td>\n",
       "    </tr>\n",
       "    <tr>\n",
       "      <th>max</th>\n",
       "      <td>4.047024</td>\n",
       "      <td>1.870881</td>\n",
       "    </tr>\n",
       "  </tbody>\n",
       "</table>\n",
       "</div>"
      ],
      "text/plain": [
       "       gas_storage.CO2  structure_stability.uff\n",
       "count       224.000000               224.000000\n",
       "mean          0.229604                 0.098604\n",
       "std           0.376915                 0.171745\n",
       "min           0.069247                 0.016368\n",
       "25%           0.081330                 0.040997\n",
       "50%           0.091433                 0.047582\n",
       "75%           0.174217                 0.052707\n",
       "max           4.047024                 1.870881"
      ]
     },
     "execution_count": 13,
     "metadata": {},
     "output_type": "execute_result"
    }
   ],
   "source": [
    "mofa_data = pd.read_csv(mofa_path)\n",
    "mofa_data = mofa_data[~mofa_data[\"gas_storage.CO2\"].isnull()]\n",
    "print(f\"Found {len(mofa_data)} MOFA MOFs with both properties\")\n",
    "mofa_data[[\"gas_storage.CO2\", \"structure_stability.uff\"]].describe()"
   ]
  },
  {
   "cell_type": "markdown",
   "id": "6755b096-77b3-43bc-a8eb-2f52a5dc6d29",
   "metadata": {},
   "source": [
    "## Make a Pareto Plot\n",
    "Show the MOFA MOFs as small dots in the background so we can highlight the hMOF ones in the foreground"
   ]
  },
  {
   "cell_type": "code",
   "execution_count": 14,
   "id": "6cb23377-880d-42bc-b2bc-492d116e8763",
   "metadata": {},
   "outputs": [
    {
     "data": {
      "image/png": "[encoded data removed]",
      "text/plain": [
       "<Figure size 350x200 with 1 Axes>"
      ]
     },
     "metadata": {},
     "output_type": "display_data"
    }
   ],
   "source": [
    "fig, ax = plt.subplots(figsize=(3.5, 2.0))\n",
    "\n",
    "ax.grid(linestyle=\"--\")\n",
    "ax.scatter(\n",
    "    hmof_data[\"strain\"], hmof_data[\"capacity\"], color=\"firebrick\", label=\"hMOF\", s=8\n",
    ")\n",
    "ax.scatter(\n",
    "    mofa_data[\"structure_stability.uff\"],\n",
    "    mofa_data[\"gas_storage.CO2\"],\n",
    "    label=\"MOFA\",\n",
    "    s=8,\n",
    "    cmap=\"Blues\",\n",
    "    c=mofa_data[\"walltime\"] / 3600,\n",
    "    vmin=-0.8,\n",
    "    vmax=1.5,\n",
    "    marker=\"s\",\n",
    "    edgecolor=\"k\",\n",
    "    linewidth=0.5,\n",
    ")\n",
    "\n",
    "ax.set_yscale(\"log\")\n",
    "ax.set_xscale(\"log\")\n",
    "\n",
    "ax.set_ylabel(\"CO$_2$ Cap. (mol/kg)\")\n",
    "ax.set_xlabel(\"Strain\")\n",
    "\n",
    "ax.legend(fontsize=8)\n",
    "\n",
    "fig.tight_layout()\n",
    "fig.savefig(\"figures/fig8.pdf\", dpi=320)\n",
    "plt.show()"
   ]
  },
  {
   "cell_type": "code",
   "execution_count": null,
   "id": "16f1720a-94b4-4143-8f39-714fb378a5d2",
   "metadata": {},
   "outputs": [],
   "source": []
  },
  {
   "cell_type": "code",
   "execution_count": null,
   "id": "607b6bc9-f78a-4583-9d75-eb66d8136f93",
   "metadata": {},
   "outputs": [],
   "source": []
  }
 ],
 "metadata": {
  "kernelspec": {
   "display_name": "mofa",
   "language": "python",
   "name": "python3"
  },
  "language_info": {
   "codemirror_mode": {
    "name": "ipython",
    "version": 3
   },
   "file_extension": ".py",
   "mimetype": "text/x-python",
   "name": "python",
   "nbconvert_exporter": "python",
   "pygments_lexer": "ipython3",
   "version": "3.10.14"
  }
 },
 "nbformat": 4,
 "nbformat_minor": 5
}
