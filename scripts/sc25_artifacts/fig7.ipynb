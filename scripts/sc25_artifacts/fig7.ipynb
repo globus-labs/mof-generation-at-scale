{
 "cells": [
  {
   "cell_type": "markdown",
   "id": "cda758e4-d3ca-437f-8d2b-750f14b3f44e",
   "metadata": {},
   "source": [
    "# Show Effect of Scale on Discovery\n",
    "Measure the number of stable MOFs discovered as a function of node-hours expended"
   ]
  },
  {
   "cell_type": "code",
   "execution_count": 1,
   "id": "a838a8d1-1402-4371-a3d6-54d63e91f034",
   "metadata": {},
   "outputs": [],
   "source": [
    "# %matplotlib inline\n",
    "import matplotlib.pyplot as plt\n",
    "import pandas as pd\n",
    "import numpy as np\n",
    "\n",
    "from pathlib import Path\n",
    "from itertools import chain"
   ]
  },
  {
   "cell_type": "markdown",
   "id": "20acd39a-6b3f-4dda-b285-577e29dddb9c",
   "metadata": {},
   "source": [
    "## Load in results from different scales\n",
    "We have them in the summaries directory, labeled by number of nodes"
   ]
  },
  {
   "cell_type": "code",
   "execution_count": 3,
   "id": "27ca604d-d7d1-421d-b636-29145e3a0807",
   "metadata": {},
   "outputs": [
    {
     "name": "stdout",
     "output_type": "stream",
     "text": [
      "Found 0 runs: \n"
     ]
    }
   ],
   "source": [
    "summaries = []\n",
    "for path in chain(\n",
    "    Path(\"summaries\").glob(\"*-nodes.csv.gz\"),\n",
    "    Path(\"summaries\").glob(\"*-nodes_repeat-*.csv.gz\"),\n",
    "):\n",
    "    count = int(path.name.split(\"-\")[0])\n",
    "    summaries.append([count, pd.read_csv(path)])\n",
    "summaries.sort(key=lambda x: x[0])\n",
    "print(f\"Found {len(summaries)} runs:\", \" \".join(str(x[0]) for x in summaries))"
   ]
  },
  {
   "cell_type": "markdown",
   "id": "6f23236b-4ae7-4556-a5f0-48ff4a6c5072",
   "metadata": {},
   "source": [
    "# Get the Average Rate for 32-nodes w/o Training\n",
    "We'll use that as the \"no MOFA\" baseline"
   ]
  },
  {
   "cell_type": "code",
   "execution_count": null,
   "id": "17ca8285-a459-4faa-8fe3-9c01e88b1d20",
   "metadata": {},
   "outputs": [
    {
     "name": "stdout",
     "output_type": "stream",
     "text": [
      "Found a baseline rate of 274.74 MOFs per hour\n"
     ]
    }
   ],
   "source": [
    "baseline_rate = []\n",
    "for run in Path(\"summaries/\").glob(\"64-nodes_no-retrain*.csv.gz\"):\n",
    "    summary = pd.read_csv(run)\n",
    "    baseline_rate.append(\n",
    "        summary[\"cumulative_found\"].iloc[-1] / summary[\"walltime\"].iloc[-1] * 3600\n",
    "    )\n",
    "baseline_rate = np.mean(baseline_rate)\n",
    "print(f\"Found a baseline rate of {baseline_rate:.2f} MOFs per hour\")"
   ]
  },
  {
   "cell_type": "code",
   "execution_count": null,
   "id": "b85d9c9b-69e3-4b78-ade4-7aebb3f650d4",
   "metadata": {},
   "outputs": [
    {
     "data": {
      "text/plain": [
       "274.7368145771466"
      ]
     },
     "execution_count": 4,
     "metadata": {},
     "output_type": "execute_result"
    }
   ],
   "source": [
    "baseline_rate"
   ]
  },
  {
   "cell_type": "markdown",
   "id": "875135b9-5a47-471a-91ca-485d6046a24d",
   "metadata": {},
   "source": [
    "## Plot the Efficiency Over Time\n",
    "Show that we get better at finding MOFs over time"
   ]
  },
  {
   "cell_type": "code",
   "execution_count": null,
   "id": "e6e85eea-4df6-412f-acf0-4d2b86fa88e2",
   "metadata": {},
   "outputs": [],
   "source": [
    "sizes = sorted(set(x[0] for x in summaries))\n",
    "cmap = plt.get_cmap(\"copper_r\")\n",
    "steps = np.linspace(0.2, 1.0, len(sizes))\n",
    "colors = dict((size, cmap(step)) for size, step in zip(sizes, steps))"
   ]
  },
  {
   "cell_type": "code",
   "execution_count": null,
   "id": "f9b000b1-bf87-4812-a001-50189252f639",
   "metadata": {},
   "outputs": [
    {
     "data": {
      "text/plain": [
       "{32: (0.9882350615917502, 0.62496, 0.398, 1.0),\n",
       " 64: (0.7411762961938126, 0.46871999999999997, 0.2985, 1.0),\n",
       " 128: (0.49411753079587517, 0.31248000000000004, 0.199, 1.0),\n",
       " 256: (0.24705876539793759, 0.15623999999999993, 0.09949999999999998, 1.0),\n",
       " 450: (0.0, 0.0, 0.0, 1.0)}"
      ]
     },
     "execution_count": 6,
     "metadata": {},
     "output_type": "execute_result"
    }
   ],
   "source": [
    "colors"
   ]
  },
  {
   "cell_type": "code",
   "execution_count": null,
   "id": "608780bf-fb25-4977-a1f3-18c8562c90c4",
   "metadata": {},
   "outputs": [
    {
     "ename": "NameError",
     "evalue": "name 'lowest_slope' is not defined",
     "output_type": "error",
     "traceback": [
      "\u001b[0;31m---------------------------------------------------------------------------\u001b[0m",
      "\u001b[0;31mNameError\u001b[0m                                 Traceback (most recent call last)",
      "Cell \u001b[0;32mIn[7], line 1\u001b[0m\n\u001b[0;32m----> 1\u001b[0m \u001b[43mlowest_slope\u001b[49m\n",
      "\u001b[0;31mNameError\u001b[0m: name 'lowest_slope' is not defined"
     ]
    }
   ],
   "source": [
    "lowest_slope"
   ]
  },
  {
   "cell_type": "code",
   "execution_count": null,
   "id": "a0c741fc-b772-46fc-9fec-dcbe9971008f",
   "metadata": {},
   "outputs": [],
   "source": [
    "fig, ax = plt.subplots(figsize=(3.5, 2.0))\n",
    "\n",
    "for count, summary in summaries:\n",
    "    summary = summary.query(f\"walltime > {15 * 60}\")\n",
    "    ax.plot(\n",
    "        summary[\"walltime\"] / 60,\n",
    "        summary[\"cumulative_found\"] / count / summary[\"walltime\"] * 3600,\n",
    "        \"-\",\n",
    "        color=colors[count],\n",
    "        label=f\"N={count}\",\n",
    "    )\n",
    "ax.legend(fontsize=6)\n",
    "\n",
    "ax.set_xlabel(\"Walltime (min)\")\n",
    "ax.set_ylabel(\"Stable MOFs /\\n Node-Hour\")\n",
    "\n",
    "fig.tight_layout()\n",
    "fig.savefig(\"figures/stable-found-per-node-hour.png\", dpi=320)\n",
    "fig.savefig(\"figures/stable-found-per-node-hour.pdf\")"
   ]
  },
  {
   "cell_type": "code",
   "execution_count": null,
   "id": "085439d4-1eaa-4102-bd74-23661a27ec69",
   "metadata": {},
   "outputs": [],
   "source": [
    "fig, ax = plt.subplots(figsize=(3.5, 2.0))\n",
    "\n",
    "lowest_slope = np.mean(\n",
    "    [\n",
    "        summary[\"cumulative_found\"].iloc[-1] / summary[\"walltime\"].iloc[-1] * 3600\n",
    "        for count, summary in summaries\n",
    "        if count == min(colors.keys())\n",
    "    ]\n",
    ")\n",
    "done = set()\n",
    "for count, summary in summaries:\n",
    "    ax.plot(\n",
    "        summary[\"walltime\"] / 3600,\n",
    "        summary[\"cumulative_found\"],\n",
    "        \"-\",\n",
    "        color=colors[count],\n",
    "        alpha=0.8,\n",
    "        label=f\"N={count}\" if count not in done else None,\n",
    "    )\n",
    "    done.add(count)\n",
    "\n",
    "ax.set_xlim(0, 1.0)\n",
    "ax.set_ylim([0, 200])\n",
    "for count, summary in summaries:\n",
    "    ax.plot(\n",
    "        ax.get_xlim(),\n",
    "        np.multiply(ax.get_xlim(), baseline_rate * count / 64),\n",
    "        \"--\",\n",
    "        lw=1,\n",
    "        color=colors[count],\n",
    "    )\n",
    "\n",
    "ax.legend(fontsize=6)\n",
    "\n",
    "ax.set_xlabel(\"Walltime (hr)\")\n",
    "ax.set_ylabel(\"Stable MOFs Found\")\n",
    "\n",
    "fig.tight_layout()\n",
    "fig.savefig(\"figures/stable-found-per-hour.png\", dpi=320)\n",
    "fig.savefig(\"figures/stable-found-per-hour.pdf\")"
   ]
  },
  {
   "cell_type": "code",
   "execution_count": null,
   "id": "a98ccfb2-4c17-4e91-8a77-dbea2bde6056",
   "metadata": {},
   "outputs": [],
   "source": []
  },
  {
   "cell_type": "code",
   "execution_count": null,
   "id": "25317804-b828-4f0a-ab5e-2ab66f61ea86",
   "metadata": {},
   "outputs": [],
   "source": []
  }
 ],
 "metadata": {
  "kernelspec": {
   "display_name": "mofa",
   "language": "python",
   "name": "python3"
  },
  "language_info": {
   "codemirror_mode": {
    "name": "ipython",
    "version": 3
   },
   "file_extension": ".py",
   "mimetype": "text/x-python",
   "name": "python",
   "nbconvert_exporter": "python",
   "pygments_lexer": "ipython3",
   "version": "3.10.14"
  }
 },
 "nbformat": 4,
 "nbformat_minor": 5
}
