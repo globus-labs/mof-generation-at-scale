{
 "cells": [
  {
   "cell_type": "markdown",
   "id": "4270612a-ac78-49b1-90c7-b14fdca10455",
   "metadata": {},
   "source": [
    "## Generate Prompt Template File from Mol File\n",
    "Generate potential prompt templates from a molecule given a sample molecule"
   ]
  },
  {
   "cell_type": "code",
   "execution_count": 1,
   "id": "c730a883-6c1f-4042-b5db-22cd1535486c",
   "metadata": {},
   "outputs": [
    {
     "name": "stderr",
     "output_type": "stream",
     "text": [
      "/home/lward/miniconda3/envs/mofa/lib/python3.10/site-packages/tqdm/auto.py:21: TqdmWarning: IProgress not found. Please update jupyter and ipywidgets. See https://ipywidgets.readthedocs.io/en/stable/user_install.html\n",
      "  from .autonotebook import tqdm as notebook_tqdm\n"
     ]
    }
   ],
   "source": [
    "from mofa.model import LigandTemplate\n",
    "from dataclasses import asdict\n",
    "from rdkit import Chem\n",
    "import itertools\n",
    "import yaml"
   ]
  },
  {
   "cell_type": "markdown",
   "id": "1d793b7e-6350-4de7-97e1-c02905655c29",
   "metadata": {},
   "source": [
    "Configuration"
   ]
  },
  {
   "cell_type": "code",
   "execution_count": 2,
   "id": "ffde7295-f782-4ca5-bd4a-a3bdb3b3e9dc",
   "metadata": {},
   "outputs": [],
   "source": [
    "mol_file = 'example-mols/cyano-with-benzenes.mol'  # Molecule forming the template\n",
    "anchor_type = 'cyano'\n",
    "anchor_group = 'C#N' #  SMARTS of group which will attach to metal centers, \"anchors\". First atom should be the carbon from the anchor which connects to the rest of the molecule - \"link carbon\"\n",
    "dummy_element = 'Fr'\n",
    "prompt_size: int = 4  # Number of bonds between the link carbon and the end of a prompt group"
   ]
  },
  {
   "cell_type": "markdown",
   "id": "832a081a-e199-4bf9-bbeb-2c7924a4a700",
   "metadata": {},
   "source": [
    "Load the molecule "
   ]
  },
  {
   "cell_type": "code",
   "execution_count": 3,
   "id": "e37e8a4a-bfed-4881-b803-019a90e7a949",
   "metadata": {},
   "outputs": [],
   "source": [
    "mol = Chem.MolFromMolFile(mol_file, removeHs=False)"
   ]
  },
  {
   "cell_type": "markdown",
   "id": "ca61ee2a-aae4-4aee-9e7c-994b7aea1a59",
   "metadata": {},
   "source": [
    "Find the rings in the molecule. We'll use them when making sure the prompts are correct"
   ]
  },
  {
   "cell_type": "code",
   "execution_count": 4,
   "id": "938b396b-4560-4c98-b872-f30870f5012f",
   "metadata": {},
   "outputs": [
    {
     "data": {
      "text/plain": [
       "[{2, 3, 4, 5, 20, 21}, {12, 13, 14, 15, 18, 19}]"
      ]
     },
     "execution_count": 4,
     "metadata": {},
     "output_type": "execute_result"
    }
   ],
   "source": [
    "all_rings = list(map(set, mol.GetRingInfo().AtomRings()))\n",
    "all_rings"
   ]
  },
  {
   "cell_type": "markdown",
   "id": "1da3b129-f2d8-4ca6-b681-334405f7c20d",
   "metadata": {},
   "source": [
    "The groups which connect to the rest of the molecule"
   ]
  },
  {
   "cell_type": "code",
   "execution_count": 5,
   "id": "25872710-15a4-4859-b605-415518d6065a",
   "metadata": {},
   "outputs": [],
   "source": [
    "anchor_matches = mol.GetSubstructMatches(Chem.MolFromSmarts('C#N'))\n",
    "assert len(anchor_matches) == 2"
   ]
  },
  {
   "cell_type": "markdown",
   "id": "0d69aab5-a196-49e4-b623-06f39c071441",
   "metadata": {},
   "source": [
    "For each, find the atoms which are suitable for prompts (close enough, not part of ring)"
   ]
  },
  {
   "cell_type": "code",
   "execution_count": 6,
   "id": "48838979-c4f8-44f5-9d49-d7680c7b31c3",
   "metadata": {},
   "outputs": [
    {
     "name": "stdout",
     "output_type": "stream",
     "text": [
      "Anchor 0 prompt includes 12 atoms: 0, 1, 2, 3, 4, 5, 20, 21, 22, 23, 34, 35\n",
      "Atom 5 connects with the rest of the molecule\n",
      "Anchor 1 prompt includes 12 atoms: 12, 13, 14, 15, 16, 17, 18, 19, 30, 31, 32, 33\n",
      "Atom 12 connects with the rest of the molecule\n"
     ]
    }
   ],
   "source": [
    "prompt_xyzs = []\n",
    "for aid, anchor in enumerate(anchor_matches):\n",
    "    link_carbon = anchor[0]\n",
    "\n",
    "    # Get all bonds within the radius\n",
    "    bonds = list(Chem.FindAtomEnvironmentOfRadiusN(mol, prompt_size, useHs=True, rootedAtAtom=link_carbon))\n",
    "\n",
    "    # Get the atoms which are part of the group\n",
    "    prompt_atoms = set()\n",
    "    for bond_id in bonds:\n",
    "        bond = mol.GetBondWithIdx(bond_id)\n",
    "        prompt_atoms.add(bond.GetBeginAtomIdx())\n",
    "        prompt_atoms.add(bond.GetEndAtomIdx())\n",
    "    prompt_atoms = sorted(prompt_atoms)\n",
    "    print(f'Anchor {aid} prompt includes {len(prompt_atoms)} atoms: {\", \".join(map(str, prompt_atoms))}')\n",
    "\n",
    "    # Make sure that if we have one atom from a ring, we include all of the ring\n",
    "    for ring in all_rings:\n",
    "        if len(ring.intersection(prompt_atoms)) > 0:\n",
    "            assert len(ring.difference(prompt_atoms)) == 0, 'Included some but not all atoms in a ring'\n",
    "\n",
    "    # Detect which atom connects to the rest of the molecule\n",
    "    is_outside = []\n",
    "    for atom_id in prompt_atoms:\n",
    "        atom = mol.GetAtomWithIdx(atom_id)\n",
    "        neighbors = [n.GetIdx() for n in atom.GetNeighbors()]\n",
    "        is_outside.append(any(n not in prompt_atoms for n in neighbors))\n",
    "    assert is_outside.count(True) == 1, 'More than one atom is at the edge of the prompt'\n",
    "    outside_atom = prompt_atoms[is_outside.index(True)]\n",
    "    print(f'Atom {outside_atom} connects with the rest of the molecule')\n",
    "\n",
    "    # Save the prompt group such that atom which connects to the rest of the molecule is the first atom\n",
    "    xyz = f'{len(prompt_atoms)}\\nPrompt {aid}\\n'\n",
    "    not_special = sorted(set(prompt_atoms).difference(anchor).difference([outside_atom]))\n",
    "    conf = mol.GetConformer()\n",
    "    for atom_id in [outside_atom] + not_special + list(anchor):\n",
    "        a = mol.GetAtomWithIdx(atom_id)\n",
    "        s = a.GetSymbol()\n",
    "        c = conf.GetAtomPosition(atom_id)\n",
    "        xyz += f\"{s} {c[0]} {c[1]} {c[2]}\\n\"\n",
    "    prompt_xyzs.append(xyz)\n",
    "\n",
    "    with open(f'prompt-{aid}.xyz', 'w') as fp:\n",
    "        print(xyz, file=fp)"
   ]
  },
  {
   "cell_type": "markdown",
   "id": "b5925723-a4d6-4254-b9bb-921dcaacd599",
   "metadata": {},
   "source": [
    "Make then save the ligand template"
   ]
  },
  {
   "cell_type": "code",
   "execution_count": 7,
   "id": "ec3da18b-014b-43fb-883e-0df1d242e241",
   "metadata": {},
   "outputs": [],
   "source": [
    "template = LigandTemplate(\n",
    "    anchor_type=anchor_type,\n",
    "    xyzs=prompt_xyzs,\n",
    "    dummy_element=dummy_element\n",
    ")"
   ]
  },
  {
   "cell_type": "code",
   "execution_count": 8,
   "id": "f0d10709-4cea-4a9b-a39b-a3501c2f4d6a",
   "metadata": {},
   "outputs": [],
   "source": [
    "with open(f'template_{anchor_type}_size={prompt_size}.yml', 'w') as fp:\n",
    "    yaml.safe_dump(asdict(template), fp)"
   ]
  },
  {
   "cell_type": "code",
   "execution_count": null,
   "id": "c9616151-cc9e-427f-bf8f-aaffc1884e50",
   "metadata": {},
   "outputs": [],
   "source": []
  }
 ],
 "metadata": {
  "kernelspec": {
   "display_name": "Python 3 (ipykernel)",
   "language": "python",
   "name": "python3"
  },
  "language_info": {
   "codemirror_mode": {
    "name": "ipython",
    "version": 3
   },
   "file_extension": ".py",
   "mimetype": "text/x-python",
   "name": "python",
   "nbconvert_exporter": "python",
   "pygments_lexer": "ipython3",
   "version": "3.10.8"
  }
 },
 "nbformat": 4,
 "nbformat_minor": 5
}
