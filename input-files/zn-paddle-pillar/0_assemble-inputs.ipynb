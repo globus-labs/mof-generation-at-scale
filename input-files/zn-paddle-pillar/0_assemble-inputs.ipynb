{
 "cells": [
  {
   "cell_type": "markdown",
   "id": "0d8cd199-2362-4ab5-be89-cc1198d190dd",
   "metadata": {},
   "source": [
    "# Assemble Inputs\n",
    "Get the inputs needed for a run"
   ]
  },
  {
   "cell_type": "code",
   "execution_count": null,
   "id": "9fa836dc-9c56-41da-8930-71435d91152b",
   "metadata": {},
   "outputs": [],
   "source": [
    "from mofa.model import MOFRecord, NodeDescription\n",
    "from dataclasses import asdict\n",
    "from pathlib import Path\n",
    "from shutil import copy\n",
    "import json"
   ]
  },
  {
   "cell_type": "markdown",
   "id": "29ed6f01-d2cd-4677-ac69-a5706f2ae327",
   "metadata": {},
   "source": [
    "## Make the MOF Record\n",
    "Get the geometry from the test directory"
   ]
  },
  {
   "cell_type": "code",
   "execution_count": null,
   "id": "b00024ef-f081-42b9-92a0-a0a37eb23b74",
   "metadata": {},
   "outputs": [],
   "source": [
    "node_path = '../../tests/files/assemble/nodes/zinc_paddle_pillar.xyz'"
   ]
  },
  {
   "cell_type": "code",
   "execution_count": null,
   "id": "62053bf8-ec35-4fc9-8172-11595f03d094",
   "metadata": {},
   "outputs": [],
   "source": [
    "node = NodeDescription(\n",
    "    xyz=Path(node_path).read_text(),\n",
    "    smiles='[Zn][O]([Zn])([Zn])[Zn]',  # Is this right?\n",
    ")"
   ]
  },
  {
   "cell_type": "code",
   "execution_count": null,
   "id": "ec9e9b4a-d919-475c-b73b-6b1e7be4d24c",
   "metadata": {},
   "outputs": [],
   "source": [
    "with open('node.json', 'w') as fp:\n",
    "    json.dump(asdict(node), fp, indent=2)"
   ]
  },
  {
   "cell_type": "markdown",
   "id": "968fa87a-00ff-4564-b761-ee0c68804456",
   "metadata": {},
   "source": [
    "## Copy over the Model\n",
    "Use the one in the test directory"
   ]
  },
  {
   "cell_type": "code",
   "execution_count": null,
   "id": "fd91f409-3616-4f66-8345-b4c7c2808123",
   "metadata": {},
   "outputs": [],
   "source": [
    "for name in ['geom_difflinker.ckpt', 'hMOF_frag_frag.sdf']:\n",
    "    copy(f'../../tests/files/difflinker/{name}', name)"
   ]
  },
  {
   "cell_type": "code",
   "execution_count": null,
   "id": "cc3161a4-8419-4cc4-b55d-6e04b2d5afba",
   "metadata": {},
   "outputs": [],
   "source": []
  }
 ],
 "metadata": {
  "kernelspec": {
   "display_name": "Python 3 (ipykernel)",
   "language": "python",
   "name": "python3"
  },
  "language_info": {
   "codemirror_mode": {
    "name": "ipython",
    "version": 3
   },
   "file_extension": ".py",
   "mimetype": "text/x-python",
   "name": "python",
   "nbconvert_exporter": "python",
   "pygments_lexer": "ipython3",
   "version": "3.10.13"
  }
 },
 "nbformat": 4,
 "nbformat_minor": 5
}
